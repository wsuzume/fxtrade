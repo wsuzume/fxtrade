{
 "cells": [
  {
   "cell_type": "code",
   "execution_count": 1,
   "id": "f903e89d-dec8-4013-a9b0-cd5237b40efe",
   "metadata": {},
   "outputs": [],
   "source": [
    "%load_ext autoreload"
   ]
  },
  {
   "cell_type": "code",
   "execution_count": 2,
   "id": "ab47ddee-5d88-44d4-b802-5524f668460b",
   "metadata": {},
   "outputs": [],
   "source": [
    "import sys\n",
    "\n",
    "if '../' not in sys.path:\n",
    "    sys.path.append('../')"
   ]
  },
  {
   "cell_type": "code",
   "execution_count": 3,
   "id": "af254d92-231c-4d3a-bde7-6745d9f66e13",
   "metadata": {},
   "outputs": [],
   "source": [
    "import numpy as np\n",
    "import pandas as pd\n",
    "\n",
    "from datetime import datetime, timedelta\n",
    "from fractions import Fraction"
   ]
  },
  {
   "cell_type": "code",
   "execution_count": 4,
   "id": "6ad495d8-dd20-4209-8106-20d89f5166ac",
   "metadata": {},
   "outputs": [
    {
     "data": {
      "text/plain": [
       "'/home/jovyan/.config/keyhold/keys.json'\n",
       "{\n",
       "  \"yahoo\": {\n",
       "    \"x-api-key\": \"mz4P************************************\"\n",
       "  },\n",
       "  \"cryptowatch\": {\n",
       "    \"x-cw-api-key\": \"WLWU****************\",\n",
       "    \"api_secret\": \"TOFt************************************\"\n",
       "  },\n",
       "  \"bitflyer\": {\n",
       "    \"api_key\": \"ULkE******************\",\n",
       "    \"api_secret\": \"IYGp****************************************\"\n",
       "  },\n",
       "  \"twitter\": {\n",
       "    \"consumer_key\": \"pt4B*********************\",\n",
       "    \"consumer_secret\": \"5ciB**********************************************\",\n",
       "    \"api_key\": \"1218**********************************************\",\n",
       "    \"api_secret\": \"MJJk*****************************************\",\n",
       "    \"bearer_token\": \"AAAA************************************************************************************************************\"\n",
       "  }\n",
       "}"
      ]
     },
     "execution_count": 4,
     "metadata": {},
     "output_type": "execute_result"
    }
   ],
   "source": [
    "%autoreload\n",
    "from fxtrade.keyhold import KeyHold\n",
    "\n",
    "key_config = KeyHold()\n",
    "key_config"
   ]
  },
  {
   "cell_type": "code",
   "execution_count": 5,
   "id": "20900754-3e51-4b6c-9d1e-1d039c054d69",
   "metadata": {},
   "outputs": [],
   "source": [
    "%autoreload\n",
    "\n",
    "from fxtrade.api import CodePair, CrangePeriod\n",
    "from fxtrade.stock import Stock, Rate\n",
    "from fxtrade.trade import Trade, TradePair, History, Report\n",
    "from fxtrade.stocks import JPY, BTC\n",
    "\n",
    "from fxtrade.interface.cryptowatch import CryptowatchAPI\n",
    "from fxtrade.interface.bitflyer import BitflyerAPI\n",
    "\n",
    "from fxtrade.wallet import Wallet\n",
    "from fxtrade.chart import ChartDummyAPI, Board, Chart\n",
    "from fxtrade.trader import TraderDummyAPI, Trader\n",
    "from fxtrade.fx import FX"
   ]
  },
  {
   "cell_type": "code",
   "execution_count": null,
   "id": "9df77975-a896-462c-9a14-13d1266b6a18",
   "metadata": {},
   "outputs": [],
   "source": []
  },
  {
   "cell_type": "code",
   "execution_count": 6,
   "id": "80401c65-105f-4816-b5f2-81876402023e",
   "metadata": {},
   "outputs": [],
   "source": [
    "# チャート取得のための API を指定\n",
    "chart_api = CryptowatchAPI(api_key=key_config['cryptowatch']['x-cw-api-key'])\n",
    "\n",
    "# チャートを管理するクラスの生成\n",
    "chart = Chart(chart_api,\n",
    "              code_pair=CodePair('JPY', 'BTC'),\n",
    "              data_dir='../data/chart',\n",
    "              crange_period=[CrangePeriod('max', '15m')], #crange_interval=['10y-1d', '1mo-15m', '5d-1m']\n",
    "             )"
   ]
  },
  {
   "cell_type": "code",
   "execution_count": 7,
   "id": "1b12008a-0e37-4bd6-b7a5-aaa7e7f2b321",
   "metadata": {},
   "outputs": [],
   "source": [
    "# 取引のための API を指定\n",
    "trader_api = BitflyerAPI(api_key=key_config['bitflyer']['api_key'],\n",
    "                        api_secret=key_config['bitflyer']['api_secret'])\n",
    "\n",
    "#hist = trade_api.get_history(start_date=pd.Timestamp(2021, 12, 1))\n",
    "\n",
    "# 取引を管理するクラスの生成\n",
    "trader = Trader(\n",
    "            api=trader_api,\n",
    "            code_pair=CodePair('JPY', 'USD'),\n",
    "            chart=chart,\n",
    "            history=None,\n",
    "            data_dir='../data/trader',\n",
    "         )"
   ]
  },
  {
   "cell_type": "code",
   "execution_count": 8,
   "id": "dbce36e4-dca1-4680-a689-f2ab8855a2df",
   "metadata": {},
   "outputs": [],
   "source": [
    "fx = FX(name='trader1', origin='JPY', chart_api=chart_api, trader_api=trader_api, data_dir='../data')"
   ]
  },
  {
   "cell_type": "code",
   "execution_count": 9,
   "id": "39cc4876-5a83-432d-8eb3-9dd1cf9e8ac9",
   "metadata": {},
   "outputs": [
    {
     "data": {
      "text/plain": [
       "True"
      ]
     },
     "execution_count": 9,
     "metadata": {},
     "output_type": "execute_result"
    }
   ],
   "source": [
    "fx.wallet == Wallet()"
   ]
  },
  {
   "cell_type": "code",
   "execution_count": 10,
   "id": "8d81ed29-4024-43b8-81e2-c0348e37d260",
   "metadata": {},
   "outputs": [],
   "source": [
    "fx.generate_client('BTC', crange_period=[CrangePeriod('max', '15m')])"
   ]
  },
  {
   "cell_type": "code",
   "execution_count": 11,
   "id": "5bb5914c-a785-4236-bc8b-a1fa8c6d835e",
   "metadata": {},
   "outputs": [
    {
     "data": {
      "text/plain": [
       "FX(name='trader1',\n",
       "    origin='JPY',\n",
       "    data_dir='../data/trader1',\n",
       "    markets={\n",
       "        'BTC': Trader(api=BitflyerAPI(api_key='ULkE...', api_secret='IYGp...'),\n",
       "            code_pair=CodePair(base='BTC', quote='JPY'),\n",
       "            data_dir='../data/trader1/trader',\n",
       "            wallet=Wallet({\n",
       "                'BTC': Stock(BTC, 0),\n",
       "                'JPY': Stock(JPY, 0),\n",
       "            }),\n",
       "            chart=Chart(api=CryptowatchAPI(api_key='WLWU...'),\n",
       "                code_pair=CodePair(base='BTC', quote='JPY'),\n",
       "                data_dir='../data/trader1/chart',\n",
       "                crange_period=[CrangePeriod(crange='max', period='15m')],\n",
       "                board={\n",
       "                    'CrangePeriod(crange='max', period='15m')': Board(api=CryptowatchAPI(api_key='WLWU...'),\n",
       "                        code_pair='CodePair(base='BTC', quote='JPY')',\n",
       "                        crange_period='CrangePeriod(crange='max', period='15m')',\n",
       "                        interval=None,\n",
       "                        first_updated=None,\n",
       "                        last_updated=None,\n",
       "                    ),\n",
       "                }\n",
       "            )\n",
       "        ),\n",
       "    }\n",
       ")"
      ]
     },
     "execution_count": 11,
     "metadata": {},
     "output_type": "execute_result"
    }
   ],
   "source": [
    "fx"
   ]
  },
  {
   "cell_type": "code",
   "execution_count": 12,
   "id": "6ba13b1d-edc8-4a42-8572-1633c947ddde",
   "metadata": {},
   "outputs": [
    {
     "data": {
      "text/plain": [
       "FX(name='emulator1',\n",
       "    origin='JPY',\n",
       "    data_dir='../data/emulator1',\n",
       "    markets={\n",
       "        'BTC': Trader(api=TraderEmulatorAPI(api=BitflyerAPI, source_dir='../data/trader1/trader'),\n",
       "            code_pair=CodePair(base='BTC', quote='JPY'),\n",
       "            data_dir='../data/emulator1/trader',\n",
       "            wallet=Wallet({\n",
       "                'BTC': Stock(BTC, 0),\n",
       "                'JPY': Stock(JPY, 0),\n",
       "            }),\n",
       "            chart=Chart(api=ChartEmulatorAPI(api=CryptowatchAPI, source_dir='../data/trader1/chart'),\n",
       "                code_pair=CodePair(base='BTC', quote='JPY'),\n",
       "                data_dir='../data/emulator1/chart',\n",
       "                crange_period=[CrangePeriod(crange='max', period='15m')],\n",
       "                board={\n",
       "                    'CrangePeriod(crange='max', period='15m')': Board(api=ChartEmulatorAPI(api=CryptowatchAPI, source_dir='../data/trader1/chart'),\n",
       "                        code_pair='CodePair(base='BTC', quote='JPY')',\n",
       "                        crange_period='CrangePeriod(crange='max', period='15m')',\n",
       "                        interval=None,\n",
       "                        first_updated=None,\n",
       "                        last_updated=None,\n",
       "                    ),\n",
       "                }\n",
       "            )\n",
       "        ),\n",
       "    }\n",
       ")"
      ]
     },
     "execution_count": 12,
     "metadata": {},
     "output_type": "execute_result"
    }
   ],
   "source": [
    "fx.create_emulator(name='emulator1')"
   ]
  },
  {
   "cell_type": "code",
   "execution_count": 13,
   "id": "16dcfe4b-0b78-410a-9f3e-f985212c9e14",
   "metadata": {},
   "outputs": [
    {
     "name": "stderr",
     "output_type": "stream",
     "text": [
      "| trader1 | 2023-02-08 01:00:51 +0900 | INFO : hoge |\n"
     ]
    }
   ],
   "source": [
    "fx.logger.info(\"hoge\")"
   ]
  },
  {
   "cell_type": "code",
   "execution_count": 14,
   "id": "602bdc01-31be-41c2-853f-7287f2f2d18b",
   "metadata": {},
   "outputs": [
    {
     "data": {
      "text/plain": [
       "Wallet({'BTC': Stock(BTC, 0), 'JPY': Stock(JPY, 0)})"
      ]
     },
     "execution_count": 14,
     "metadata": {},
     "output_type": "execute_result"
    }
   ],
   "source": [
    "fx.wallet"
   ]
  },
  {
   "cell_type": "code",
   "execution_count": 15,
   "id": "c3adf23c-f7c0-4bcf-b7da-c3d0aef38532",
   "metadata": {},
   "outputs": [
    {
     "name": "stderr",
     "output_type": "stream",
     "text": [
      "| trader1 | 2023-02-08 01:00:51 +0900 | INFO : FX['BTC'] save_wallet() -> '../data/trader1/trader/wallet.csv'. |\n"
     ]
    }
   ],
   "source": [
    "fx.save_wallet(append=True)"
   ]
  },
  {
   "cell_type": "code",
   "execution_count": 16,
   "id": "99a79a6e-d4e4-41ad-b370-8ef4d05b348d",
   "metadata": {},
   "outputs": [
    {
     "name": "stderr",
     "output_type": "stream",
     "text": [
      "| trader1 | 2023-02-08 01:00:51 +0900 | INFO : FX save_wallet() ... no trader to save. |\n"
     ]
    }
   ],
   "source": [
    "fx.save_wallet([])"
   ]
  },
  {
   "cell_type": "code",
   "execution_count": 17,
   "id": "2a9126a9-1980-497a-9416-0fd3c508518f",
   "metadata": {},
   "outputs": [
    {
     "data": {
      "text/plain": [
       "(Wallet({'BTC': Stock(BTC, 0), 'JPY': Stock(JPY, 0)}),\n",
       " Timestamp('2023-02-08 01:00:52'))"
      ]
     },
     "execution_count": 17,
     "metadata": {},
     "output_type": "execute_result"
    }
   ],
   "source": [
    "fx['BTC'].read_wallet(return_t=True)"
   ]
  },
  {
   "cell_type": "code",
   "execution_count": 18,
   "id": "b7f8b87c-8d69-4d7f-b332-b7b1cbfdb4f4",
   "metadata": {},
   "outputs": [
    {
     "data": {
      "text/plain": [
       "Wallet({'BTC': Stock(BTC, 0), 'JPY': Stock(JPY, 0)})"
      ]
     },
     "execution_count": 18,
     "metadata": {},
     "output_type": "execute_result"
    }
   ],
   "source": [
    "fx['BTC'].wallet"
   ]
  },
  {
   "cell_type": "code",
   "execution_count": 19,
   "id": "f211d334-ec86-45d4-9850-3c8b0e762132",
   "metadata": {},
   "outputs": [
    {
     "data": {
      "text/plain": [
       "Wallet({'BTC': Stock(BTC, 0), 'JPY': Stock(JPY, 0)})"
      ]
     },
     "execution_count": 19,
     "metadata": {},
     "output_type": "execute_result"
    }
   ],
   "source": [
    "fx['BTC'].load_wallet()"
   ]
  },
  {
   "cell_type": "code",
   "execution_count": 20,
   "id": "09412f3c-dcee-48a4-ba6d-1df274abb7ac",
   "metadata": {},
   "outputs": [
    {
     "data": {
      "text/plain": [
       "Wallet({'BTC': Stock(BTC, 0), 'JPY': Stock(JPY, 0)})"
      ]
     },
     "execution_count": 20,
     "metadata": {},
     "output_type": "execute_result"
    }
   ],
   "source": [
    "fx['BTC'].wallet"
   ]
  },
  {
   "cell_type": "code",
   "execution_count": 21,
   "id": "31fb1926-a071-499a-abc2-cd24cd716c06",
   "metadata": {},
   "outputs": [
    {
     "data": {
      "text/plain": [
       "Wallet({'JPY': Stock(JPY, 115411), 'BTC': Stock(BTC, 33/50000000), 'BCH': Stock(BCH, 0), 'ETH': Stock(ETH, 0), 'ETC': Stock(ETC, 0), 'LTC': Stock(LTC, 0), 'MONA': Stock(MONA, 0), 'LSK': Stock(LSK, 0), 'XRP': Stock(XRP, 0), 'BAT': Stock(BAT, 0), 'XLM': Stock(XLM, 0), 'XEM': Stock(XEM, 0), 'XTZ': Stock(XTZ, 0), 'DOT': Stock(DOT, 0), 'LINK': Stock(LINK, 0), 'XYM': Stock(XYM, 0), 'MATIC': Stock(MATIC, 0), 'MKR': Stock(MKR, 0), 'ZPG': Stock(ZPG, 0), 'FLR': Stock(FLR, 0)})"
      ]
     },
     "execution_count": 21,
     "metadata": {},
     "output_type": "execute_result"
    }
   ],
   "source": [
    "fx['BTC'].download_wallet()"
   ]
  },
  {
   "cell_type": "markdown",
   "id": "daf1428a-c0fb-46e4-8e3e-fb6a85b4c269",
   "metadata": {},
   "source": [
    "次、Wallet のテスト書くとこから"
   ]
  },
  {
   "cell_type": "code",
   "execution_count": 22,
   "id": "4c298593-bd91-4410-9ddc-a58c152c8d45",
   "metadata": {},
   "outputs": [
    {
     "ename": "RuntimeError",
     "evalue": "No active exception to reraise",
     "output_type": "error",
     "traceback": [
      "\u001b[0;31m---------------------------------------------------------------------------\u001b[0m",
      "\u001b[0;31mRuntimeError\u001b[0m                              Traceback (most recent call last)",
      "Cell \u001b[0;32mIn[22], line 1\u001b[0m\n\u001b[0;32m----> 1\u001b[0m \u001b[38;5;28;01mraise\u001b[39;00m\n",
      "\u001b[0;31mRuntimeError\u001b[0m: No active exception to reraise"
     ]
    }
   ],
   "source": [
    "raise"
   ]
  },
  {
   "cell_type": "code",
   "execution_count": null,
   "id": "c3ad7ab2-cef0-4aaf-b188-ab48d3ba8f7b",
   "metadata": {},
   "outputs": [],
   "source": [
    "#fx['BTC'].chart['max-15m'].download()"
   ]
  },
  {
   "cell_type": "code",
   "execution_count": null,
   "id": "37730033-6b97-4dec-9126-80a40b36e886",
   "metadata": {},
   "outputs": [],
   "source": [
    "chart = Chart(api=ChartDummyAPI(),\n",
    "          code_pair=CodePair('BTC', 'JPY'),\n",
    "          data_dir='../data/chart',\n",
    "          crange_period=[CrangePeriod('max', '15m')],\n",
    "        )"
   ]
  },
  {
   "cell_type": "code",
   "execution_count": null,
   "id": "c992a989-6c3a-4c1c-8950-829d56d88747",
   "metadata": {},
   "outputs": [],
   "source": [
    "chart._to_crange_period_dict([CrangePeriod('max', '15m')])"
   ]
  },
  {
   "cell_type": "code",
   "execution_count": null,
   "id": "b2b8226d-d941-4f1f-855a-5d25f4d230e5",
   "metadata": {},
   "outputs": [],
   "source": [
    "chart._to_crange_period_dict({\n",
    "    'max-15m': ...,\n",
    "    CrangePeriod('max', '1m'): ...,\n",
    "})"
   ]
  },
  {
   "cell_type": "code",
   "execution_count": null,
   "id": "c4adfce2-4f22-4801-a60b-2e9a12bfecf6",
   "metadata": {},
   "outputs": [],
   "source": [
    "from fxtrade.logger import Logger"
   ]
  },
  {
   "cell_type": "code",
   "execution_count": null,
   "id": "4e8bf2c7-144e-4b9f-b4e0-61e74129bd8c",
   "metadata": {},
   "outputs": [],
   "source": [
    "logger = Logger('myapp', './log/log')"
   ]
  },
  {
   "cell_type": "code",
   "execution_count": null,
   "id": "3dbec3a1-06ef-44ca-9545-d2e67aa24aa2",
   "metadata": {},
   "outputs": [],
   "source": [
    "logger._logger"
   ]
  },
  {
   "cell_type": "code",
   "execution_count": null,
   "id": "cdcd3e2f-0607-4a82-97ce-685b9c4bb7a7",
   "metadata": {},
   "outputs": [],
   "source": [
    "logger._logger.debug('hoge')"
   ]
  },
  {
   "cell_type": "code",
   "execution_count": null,
   "id": "573648d5-354b-4308-8964-13fe01e351b3",
   "metadata": {},
   "outputs": [],
   "source": [
    "logger._logger.warning('hoge')"
   ]
  },
  {
   "cell_type": "code",
   "execution_count": null,
   "id": "69ba43d5-dd2c-45a9-866d-ee11a2a67c11",
   "metadata": {},
   "outputs": [],
   "source": [
    "# 'application' code\n",
    "logger.debug('debug message')\n",
    "logger.info('info message')\n",
    "logger.warning('warn message')\n",
    "logger.error('error message')\n",
    "logger.critical('critical message')"
   ]
  },
  {
   "cell_type": "code",
   "execution_count": null,
   "id": "6a93ba4c-ab57-4023-ae89-5b2dc3d096e1",
   "metadata": {},
   "outputs": [],
   "source": [
    "from datetime import datetime\n",
    "datetime.now()"
   ]
  },
  {
   "cell_type": "markdown",
   "id": "8b220396-e05a-4df7-ae94-745001c8353a",
   "metadata": {
    "tags": []
   },
   "source": [
    "# ダウンロードのとこから"
   ]
  },
  {
   "cell_type": "code",
   "execution_count": null,
   "id": "8e554000-01fa-487c-988b-50a332a6333a",
   "metadata": {
    "tags": []
   },
   "outputs": [],
   "source": [
    "raise"
   ]
  },
  {
   "cell_type": "code",
   "execution_count": null,
   "id": "836cb709-7ede-422e-8ffa-72c086098e05",
   "metadata": {},
   "outputs": [],
   "source": [
    "# チャート取得のための API を指定\n",
    "chart_api = YahooFinanceAPI(api_key=key_config['yahoo']['x-api-key'])\n",
    "\n",
    "# チャートを管理するクラスの生成\n",
    "chart = Chart(\n",
    "            ticker='BTC-JPY',\n",
    "            api=chart_api,\n",
    "            data_dir='../data/chart',\n",
    "        )"
   ]
  },
  {
   "cell_type": "code",
   "execution_count": null,
   "id": "f7ef40ee-0c44-4eff-a350-452aa62cb679",
   "metadata": {},
   "outputs": [],
   "source": [
    "# 取引のための API を指定\n",
    "trade_api = BitflyerAPI(api_key=key_config['bitflyer']['api_key'],\n",
    "                        api_secret=key_config['bitflyer']['api_secret'])\n",
    "\n",
    "#hist = trade_api.get_history(start_date=pd.Timestamp(2021, 12, 1))\n",
    "\n",
    "# 取引を管理するクラスの生成\n",
    "trader = Trader(\n",
    "            api=trade_api,\n",
    "            history=None,\n",
    "            data_dir='../data/trader',\n",
    "         )"
   ]
  },
  {
   "cell_type": "code",
   "execution_count": null,
   "id": "b23c1582-cb8c-4525-937f-a7f8157ec430",
   "metadata": {},
   "outputs": [],
   "source": [
    "wallet = Wallet(['JPY', 'BTC'])\n",
    "wallet"
   ]
  },
  {
   "cell_type": "code",
   "execution_count": null,
   "id": "d01de2c6-a2b5-4b4b-9cd9-360e0cb039e4",
   "metadata": {},
   "outputs": [],
   "source": [
    "# 取引アルゴリズムを統括するためのクラスを生成\n",
    "fx = FX(wallet=wallet, chart=chart, trader=trader)\n",
    "fx"
   ]
  },
  {
   "cell_type": "code",
   "execution_count": null,
   "id": "0004557b-3c96-4f8a-9a98-55b6541a0dea",
   "metadata": {},
   "outputs": [],
   "source": [
    "fx.chart.dirmap"
   ]
  },
  {
   "cell_type": "code",
   "execution_count": null,
   "id": "70c3a3cd-519f-4119-aed4-87d6589cd078",
   "metadata": {},
   "outputs": [],
   "source": [
    "fx.wallet"
   ]
  },
  {
   "cell_type": "code",
   "execution_count": null,
   "id": "bf447573-82c6-41d8-9aff-7c58fef92aff",
   "metadata": {},
   "outputs": [],
   "source": [
    "fx.sync_wallet(codes={'JPY', 'BTC'})"
   ]
  },
  {
   "cell_type": "code",
   "execution_count": null,
   "id": "89faa0bb-f641-4f1c-a83d-8155698d00da",
   "metadata": {},
   "outputs": [],
   "source": [
    "fx.wallet"
   ]
  },
  {
   "cell_type": "code",
   "execution_count": null,
   "id": "633fe7eb-73b0-4005-9faf-d75ae4282089",
   "metadata": {},
   "outputs": [],
   "source": [
    "fx"
   ]
  },
  {
   "cell_type": "code",
   "execution_count": null,
   "id": "82c998da-2149-4c03-adce-dbcda8187d02",
   "metadata": {},
   "outputs": [],
   "source": [
    "hist = fx.trader.get_history(start_date=datetime(2022, 2, 1))"
   ]
  },
  {
   "cell_type": "code",
   "execution_count": null,
   "id": "5722d134-3a0e-42b2-9353-fececcfb195c",
   "metadata": {},
   "outputs": [],
   "source": [
    "hist.summarize().applymap(lambda x: x if not isinstance(x, Fraction) else float(x))"
   ]
  },
  {
   "cell_type": "code",
   "execution_count": null,
   "id": "641d80a7-4573-4860-95d2-924d212f145b",
   "metadata": {},
   "outputs": [],
   "source": [
    "trade = fx.get_max_available()\n",
    "trade"
   ]
  },
  {
   "cell_type": "code",
   "execution_count": null,
   "id": "631b91f0-85b0-4d36-8f39-ea5e17072c1d",
   "metadata": {},
   "outputs": [],
   "source": [
    "trade = fx.get_max_salable()\n",
    "trade"
   ]
  },
  {
   "cell_type": "code",
   "execution_count": null,
   "id": "5ad5cf76-399a-494a-9267-989028166598",
   "metadata": {},
   "outputs": [],
   "source": [
    "fx.get_last_trade()"
   ]
  },
  {
   "cell_type": "code",
   "execution_count": null,
   "id": "b5b19af5-65f7-4d56-82c6-8a147da4f0b6",
   "metadata": {},
   "outputs": [],
   "source": [
    "UPDATE = False\n",
    "\n",
    "if UPDATE:\n",
    "    fx.chart.update()\n",
    "    fx.chart.save()\n",
    "else:\n",
    "    fx.chart.load()"
   ]
  },
  {
   "cell_type": "code",
   "execution_count": null,
   "id": "f9c1d36a-b586-4108-850a-4c403071b661",
   "metadata": {},
   "outputs": [],
   "source": [
    "fx.chart.dfs"
   ]
  },
  {
   "cell_type": "code",
   "execution_count": null,
   "id": "86e325fb-71d6-4f4d-bacb-3ffa426fbe65",
   "metadata": {},
   "outputs": [],
   "source": [
    "fx = fx.create_emulator(root_dir='../data/emulator')"
   ]
  },
  {
   "cell_type": "code",
   "execution_count": null,
   "id": "772f77aa-df52-4231-8547-c92107c2e436",
   "metadata": {},
   "outputs": [],
   "source": [
    "fx.chart.dfs"
   ]
  },
  {
   "cell_type": "code",
   "execution_count": null,
   "id": "a1bb0fa3-5eb0-45d6-86dd-fec74ed23d81",
   "metadata": {},
   "outputs": [],
   "source": [
    "fx.chart.download('1mo-15m')"
   ]
  },
  {
   "cell_type": "code",
   "execution_count": null,
   "id": "d3c7408e-1964-4e2c-b4f1-6390bb818fdf",
   "metadata": {},
   "outputs": [],
   "source": [
    "fx.chart.flush()\n",
    "fx.chart.dfs"
   ]
  },
  {
   "cell_type": "markdown",
   "id": "7f575f33-1789-4b96-8769-10144bdb8fd5",
   "metadata": {},
   "source": [
    "# 確認"
   ]
  },
  {
   "cell_type": "code",
   "execution_count": null,
   "id": "56e3ccdf-60cb-47d2-831a-1663ae734282",
   "metadata": {},
   "outputs": [],
   "source": [
    "#_ = fx.chart.update(t=datetime(2022, 7, 14, 17, 15))\n",
    "_ = fx.chart.update(t=datetime(2022, 8, 20, 17, 15))"
   ]
  },
  {
   "cell_type": "code",
   "execution_count": null,
   "id": "5c0d35c3-5e78-4973-80ac-f6d4f9561e94",
   "metadata": {},
   "outputs": [],
   "source": [
    "fx.chart['10y-1d']"
   ]
  },
  {
   "cell_type": "code",
   "execution_count": null,
   "id": "14d32ada-1af1-4f64-a533-a4dc94f71d36",
   "metadata": {},
   "outputs": [],
   "source": [
    "fx.chart['5d-1m']"
   ]
  },
  {
   "cell_type": "code",
   "execution_count": null,
   "id": "e3a282ec-1d92-4994-b5b5-272763508f9f",
   "metadata": {},
   "outputs": [],
   "source": [
    "fx.chart.normalize()"
   ]
  },
  {
   "cell_type": "code",
   "execution_count": null,
   "id": "7f124abf-2903-4e90-b6c2-38f6d1830254",
   "metadata": {},
   "outputs": [],
   "source": [
    "%autoreload\n",
    "\n",
    "from fxtrade.analysis import *"
   ]
  },
  {
   "cell_type": "code",
   "execution_count": null,
   "id": "2f465567-58fa-4c62-ba06-fbd1a73701a1",
   "metadata": {},
   "outputs": [],
   "source": [
    "chart = fx.chart.dfs['1mo-15m']\n",
    "\n",
    "low = chart['low']\n",
    "high = chart['high']\n",
    "glow = emaverage(low, 0.87, pd.Timedelta(minutes=15))"
   ]
  },
  {
   "cell_type": "code",
   "execution_count": null,
   "id": "8e188fe3-b629-46e1-b9ff-c66c81843b8a",
   "metadata": {},
   "outputs": [],
   "source": [
    "fx.chart.normalize('1mo-15m')"
   ]
  },
  {
   "cell_type": "code",
   "execution_count": null,
   "id": "32dcef0c-18cb-49bb-8977-842b4e6142dc",
   "metadata": {},
   "outputs": [],
   "source": [
    "df_a = analyze(fx.chart['1mo-15m']['low'])\n",
    "df_a"
   ]
  },
  {
   "cell_type": "code",
   "execution_count": null,
   "id": "acdfeaac-be79-4e43-9d7f-81df3f4f618e",
   "metadata": {},
   "outputs": [],
   "source": [
    "plot_laplace(df_a['diff'])"
   ]
  },
  {
   "cell_type": "code",
   "execution_count": null,
   "id": "4d60b6a7-d8a0-4ba5-b4da-496591e14b09",
   "metadata": {},
   "outputs": [],
   "source": [
    "estimate_probability(df_a['diff'], 1)"
   ]
  },
  {
   "cell_type": "markdown",
   "id": "f034c011-702b-4485-aa17-5374bf9aa9c9",
   "metadata": {},
   "source": [
    "# 自動取引アルゴリズム"
   ]
  },
  {
   "cell_type": "code",
   "execution_count": null,
   "id": "5041b951-c325-44f8-8027-2cd59ed7cf2a",
   "metadata": {},
   "outputs": [],
   "source": [
    "%autoreload\n",
    "from fxtrade.algorithm.tenet import calc_zpc, calc_best_alpha, Tenet"
   ]
  },
  {
   "cell_type": "code",
   "execution_count": null,
   "id": "c0dd11b9-7b36-4076-8dc4-91ffa650b792",
   "metadata": {},
   "outputs": [],
   "source": [
    "fx.chart.normalize('1mo-15m')\n",
    "\n",
    "df = analyze(fx.chart['1mo-15m']['low'])\n",
    "df"
   ]
  },
  {
   "cell_type": "code",
   "execution_count": null,
   "id": "71c0c33d-cb4e-400d-8f22-1a39ee4211d5",
   "metadata": {},
   "outputs": [],
   "source": [
    "loc, scale = estimate_laplace_param(df['diff'].iloc[-100:])\n",
    "loc, scale"
   ]
  },
  {
   "cell_type": "raw",
   "id": "3c06e796-1dfd-44a4-8d7b-d4f19a576af1",
   "metadata": {},
   "source": [
    "np.linspace(0.6, 0.9, 61)\n",
    "calc_zpc(df['log'], dt, alphas=np.linspace(0.6, 0.9, 61))\n",
    "zpc = calc_zpc(df['log'], dt, alphas=np.linspace(0.6, 0.9, 61))\n",
    "\n",
    "best_alpha = calc_best_alpha(df['log'], dt, alphas=np.linspace(0.6, 0.9, 61))\n",
    "best_alpha"
   ]
  },
  {
   "cell_type": "code",
   "execution_count": null,
   "id": "24c7bf41-34b6-49c0-b79c-f3fadfb5373e",
   "metadata": {},
   "outputs": [],
   "source": [
    "crange_interval = '1mo-15m'\n",
    "dt = pd.Timedelta(minutes=15)"
   ]
  },
  {
   "cell_type": "code",
   "execution_count": null,
   "id": "3121e37c-c1f2-4f79-b527-2bac8533f210",
   "metadata": {},
   "outputs": [],
   "source": [
    "tenet = Tenet(crange_interval=crange_interval, dt=dt, window=3, alpha=0.87)"
   ]
  },
  {
   "cell_type": "code",
   "execution_count": null,
   "id": "d94057ae-dbb4-483b-be8c-8e00131f5b76",
   "metadata": {},
   "outputs": [],
   "source": [
    "tenet.analyze(fx)"
   ]
  },
  {
   "cell_type": "markdown",
   "id": "09d4a307-538e-4cc7-aa96-789f23530a30",
   "metadata": {},
   "source": [
    "### 買い時\n",
    "* アップトレンドかつ平均より下かつ暴落ではない\n",
    "* アップトレンドかつ暴騰中（大きく張る）\n",
    "* アップトレンドかつ暴落終了直後\n",
    "* ダウントレンドかつ暴落終了後の暴騰（大きく張る）\n",
    "\n",
    "### 売り時\n",
    "* 暴騰終了直後\n",
    "* 暴落開始"
   ]
  },
  {
   "cell_type": "code",
   "execution_count": null,
   "id": "6c30a665-16f5-4a10-8f85-e289c1b760aa",
   "metadata": {},
   "outputs": [],
   "source": [
    "tenet.plot()"
   ]
  },
  {
   "cell_type": "code",
   "execution_count": null,
   "id": "6f8910ec-f5b1-48e1-80ce-e4c66bf71572",
   "metadata": {},
   "outputs": [],
   "source": [
    "tenet.df_low.iloc[[-1]]"
   ]
  },
  {
   "cell_type": "code",
   "execution_count": null,
   "id": "3e2ca050-a1d9-4f38-a605-b52857b2df3b",
   "metadata": {},
   "outputs": [],
   "source": [
    "trade = tenet(fx)\n",
    "trade"
   ]
  },
  {
   "cell_type": "code",
   "execution_count": null,
   "id": "5211c327-747c-4a8f-9cb6-54b9737b43a6",
   "metadata": {},
   "outputs": [],
   "source": [
    "fx.apply(tenet)"
   ]
  },
  {
   "cell_type": "code",
   "execution_count": null,
   "id": "66660d55-4150-4c3f-8eee-4cb2f8137721",
   "metadata": {},
   "outputs": [],
   "source": [
    "try:\n",
    "    fx.order(trade)\n",
    "except ValueError as e:\n",
    "    print('No order was made:', e)"
   ]
  },
  {
   "cell_type": "code",
   "execution_count": null,
   "id": "8b8a9e02-e071-4d66-a127-b6bdf339c941",
   "metadata": {},
   "outputs": [],
   "source": [
    "trade"
   ]
  },
  {
   "cell_type": "code",
   "execution_count": null,
   "id": "37b2c8c8-922d-4c04-9673-646be42f7310",
   "metadata": {},
   "outputs": [],
   "source": [
    "fx.trader.chart"
   ]
  },
  {
   "cell_type": "code",
   "execution_count": null,
   "id": "62f6130e-2df2-44a1-9876-d9bf82738174",
   "metadata": {},
   "outputs": [],
   "source": [
    "#fx.sell(fx.get_max_salable())"
   ]
  },
  {
   "cell_type": "code",
   "execution_count": null,
   "id": "a159f49d-fa51-4340-a51b-77a68cdb01d1",
   "metadata": {},
   "outputs": [],
   "source": [
    "#fx.execute(tenet)"
   ]
  },
  {
   "cell_type": "code",
   "execution_count": null,
   "id": "fe86bc28-1f4d-4038-995a-db219dd28e9d",
   "metadata": {},
   "outputs": [],
   "source": [
    "#fx.buy(trade)"
   ]
  },
  {
   "cell_type": "code",
   "execution_count": null,
   "id": "de6f62de-53e4-46e8-8892-a0ec5e204d47",
   "metadata": {},
   "outputs": [],
   "source": [
    "#resp = fx.trader.api.buy(float(trade.y.q))\n",
    "#resp"
   ]
  },
  {
   "cell_type": "code",
   "execution_count": null,
   "id": "11b1161a-8980-47bb-9383-57167965782c",
   "metadata": {},
   "outputs": [],
   "source": [
    "# sel = tenet.sell(fx)"
   ]
  },
  {
   "cell_type": "code",
   "execution_count": null,
   "id": "17df8e44-0299-4e0a-9a65-ad9985f9a01b",
   "metadata": {},
   "outputs": [],
   "source": [
    "# sel"
   ]
  },
  {
   "cell_type": "code",
   "execution_count": null,
   "id": "b63dd57f-fe0a-4b19-8b69-c6e5b27e5639",
   "metadata": {},
   "outputs": [],
   "source": [
    "# fx.trader.api.sell(float(sel.x.q))"
   ]
  },
  {
   "cell_type": "code",
   "execution_count": null,
   "id": "bd777396-629d-4d68-afe6-a5009d501467",
   "metadata": {},
   "outputs": [],
   "source": []
  },
  {
   "cell_type": "code",
   "execution_count": null,
   "id": "df0c1c9d-b3ea-43ce-a4fb-7f560d988517",
   "metadata": {},
   "outputs": [],
   "source": []
  }
 ],
 "metadata": {
  "kernelspec": {
   "display_name": "Python 3 (ipykernel)",
   "language": "python",
   "name": "python3"
  },
  "language_info": {
   "codemirror_mode": {
    "name": "ipython",
    "version": 3
   },
   "file_extension": ".py",
   "mimetype": "text/x-python",
   "name": "python",
   "nbconvert_exporter": "python",
   "pygments_lexer": "ipython3",
   "version": "3.10.6"
  }
 },
 "nbformat": 4,
 "nbformat_minor": 5
}
