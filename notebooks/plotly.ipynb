{
 "cells": [
  {
   "cell_type": "code",
   "execution_count": 1,
   "id": "f903e89d-dec8-4013-a9b0-cd5237b40efe",
   "metadata": {},
   "outputs": [],
   "source": [
    "%load_ext autoreload"
   ]
  },
  {
   "cell_type": "code",
   "execution_count": 2,
   "id": "8ebf1be0-b4cb-43fd-8a64-9659e91f64b1",
   "metadata": {},
   "outputs": [],
   "source": [
    "import pandas as pd"
   ]
  },
  {
   "cell_type": "code",
   "execution_count": 3,
   "id": "ab47ddee-5d88-44d4-b802-5524f668460b",
   "metadata": {},
   "outputs": [],
   "source": [
    "import sys\n",
    "\n",
    "if '../' not in sys.path:\n",
    "    sys.path.append('../')\n",
    "\n",
    "if '../../keyhold' not in sys.path:\n",
    "    sys.path.append('../../keyhold')"
   ]
  },
  {
   "cell_type": "code",
   "execution_count": null,
   "id": "af254d92-231c-4d3a-bde7-6745d9f66e13",
   "metadata": {},
   "outputs": [],
   "source": [
    "import numpy as np\n",
    "import pandas as pd\n",
    "\n",
    "from datetime import datetime\n",
    "from fractions import Fraction"
   ]
  },
  {
   "cell_type": "code",
   "execution_count": 4,
   "id": "20900754-3e51-4b6c-9d1e-1d039c054d69",
   "metadata": {},
   "outputs": [],
   "source": [
    "%autoreload\n",
    "\n",
    "from fxtrade.stock import Stock, Rate\n",
    "from fxtrade.trade import Trade, TradePair, History, Report\n",
    "from fxtrade.stocks import JPY, BTC\n",
    "\n",
    "from fxtrade.interface.yfinance import YahooFinanceAPI\n",
    "from fxtrade.interface.bitflyer import BitflyerAPI\n",
    "\n",
    "from fxtrade.chart import Chart\n",
    "from fxtrade.trader import Trader\n",
    "from fxtrade.fx import FX"
   ]
  },
  {
   "cell_type": "code",
   "execution_count": 5,
   "id": "6ad495d8-dd20-4209-8106-20d89f5166ac",
   "metadata": {},
   "outputs": [],
   "source": [
    "from keyhold import KeyHold\n",
    "\n",
    "key_config = KeyHold()"
   ]
  },
  {
   "cell_type": "code",
   "execution_count": 7,
   "id": "836cb709-7ede-422e-8ffa-72c086098e05",
   "metadata": {},
   "outputs": [],
   "source": [
    "# チャート取得のための API を指定\n",
    "chart_api = YahooFinanceAPI(api_key=key_config['yahoo']['x-api-key'])\n",
    "\n",
    "# チャートを管理するクラスの生成\n",
    "chart = Chart(\n",
    "            ticker='BTC-JPY',\n",
    "            api=chart_api,\n",
    "            data_dir='../data/chart',\n",
    "        )"
   ]
  },
  {
   "cell_type": "code",
   "execution_count": 8,
   "id": "f7ef40ee-0c44-4eff-a350-452aa62cb679",
   "metadata": {},
   "outputs": [],
   "source": [
    "# 取引のための API を指定\n",
    "trade_api = BitflyerAPI(api_key=key_config['bitflyer']['api_key'],\n",
    "                        api_secret=key_config['bitflyer']['api_secret'])\n",
    "\n",
    "#hist = trade_api.get_history(start_date=pd.Timestamp(2021, 12, 1))\n",
    "\n",
    "# 取引を管理するクラスの生成\n",
    "trader = Trader(\n",
    "            api=trade_api,\n",
    "            history=None,\n",
    "            data_dir='../data/trader',\n",
    "         )"
   ]
  },
  {
   "cell_type": "code",
   "execution_count": 11,
   "id": "d01de2c6-a2b5-4b4b-9cd9-360e0cb039e4",
   "metadata": {},
   "outputs": [],
   "source": [
    "# 取引アルゴリズムを統括するためのクラスを生成\n",
    "fx = FX(chart=chart, trader=trader)"
   ]
  },
  {
   "cell_type": "code",
   "execution_count": null,
   "id": "717ae058-a1a9-4b0c-b532-29d1d3813039",
   "metadata": {},
   "outputs": [],
   "source": [
    "from datetime import datetime\n",
    "from typing import Iterable, Mapping, Optional\n",
    "\n",
    "from fxtrade.fx import FX\n",
    "from fxtrade.trade import Trade\n",
    "\n",
    "def trade_algorithm(\n",
    "            fx: FX,\n",
    "            t: datetime,\n",
    "            kwargs: Optional[Mapping]=None,\n",
    "        ) -> Iterable[Trade]:\n",
    "    \"\"\"\n",
    "    Parameters\n",
    "    ----------\n",
    "    fx : FX\n",
    "        FX クラスのインスタンス\n",
    "    t : datetime.datetime\n",
    "        現在時刻 または 取引判断を行う時刻\n",
    "    kwargs : Mapping\n",
    "        同じく取引判断に用いる追加情報（なくてもよい）\n",
    "    \n",
    "    Returns\n",
    "    -------\n",
    "    Iterable[Trade]\n",
    "        実行する取引のリスト(またはイテラブル)\n",
    "    \"\"\"\n",
    "    \n",
    "    # 取引する通貨とその額を決める\n",
    "    trades = ...\n",
    "    \n",
    "    return trades"
   ]
  },
  {
   "cell_type": "code",
   "execution_count": null,
   "id": "e5ed20d0-ef57-4141-9b57-a9fe7f50a5f0",
   "metadata": {},
   "outputs": [],
   "source": []
  },
  {
   "cell_type": "code",
   "execution_count": null,
   "id": "ea0cb1dc-dde8-4bd2-acb9-96f4bebbf17d",
   "metadata": {},
   "outputs": [],
   "source": []
  },
  {
   "cell_type": "code",
   "execution_count": null,
   "id": "b17ca4ff-3fac-4553-bde1-1b707e3c7c29",
   "metadata": {},
   "outputs": [],
   "source": []
  },
  {
   "cell_type": "code",
   "execution_count": null,
   "id": "56ac799b-3a50-44aa-9e87-2b38378fe7ea",
   "metadata": {},
   "outputs": [],
   "source": []
  },
  {
   "cell_type": "code",
   "execution_count": null,
   "id": "0de34f08-c8b7-47d3-9fb5-38300b6cb3c3",
   "metadata": {},
   "outputs": [],
   "source": []
  },
  {
   "cell_type": "code",
   "execution_count": null,
   "id": "5c078993-0f3e-4ac6-a6ac-744c28a88413",
   "metadata": {},
   "outputs": [],
   "source": []
  },
  {
   "cell_type": "code",
   "execution_count": null,
   "id": "b53c10f8-d6d5-408c-a829-13b0178da637",
   "metadata": {},
   "outputs": [],
   "source": []
  },
  {
   "cell_type": "code",
   "execution_count": null,
   "id": "2761b1f7-3d18-45df-9ec4-7073a69f214f",
   "metadata": {},
   "outputs": [],
   "source": []
  },
  {
   "cell_type": "code",
   "execution_count": null,
   "id": "e5d2f73e-1dfd-452b-b701-0384d2217e04",
   "metadata": {},
   "outputs": [],
   "source": []
  },
  {
   "cell_type": "code",
   "execution_count": null,
   "id": "1944db45-0c54-4a56-b570-e9f134c436e1",
   "metadata": {},
   "outputs": [],
   "source": [
    "raise"
   ]
  },
  {
   "cell_type": "code",
   "execution_count": null,
   "id": "1b5fef06-2bdd-45a7-a31d-12effe13ff9e",
   "metadata": {},
   "outputs": [],
   "source": [
    "from fractions import Fraction\n",
    "summa = hist.summarize().applymap(lambda x: x if not isinstance(x, Fraction) else float(x))\n",
    "summa"
   ]
  },
  {
   "cell_type": "code",
   "execution_count": null,
   "id": "b3f0636a-bd83-4339-b0a4-afd5f6f82a93",
   "metadata": {},
   "outputs": [],
   "source": [
    "summa['earned'] / summa['used']"
   ]
  },
  {
   "cell_type": "code",
   "execution_count": null,
   "id": "813f6446-1db1-4422-bdf7-25224d8e217d",
   "metadata": {},
   "outputs": [],
   "source": [
    "his, rep = hist.close()"
   ]
  },
  {
   "cell_type": "code",
   "execution_count": null,
   "id": "8f9a25b7-ac6d-40c4-94fb-6b65ad840c43",
   "metadata": {},
   "outputs": [],
   "source": [
    "hist.df"
   ]
  },
  {
   "cell_type": "code",
   "execution_count": null,
   "id": "198a125b-d9d1-4b2c-a6de-d46789787e94",
   "metadata": {},
   "outputs": [],
   "source": [
    "rep.df['R(zt/xs)'].apply(float)"
   ]
  },
  {
   "cell_type": "code",
   "execution_count": null,
   "id": "220c7791-dfcf-4d6e-b23a-23a5877dec47",
   "metadata": {},
   "outputs": [],
   "source": []
  },
  {
   "cell_type": "code",
   "execution_count": null,
   "id": "5fa48562-488c-4167-9ce8-6e521833aa36",
   "metadata": {},
   "outputs": [],
   "source": [
    "raise"
   ]
  },
  {
   "cell_type": "code",
   "execution_count": null,
   "id": "6b923583-c050-4f54-82a7-f6e85faf16e4",
   "metadata": {},
   "outputs": [],
   "source": [
    "fx = FX(chart=chart, trade_api=trade_api, history=hist)"
   ]
  },
  {
   "cell_type": "code",
   "execution_count": null,
   "id": "3c47ab58-979f-493f-adcb-2a3e2897e828",
   "metadata": {},
   "outputs": [],
   "source": [
    "from datetime import datetime\n",
    "\n",
    "baseline(fx, datetime.now())"
   ]
  },
  {
   "cell_type": "code",
   "execution_count": null,
   "id": "415ded01-52fa-4403-926a-0eff95563273",
   "metadata": {},
   "outputs": [],
   "source": [
    "import numpy as np\n",
    "import plotly.graph_objects as go\n",
    "\n",
    "fig = go.Figure()\n",
    "fig.add_trace(go.Scatter(x=df.index, y=df['low'].apply(np.log10), name=\"low\"))\n",
    "fig.show()"
   ]
  },
  {
   "cell_type": "code",
   "execution_count": null,
   "id": "1d359404-949f-4eae-ae34-b63260ae77fd",
   "metadata": {},
   "outputs": [],
   "source": [
    "fig = go.Figure()\n",
    "fig.add_trace(go.Scatter(x=df.index, y=df['high'].apply(np.log10),\n",
    "                         line=dict(color='#87cefa'),\n",
    "                         opacity=0.5,\n",
    "                         name=\"high\"))\n",
    "fig.add_trace(go.Scatter(x=df.index, y=df['low'].apply(np.log10),\n",
    "                         line=dict(color='#87cefa'),\n",
    "                         name=\"low\"))\n",
    "\n",
    "fig.update_xaxes(title=\"x\") # X軸タイトルを指定\n",
    "fig.update_yaxes(title=\"y\") # Y軸タイトルを指定\n",
    "\n",
    "#fig.update_xaxes(rangeslider={\"visible\":True}) # X軸に range slider を表示（下図参照）\n",
    "\n",
    "fig.update_layout(title=\"Title\") # グラフタイトルを設定\n",
    "fig.update_layout(font={\"family\":\"Meiryo\", \"size\":20}) # フォントファミリとフォントサイズを指定\n",
    "fig.update_layout(showlegend=True) # 凡例を強制的に表示（デフォルトでは複数系列あると表示）\n",
    "fig.update_layout(width=800, height=600) # 図の高さを幅を指定\n",
    "#fig.update_layout(template=\"plotly_white\") # 白背景のテーマに変更\n",
    "\n",
    "fig.show()"
   ]
  },
  {
   "cell_type": "code",
   "execution_count": null,
   "id": "e6e4d60e-a6b8-4e31-a038-af18700d9742",
   "metadata": {},
   "outputs": [],
   "source": [
    "import numpy as np\n",
    "import plotly.graph_objects as go\n",
    "\n",
    "seq = df['high'].apply(np.log10) - df['low'].apply(np.log10)\n",
    "\n",
    "fig = go.Figure()\n",
    "fig.add_trace(go.Scatter(x=df.index, y=seq, name=\"low\"))\n",
    "fig.show()"
   ]
  },
  {
   "cell_type": "code",
   "execution_count": null,
   "id": "c8d22243-23a2-4148-8bdc-ab8cb8e83d4f",
   "metadata": {},
   "outputs": [],
   "source": [
    "from matplotlib import pyplot as plt"
   ]
  },
  {
   "cell_type": "code",
   "execution_count": null,
   "id": "6b024f89-ccb5-477f-8f4a-999e6cc4f773",
   "metadata": {},
   "outputs": [],
   "source": [
    "plt.hist(seq, bins=np.linspace(0, 0.2, 100))\n",
    "plt.show()"
   ]
  },
  {
   "cell_type": "code",
   "execution_count": null,
   "id": "b47344dc-ae3c-455b-bacf-04353f24f534",
   "metadata": {},
   "outputs": [],
   "source": []
  }
 ],
 "metadata": {
  "kernelspec": {
   "display_name": "Python 3 (ipykernel)",
   "language": "python",
   "name": "python3"
  },
  "language_info": {
   "codemirror_mode": {
    "name": "ipython",
    "version": 3
   },
   "file_extension": ".py",
   "mimetype": "text/x-python",
   "name": "python",
   "nbconvert_exporter": "python",
   "pygments_lexer": "ipython3",
   "version": "3.9.10"
  }
 },
 "nbformat": 4,
 "nbformat_minor": 5
}
