{
 "cells": [
  {
   "cell_type": "code",
   "execution_count": 1,
   "id": "d0cf10d4-e249-4868-b65a-a131f84c4a84",
   "metadata": {},
   "outputs": [],
   "source": [
    "%load_ext autoreload"
   ]
  },
  {
   "cell_type": "code",
   "execution_count": 2,
   "id": "264297ed-fd8c-4833-9825-d9ca2a249d36",
   "metadata": {},
   "outputs": [],
   "source": [
    "import sys\n",
    "\n",
    "if '../' not in sys.path:\n",
    "    sys.path.append('../')"
   ]
  },
  {
   "cell_type": "code",
   "execution_count": 3,
   "id": "294a69b7-1af1-46d1-80dc-084faab5c251",
   "metadata": {},
   "outputs": [],
   "source": [
    "import numpy as np\n",
    "import pandas as pd\n",
    "\n",
    "from datetime import datetime, timedelta\n",
    "from fractions import Fraction"
   ]
  },
  {
   "cell_type": "code",
   "execution_count": 4,
   "id": "50da4d4c-a43f-41ca-bd9a-f378bd238897",
   "metadata": {},
   "outputs": [
    {
     "data": {
      "text/plain": [
       "'/home/jovyan/.config/keyhold/keys.json'\n",
       "{\n",
       "  \"yahoo\": {\n",
       "    \"x-api-key\": \"mz4P************************************\"\n",
       "  },\n",
       "  \"cryptowatch\": {\n",
       "    \"x-cw-api-key\": \"WLWU****************\",\n",
       "    \"api_secret\": \"TOFt************************************\"\n",
       "  },\n",
       "  \"bitflyer\": {\n",
       "    \"api_key\": \"ULkE******************\",\n",
       "    \"api_secret\": \"IYGp****************************************\"\n",
       "  },\n",
       "  \"twitter\": {\n",
       "    \"consumer_key\": \"pt4B*********************\",\n",
       "    \"consumer_secret\": \"5ciB**********************************************\",\n",
       "    \"api_key\": \"1218**********************************************\",\n",
       "    \"api_secret\": \"MJJk*****************************************\",\n",
       "    \"bearer_token\": \"AAAA************************************************************************************************************\"\n",
       "  }\n",
       "}"
      ]
     },
     "execution_count": 4,
     "metadata": {},
     "output_type": "execute_result"
    }
   ],
   "source": [
    "%autoreload\n",
    "from fxtrade.keyhold import KeyHold\n",
    "\n",
    "key_config = KeyHold()\n",
    "key_config"
   ]
  },
  {
   "cell_type": "code",
   "execution_count": 6,
   "id": "8f548485-151b-44a9-b068-aa3a6f30aca1",
   "metadata": {},
   "outputs": [],
   "source": [
    "%autoreload\n",
    "\n",
    "from fxtrade.api import CodePair, CrangePeriod\n",
    "from fxtrade.stock import Stock, Rate\n",
    "from fxtrade.trade import Trade, TradePair, History, Report\n",
    "from fxtrade.stocks import JPY, BTC\n",
    "\n",
    "from fxtrade.interface.cryptowatch import CryptowatchAPI\n",
    "from fxtrade.interface.bitflyer import BitflyerAPI\n",
    "\n",
    "from fxtrade.wallet import Wallet\n",
    "from fxtrade.chart import ChartDummyAPI, Board, Chart\n",
    "from fxtrade.trader import TraderDummyAPI, Trader\n",
    "from fxtrade.fx import FX"
   ]
  },
  {
   "cell_type": "code",
   "execution_count": 7,
   "id": "41f356f8-ea1c-466f-ad31-857b6c39436d",
   "metadata": {},
   "outputs": [],
   "source": [
    "# チャート取得のための API を指定\n",
    "chart_api = CryptowatchAPI(api_key=key_config['cryptowatch']['x-cw-api-key'])\n",
    "\n",
    "# チャートを管理するクラスの生成\n",
    "chart = Chart(chart_api,\n",
    "              code_pair=CodePair('BTC', 'JPY'),\n",
    "              data_dir='../data/chart',\n",
    "              crange_period=['max-15m'], #crange_interval=['10y-1d', '1mo-15m', '5d-1m']\n",
    "             )"
   ]
  },
  {
   "cell_type": "code",
   "execution_count": 9,
   "id": "fac29239-5de7-4554-aa41-30bfd2b61296",
   "metadata": {},
   "outputs": [],
   "source": [
    "board = Board(api=ChartDummyAPI(),\n",
    "              code_pair=CodePair('BTC', 'JPY'),\n",
    "              crange_period=CrangePeriod('max', '15m'),\n",
    "             )"
   ]
  },
  {
   "cell_type": "code",
   "execution_count": 10,
   "id": "ab8c83d8-f430-447d-ae00-5a72241cd0fa",
   "metadata": {},
   "outputs": [
    {
     "data": {
      "text/plain": [
       "Board(api=ChartDummyAPI(),\n",
       "    code_pair='CodePair(base='BTC', quote='JPY')',\n",
       "    crange_period='CrangePeriod(crange='max', period='15m')',\n",
       "    interval=None,\n",
       "    first_updated=None,\n",
       "    last_updated=None,\n",
       ")"
      ]
     },
     "execution_count": 10,
     "metadata": {},
     "output_type": "execute_result"
    }
   ],
   "source": [
    "board"
   ]
  },
  {
   "cell_type": "code",
   "execution_count": 11,
   "id": "c3db232b-1a8e-4666-b30e-a1c940b46a78",
   "metadata": {},
   "outputs": [],
   "source": [
    "chart = Chart(api=ChartDummyAPI(),\n",
    "          code_pair=CodePair('BTC', 'JPY'),\n",
    "          data_dir='../data/chart',\n",
    "          crange_period=[CrangePeriod('max', '15m')],\n",
    "        )"
   ]
  },
  {
   "cell_type": "code",
   "execution_count": 13,
   "id": "c5ec6fe2-01ef-4ce9-8ba8-b76f59590dfe",
   "metadata": {},
   "outputs": [
    {
     "data": {
      "text/plain": [
       "Chart(api=ChartDummyAPI(),\n",
       "    code_pair=CodePair(base='BTC', quote='JPY'),\n",
       "    data_dir='../data/chart',\n",
       "    crange_period=[CrangePeriod(crange='max', period='15m')],\n",
       "    board={\n",
       "        'CrangePeriod(crange='max', period='15m')': Board(api=ChartDummyAPI(),\n",
       "            code_pair='CodePair(base='BTC', quote='JPY')',\n",
       "            crange_period='CrangePeriod(crange='max', period='15m')',\n",
       "            interval=None,\n",
       "            first_updated=None,\n",
       "            last_updated=None,\n",
       "        ),\n",
       "    }\n",
       ")"
      ]
     },
     "execution_count": 13,
     "metadata": {},
     "output_type": "execute_result"
    }
   ],
   "source": [
    "chart"
   ]
  },
  {
   "cell_type": "code",
   "execution_count": null,
   "id": "b5e9eec5-f335-4b91-ba49-54cddd7d9a48",
   "metadata": {},
   "outputs": [],
   "source": [
    "chart = Chart(api=ChartDummyAPI(),\n",
    "              code_pair=CodePair('JPY', 'BTC'),\n",
    "              data_dir='../data/chart',\n",
    "              crange_period=['max-15m'],\n",
    "             )"
   ]
  },
  {
   "cell_type": "code",
   "execution_count": null,
   "id": "cd68e9ed-2187-4c51-b536-6aba1c58e43e",
   "metadata": {},
   "outputs": [],
   "source": [
    "chart"
   ]
  },
  {
   "cell_type": "code",
   "execution_count": null,
   "id": "656b6136-7c73-4b2d-a266-de094fb5177c",
   "metadata": {},
   "outputs": [],
   "source": [
    "chart = Chart(api=ChartDummyAPI(),\n",
    "              code_pair=CodePair('BTC', 'JPY'),\n",
    "              data_dir='../data/chart',\n",
    "              crange_period=[],\n",
    "             )\n",
    "\n",
    "trader = Trader(\n",
    "    api=TraderDummyAPI(),\n",
    "    code_pair=CodePair('BTC', 'JPY'),\n",
    "    chart=chart,\n",
    "    history=None,\n",
    "    data_dir='../data/trader',\n",
    ")"
   ]
  },
  {
   "cell_type": "code",
   "execution_count": null,
   "id": "9528c041-e8d0-4f86-965b-c419e79885f1",
   "metadata": {},
   "outputs": [],
   "source": [
    "trader"
   ]
  },
  {
   "cell_type": "code",
   "execution_count": null,
   "id": "a0594f9c-31c9-4f3e-8450-ef2cf0a88888",
   "metadata": {},
   "outputs": [],
   "source": [
    "# 取引のための API を指定\n",
    "trader_api = BitflyerAPI(api_key=key_config['bitflyer']['api_key'],\n",
    "                        api_secret=key_config['bitflyer']['api_secret'])\n",
    "\n",
    "#hist = trade_api.get_history(start_date=pd.Timestamp(2021, 12, 1))\n",
    "\n",
    "# 取引を管理するクラスの生成\n",
    "trader = Trader(\n",
    "            api=trader_api,\n",
    "            code_pair=CodePair('JPY', 'USD'),\n",
    "            chart=chart,\n",
    "            history=None,\n",
    "            data_dir='../data/trader',\n",
    "         )"
   ]
  },
  {
   "cell_type": "code",
   "execution_count": null,
   "id": "6481efdb-e40e-4bdf-b003-565c1e2ac619",
   "metadata": {},
   "outputs": [],
   "source": [
    "fx = FX(origin='JPY', chart_api=chart_api, trader_api=trader_api, data_dir='../data')"
   ]
  },
  {
   "cell_type": "code",
   "execution_count": null,
   "id": "f6cfc1cf-b0c9-46d9-91e0-156ca45296a1",
   "metadata": {},
   "outputs": [],
   "source": [
    "fx.generate_client('BTC', crange_period=[])"
   ]
  },
  {
   "cell_type": "code",
   "execution_count": null,
   "id": "cf7e89f6-9346-4276-958d-cb9efc7c7756",
   "metadata": {},
   "outputs": [],
   "source": [
    "fx"
   ]
  },
  {
   "cell_type": "code",
   "execution_count": null,
   "id": "9c0e0d7c-f190-4179-956b-1c1a20890398",
   "metadata": {},
   "outputs": [],
   "source": [
    "chart_api = ChartDummyAPI()\n",
    "trader_api = TraderDummyAPI()\n",
    "\n",
    "fx = FX(origin='JPY',\n",
    "        chart_api=chart_api,\n",
    "        trader_api=trader_api,\n",
    "        data_dir='../data')\n",
    "\n",
    "fx.generate_client('BTC', crange_period=[])"
   ]
  },
  {
   "cell_type": "code",
   "execution_count": null,
   "id": "2dbd3393-a952-449a-83cd-b581de7acbe0",
   "metadata": {},
   "outputs": [],
   "source": [
    "fx"
   ]
  },
  {
   "cell_type": "code",
   "execution_count": null,
   "id": "5710984d-f9bd-4685-9f69-cec360216dca",
   "metadata": {},
   "outputs": [],
   "source": [
    "fx = FX(origin='JPY')"
   ]
  },
  {
   "cell_type": "code",
   "execution_count": null,
   "id": "83d1dfba-ec23-450b-a165-b9e54ea7bd06",
   "metadata": {},
   "outputs": [],
   "source": [
    "fx"
   ]
  }
 ],
 "metadata": {
  "kernelspec": {
   "display_name": "Python 3 (ipykernel)",
   "language": "python",
   "name": "python3"
  },
  "language_info": {
   "codemirror_mode": {
    "name": "ipython",
    "version": 3
   },
   "file_extension": ".py",
   "mimetype": "text/x-python",
   "name": "python",
   "nbconvert_exporter": "python",
   "pygments_lexer": "ipython3",
   "version": "3.10.6"
  }
 },
 "nbformat": 4,
 "nbformat_minor": 5
}
