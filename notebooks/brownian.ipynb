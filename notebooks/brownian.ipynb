{
 "cells": [
  {
   "cell_type": "code",
   "execution_count": 1,
   "id": "5619af47-d637-407e-a86e-62956bfb1938",
   "metadata": {
    "tags": []
   },
   "outputs": [],
   "source": [
    "%load_ext autoreload"
   ]
  },
  {
   "cell_type": "code",
   "execution_count": 2,
   "id": "5c2e24fe-c2eb-45c7-bf05-f734cad9f811",
   "metadata": {
    "tags": []
   },
   "outputs": [],
   "source": [
    "import sys\n",
    "\n",
    "if '../' not in sys.path:\n",
    "    sys.path.append('../')"
   ]
  },
  {
   "cell_type": "code",
   "execution_count": 3,
   "id": "988ed32d-5ea2-4bff-83ae-53f58989eb88",
   "metadata": {
    "tags": []
   },
   "outputs": [],
   "source": [
    "import pandas as pd"
   ]
  },
  {
   "cell_type": "code",
   "execution_count": 4,
   "id": "d63f0dda-f28c-461d-803f-653663c3f64f",
   "metadata": {
    "tags": []
   },
   "outputs": [],
   "source": [
    "df = pd.read_csv('chart.csv', index_col=0, parse_dates=True)"
   ]
  },
  {
   "cell_type": "code",
   "execution_count": 5,
   "id": "2f99a2fc-433f-4eec-9818-ea6bbf1b63f7",
   "metadata": {
    "tags": []
   },
   "outputs": [
    {
     "data": {
      "text/html": [
       "<div>\n",
       "<style scoped>\n",
       "    .dataframe tbody tr th:only-of-type {\n",
       "        vertical-align: middle;\n",
       "    }\n",
       "\n",
       "    .dataframe tbody tr th {\n",
       "        vertical-align: top;\n",
       "    }\n",
       "\n",
       "    .dataframe thead th {\n",
       "        text-align: right;\n",
       "    }\n",
       "</style>\n",
       "<table border=\"1\" class=\"dataframe\">\n",
       "  <thead>\n",
       "    <tr style=\"text-align: right;\">\n",
       "      <th></th>\n",
       "      <th>timestamp</th>\n",
       "      <th>open</th>\n",
       "      <th>close</th>\n",
       "      <th>high</th>\n",
       "      <th>low</th>\n",
       "      <th>volume</th>\n",
       "    </tr>\n",
       "    <tr>\n",
       "      <th>Date</th>\n",
       "      <th></th>\n",
       "      <th></th>\n",
       "      <th></th>\n",
       "      <th></th>\n",
       "      <th></th>\n",
       "      <th></th>\n",
       "    </tr>\n",
       "  </thead>\n",
       "  <tbody>\n",
       "    <tr>\n",
       "      <th>2023-02-15 07:45:00</th>\n",
       "      <td>1676414700</td>\n",
       "      <td>2959408</td>\n",
       "      <td>2957001</td>\n",
       "      <td>2961553</td>\n",
       "      <td>2955983</td>\n",
       "      <td>10.566818</td>\n",
       "    </tr>\n",
       "    <tr>\n",
       "      <th>2023-02-15 08:00:00</th>\n",
       "      <td>1676415600</td>\n",
       "      <td>2956934</td>\n",
       "      <td>2955947</td>\n",
       "      <td>2956934</td>\n",
       "      <td>2950902</td>\n",
       "      <td>14.757816</td>\n",
       "    </tr>\n",
       "    <tr>\n",
       "      <th>2023-02-15 08:15:00</th>\n",
       "      <td>1676416500</td>\n",
       "      <td>2956302</td>\n",
       "      <td>2960952</td>\n",
       "      <td>2963529</td>\n",
       "      <td>2953848</td>\n",
       "      <td>13.971808</td>\n",
       "    </tr>\n",
       "    <tr>\n",
       "      <th>2023-02-15 08:30:00</th>\n",
       "      <td>1676417400</td>\n",
       "      <td>2961786</td>\n",
       "      <td>2958882</td>\n",
       "      <td>2963253</td>\n",
       "      <td>2958074</td>\n",
       "      <td>8.201428</td>\n",
       "    </tr>\n",
       "    <tr>\n",
       "      <th>2023-02-15 08:45:00</th>\n",
       "      <td>1676418300</td>\n",
       "      <td>2959111</td>\n",
       "      <td>2956934</td>\n",
       "      <td>2959554</td>\n",
       "      <td>2956925</td>\n",
       "      <td>3.424541</td>\n",
       "    </tr>\n",
       "    <tr>\n",
       "      <th>...</th>\n",
       "      <td>...</td>\n",
       "      <td>...</td>\n",
       "      <td>...</td>\n",
       "      <td>...</td>\n",
       "      <td>...</td>\n",
       "      <td>...</td>\n",
       "    </tr>\n",
       "    <tr>\n",
       "      <th>2023-02-25 16:30:00</th>\n",
       "      <td>1677310200</td>\n",
       "      <td>3153672</td>\n",
       "      <td>3154364</td>\n",
       "      <td>3155012</td>\n",
       "      <td>3153232</td>\n",
       "      <td>4.776640</td>\n",
       "    </tr>\n",
       "    <tr>\n",
       "      <th>2023-02-25 16:45:00</th>\n",
       "      <td>1677311100</td>\n",
       "      <td>3153627</td>\n",
       "      <td>3154630</td>\n",
       "      <td>3154950</td>\n",
       "      <td>3153627</td>\n",
       "      <td>3.082228</td>\n",
       "    </tr>\n",
       "    <tr>\n",
       "      <th>2023-02-25 17:00:00</th>\n",
       "      <td>1677312000</td>\n",
       "      <td>3154630</td>\n",
       "      <td>3155641</td>\n",
       "      <td>3155965</td>\n",
       "      <td>3152279</td>\n",
       "      <td>7.044401</td>\n",
       "    </tr>\n",
       "    <tr>\n",
       "      <th>2023-02-25 17:15:00</th>\n",
       "      <td>1677312900</td>\n",
       "      <td>3155965</td>\n",
       "      <td>3162083</td>\n",
       "      <td>3162377</td>\n",
       "      <td>3154537</td>\n",
       "      <td>9.688230</td>\n",
       "    </tr>\n",
       "    <tr>\n",
       "      <th>2023-02-25 17:30:00</th>\n",
       "      <td>1677313800</td>\n",
       "      <td>3161025</td>\n",
       "      <td>3162152</td>\n",
       "      <td>3162414</td>\n",
       "      <td>3159366</td>\n",
       "      <td>5.284233</td>\n",
       "    </tr>\n",
       "  </tbody>\n",
       "</table>\n",
       "<p>1000 rows × 6 columns</p>\n",
       "</div>"
      ],
      "text/plain": [
       "                      timestamp     open    close     high      low     volume\n",
       "Date                                                                          \n",
       "2023-02-15 07:45:00  1676414700  2959408  2957001  2961553  2955983  10.566818\n",
       "2023-02-15 08:00:00  1676415600  2956934  2955947  2956934  2950902  14.757816\n",
       "2023-02-15 08:15:00  1676416500  2956302  2960952  2963529  2953848  13.971808\n",
       "2023-02-15 08:30:00  1676417400  2961786  2958882  2963253  2958074   8.201428\n",
       "2023-02-15 08:45:00  1676418300  2959111  2956934  2959554  2956925   3.424541\n",
       "...                         ...      ...      ...      ...      ...        ...\n",
       "2023-02-25 16:30:00  1677310200  3153672  3154364  3155012  3153232   4.776640\n",
       "2023-02-25 16:45:00  1677311100  3153627  3154630  3154950  3153627   3.082228\n",
       "2023-02-25 17:00:00  1677312000  3154630  3155641  3155965  3152279   7.044401\n",
       "2023-02-25 17:15:00  1677312900  3155965  3162083  3162377  3154537   9.688230\n",
       "2023-02-25 17:30:00  1677313800  3161025  3162152  3162414  3159366   5.284233\n",
       "\n",
       "[1000 rows x 6 columns]"
      ]
     },
     "execution_count": 5,
     "metadata": {},
     "output_type": "execute_result"
    }
   ],
   "source": [
    "df"
   ]
  },
  {
   "cell_type": "code",
   "execution_count": 6,
   "id": "2bf0a6a9-6e81-4370-becb-71b8aee1a91b",
   "metadata": {
    "tags": []
   },
   "outputs": [],
   "source": [
    "%autoreload\n",
    "\n",
    "from fxtrade.timeseries import split_into_chunks, time_arange, normalize_time_index\n",
    "from fxtrade.period import to_period_str, is_divisor\n",
    "from fxtrade.brownian import Brownian"
   ]
  },
  {
   "cell_type": "code",
   "execution_count": 7,
   "id": "c225ebb0-92d3-40e6-8cc7-fab108cc43fc",
   "metadata": {
    "tags": []
   },
   "outputs": [],
   "source": [
    "df2 = df.drop(df.index[[100, 101, 204, 205, 206, 208, 995, 996, 997]])"
   ]
  },
  {
   "cell_type": "code",
   "execution_count": 8,
   "id": "3ce063f5-781e-4279-937b-9f43bf16887e",
   "metadata": {
    "tags": []
   },
   "outputs": [],
   "source": [
    "brown = Brownian(df2)"
   ]
  },
  {
   "cell_type": "code",
   "execution_count": 9,
   "id": "e0c90b65-4b2c-4c49-98f2-869bd2bf2916",
   "metadata": {
    "tags": []
   },
   "outputs": [
    {
     "data": {
      "text/html": [
       "<div>\n",
       "<style scoped>\n",
       "    .dataframe tbody tr th:only-of-type {\n",
       "        vertical-align: middle;\n",
       "    }\n",
       "\n",
       "    .dataframe tbody tr th {\n",
       "        vertical-align: top;\n",
       "    }\n",
       "\n",
       "    .dataframe thead th {\n",
       "        text-align: right;\n",
       "    }\n",
       "</style>\n",
       "<table border=\"1\" class=\"dataframe\">\n",
       "  <thead>\n",
       "    <tr style=\"text-align: right;\">\n",
       "      <th></th>\n",
       "      <th>timestamp</th>\n",
       "      <th>open</th>\n",
       "      <th>high</th>\n",
       "      <th>low</th>\n",
       "      <th>close</th>\n",
       "      <th>volume</th>\n",
       "    </tr>\n",
       "    <tr>\n",
       "      <th>Date</th>\n",
       "      <th></th>\n",
       "      <th></th>\n",
       "      <th></th>\n",
       "      <th></th>\n",
       "      <th></th>\n",
       "      <th></th>\n",
       "    </tr>\n",
       "  </thead>\n",
       "  <tbody>\n",
       "    <tr>\n",
       "      <th>2023-02-15 07:45:00</th>\n",
       "      <td>1676414700</td>\n",
       "      <td>2959408</td>\n",
       "      <td>2961553</td>\n",
       "      <td>2955983</td>\n",
       "      <td>2957001</td>\n",
       "      <td>10.566818</td>\n",
       "    </tr>\n",
       "    <tr>\n",
       "      <th>2023-02-15 08:00:00</th>\n",
       "      <td>1676415600</td>\n",
       "      <td>2956934</td>\n",
       "      <td>2956934</td>\n",
       "      <td>2950902</td>\n",
       "      <td>2955947</td>\n",
       "      <td>14.757816</td>\n",
       "    </tr>\n",
       "    <tr>\n",
       "      <th>2023-02-15 08:15:00</th>\n",
       "      <td>1676416500</td>\n",
       "      <td>2956302</td>\n",
       "      <td>2963529</td>\n",
       "      <td>2953848</td>\n",
       "      <td>2960952</td>\n",
       "      <td>13.971808</td>\n",
       "    </tr>\n",
       "    <tr>\n",
       "      <th>2023-02-15 08:30:00</th>\n",
       "      <td>1676417400</td>\n",
       "      <td>2961786</td>\n",
       "      <td>2963253</td>\n",
       "      <td>2958074</td>\n",
       "      <td>2958882</td>\n",
       "      <td>8.201428</td>\n",
       "    </tr>\n",
       "    <tr>\n",
       "      <th>2023-02-15 08:45:00</th>\n",
       "      <td>1676418300</td>\n",
       "      <td>2959111</td>\n",
       "      <td>2959554</td>\n",
       "      <td>2956925</td>\n",
       "      <td>2956934</td>\n",
       "      <td>3.424541</td>\n",
       "    </tr>\n",
       "    <tr>\n",
       "      <th>...</th>\n",
       "      <td>...</td>\n",
       "      <td>...</td>\n",
       "      <td>...</td>\n",
       "      <td>...</td>\n",
       "      <td>...</td>\n",
       "      <td>...</td>\n",
       "    </tr>\n",
       "    <tr>\n",
       "      <th>2023-02-25 15:45:00</th>\n",
       "      <td>1677307500</td>\n",
       "      <td>3152091</td>\n",
       "      <td>3154663</td>\n",
       "      <td>3151692</td>\n",
       "      <td>3152383</td>\n",
       "      <td>5.191776</td>\n",
       "    </tr>\n",
       "    <tr>\n",
       "      <th>2023-02-25 16:00:00</th>\n",
       "      <td>1677308400</td>\n",
       "      <td>3152157</td>\n",
       "      <td>3154000</td>\n",
       "      <td>3151761</td>\n",
       "      <td>3152805</td>\n",
       "      <td>1.149584</td>\n",
       "    </tr>\n",
       "    <tr>\n",
       "      <th>2023-02-25 16:15:00</th>\n",
       "      <td>1677309300</td>\n",
       "      <td>3153639</td>\n",
       "      <td>3154159</td>\n",
       "      <td>3152106</td>\n",
       "      <td>3153672</td>\n",
       "      <td>1.419448</td>\n",
       "    </tr>\n",
       "    <tr>\n",
       "      <th>2023-02-25 17:15:00</th>\n",
       "      <td>1677312900</td>\n",
       "      <td>3155965</td>\n",
       "      <td>3162377</td>\n",
       "      <td>3154537</td>\n",
       "      <td>3162083</td>\n",
       "      <td>9.688230</td>\n",
       "    </tr>\n",
       "    <tr>\n",
       "      <th>2023-02-25 17:30:00</th>\n",
       "      <td>1677313800</td>\n",
       "      <td>3161025</td>\n",
       "      <td>3162414</td>\n",
       "      <td>3159366</td>\n",
       "      <td>3162152</td>\n",
       "      <td>5.284233</td>\n",
       "    </tr>\n",
       "  </tbody>\n",
       "</table>\n",
       "<p>991 rows × 6 columns</p>\n",
       "</div>"
      ],
      "text/plain": [
       "                      timestamp     open     high      low    close     volume\n",
       "Date                                                                          \n",
       "2023-02-15 07:45:00  1676414700  2959408  2961553  2955983  2957001  10.566818\n",
       "2023-02-15 08:00:00  1676415600  2956934  2956934  2950902  2955947  14.757816\n",
       "2023-02-15 08:15:00  1676416500  2956302  2963529  2953848  2960952  13.971808\n",
       "2023-02-15 08:30:00  1676417400  2961786  2963253  2958074  2958882   8.201428\n",
       "2023-02-15 08:45:00  1676418300  2959111  2959554  2956925  2956934   3.424541\n",
       "...                         ...      ...      ...      ...      ...        ...\n",
       "2023-02-25 15:45:00  1677307500  3152091  3154663  3151692  3152383   5.191776\n",
       "2023-02-25 16:00:00  1677308400  3152157  3154000  3151761  3152805   1.149584\n",
       "2023-02-25 16:15:00  1677309300  3153639  3154159  3152106  3153672   1.419448\n",
       "2023-02-25 17:15:00  1677312900  3155965  3162377  3154537  3162083   9.688230\n",
       "2023-02-25 17:30:00  1677313800  3161025  3162414  3159366  3162152   5.284233\n",
       "\n",
       "[991 rows x 6 columns]"
      ]
     },
     "execution_count": 9,
     "metadata": {},
     "output_type": "execute_result"
    }
   ],
   "source": [
    "brown._data"
   ]
  },
  {
   "cell_type": "code",
   "execution_count": 10,
   "id": "a1d62dd7-5287-452a-b4e5-6088dcb9a2d6",
   "metadata": {
    "tags": []
   },
   "outputs": [
    {
     "data": {
      "text/plain": [
       "Brownian(dt=0 days 00:15:00, loc=9.093371899915326e-06, scale=2.6140911176464846e-05)"
      ]
     },
     "execution_count": 10,
     "metadata": {},
     "output_type": "execute_result"
    }
   ],
   "source": [
    "brown.fit()"
   ]
  },
  {
   "cell_type": "code",
   "execution_count": 14,
   "id": "501e9b1d-8824-4638-9e9b-3ef09d70597c",
   "metadata": {
    "tags": []
   },
   "outputs": [
    {
     "data": {
      "text/plain": [
       "Brownian(dt=0 days 00:15:00, loc=9.093371899915326e-06, scale=2.6140911176464846e-05)"
      ]
     },
     "execution_count": 14,
     "metadata": {},
     "output_type": "execute_result"
    }
   ],
   "source": [
    "brown.transform()"
   ]
  },
  {
   "cell_type": "code",
   "execution_count": 19,
   "id": "974171bf-f88b-4dc1-b902-61898363ab68",
   "metadata": {
    "tags": []
   },
   "outputs": [
    {
     "data": {
      "text/html": [
       "<div>\n",
       "<style scoped>\n",
       "    .dataframe tbody tr th:only-of-type {\n",
       "        vertical-align: middle;\n",
       "    }\n",
       "\n",
       "    .dataframe tbody tr th {\n",
       "        vertical-align: top;\n",
       "    }\n",
       "\n",
       "    .dataframe thead th {\n",
       "        text-align: right;\n",
       "    }\n",
       "</style>\n",
       "<table border=\"1\" class=\"dataframe\">\n",
       "  <thead>\n",
       "    <tr style=\"text-align: right;\">\n",
       "      <th></th>\n",
       "      <th>timestamp</th>\n",
       "      <th>open</th>\n",
       "      <th>high</th>\n",
       "      <th>low</th>\n",
       "      <th>close</th>\n",
       "      <th>volume</th>\n",
       "    </tr>\n",
       "  </thead>\n",
       "  <tbody>\n",
       "    <tr>\n",
       "      <th>2023-02-15 07:45:00</th>\n",
       "      <td>1676414700.0</td>\n",
       "      <td>2959408.0</td>\n",
       "      <td>2961553.0</td>\n",
       "      <td>2955983.0</td>\n",
       "      <td>2957001.0</td>\n",
       "      <td>10.566818</td>\n",
       "    </tr>\n",
       "    <tr>\n",
       "      <th>2023-02-15 08:00:00</th>\n",
       "      <td>1676415600.0</td>\n",
       "      <td>2956934.0</td>\n",
       "      <td>2956934.0</td>\n",
       "      <td>2950902.0</td>\n",
       "      <td>2955947.0</td>\n",
       "      <td>14.757816</td>\n",
       "    </tr>\n",
       "    <tr>\n",
       "      <th>2023-02-15 08:15:00</th>\n",
       "      <td>1676416500.0</td>\n",
       "      <td>2956302.0</td>\n",
       "      <td>2963529.0</td>\n",
       "      <td>2953848.0</td>\n",
       "      <td>2960952.0</td>\n",
       "      <td>13.971808</td>\n",
       "    </tr>\n",
       "    <tr>\n",
       "      <th>2023-02-15 08:30:00</th>\n",
       "      <td>1676417400.0</td>\n",
       "      <td>2961786.0</td>\n",
       "      <td>2963253.0</td>\n",
       "      <td>2958074.0</td>\n",
       "      <td>2958882.0</td>\n",
       "      <td>8.201428</td>\n",
       "    </tr>\n",
       "    <tr>\n",
       "      <th>2023-02-15 08:45:00</th>\n",
       "      <td>1676418300.0</td>\n",
       "      <td>2959111.0</td>\n",
       "      <td>2959554.0</td>\n",
       "      <td>2956925.0</td>\n",
       "      <td>2956934.0</td>\n",
       "      <td>3.424541</td>\n",
       "    </tr>\n",
       "    <tr>\n",
       "      <th>...</th>\n",
       "      <td>...</td>\n",
       "      <td>...</td>\n",
       "      <td>...</td>\n",
       "      <td>...</td>\n",
       "      <td>...</td>\n",
       "      <td>...</td>\n",
       "    </tr>\n",
       "    <tr>\n",
       "      <th>2023-02-25 16:30:00</th>\n",
       "      <td>NaN</td>\n",
       "      <td>NaN</td>\n",
       "      <td>NaN</td>\n",
       "      <td>NaN</td>\n",
       "      <td>NaN</td>\n",
       "      <td>NaN</td>\n",
       "    </tr>\n",
       "    <tr>\n",
       "      <th>2023-02-25 16:45:00</th>\n",
       "      <td>NaN</td>\n",
       "      <td>NaN</td>\n",
       "      <td>NaN</td>\n",
       "      <td>NaN</td>\n",
       "      <td>NaN</td>\n",
       "      <td>NaN</td>\n",
       "    </tr>\n",
       "    <tr>\n",
       "      <th>2023-02-25 17:00:00</th>\n",
       "      <td>NaN</td>\n",
       "      <td>NaN</td>\n",
       "      <td>NaN</td>\n",
       "      <td>NaN</td>\n",
       "      <td>NaN</td>\n",
       "      <td>NaN</td>\n",
       "    </tr>\n",
       "    <tr>\n",
       "      <th>2023-02-25 17:15:00</th>\n",
       "      <td>1677312900.0</td>\n",
       "      <td>3155965.0</td>\n",
       "      <td>3162377.0</td>\n",
       "      <td>3154537.0</td>\n",
       "      <td>3162083.0</td>\n",
       "      <td>9.68823</td>\n",
       "    </tr>\n",
       "    <tr>\n",
       "      <th>2023-02-25 17:30:00</th>\n",
       "      <td>1677313800.0</td>\n",
       "      <td>3161025.0</td>\n",
       "      <td>3162414.0</td>\n",
       "      <td>3159366.0</td>\n",
       "      <td>3162152.0</td>\n",
       "      <td>5.284233</td>\n",
       "    </tr>\n",
       "  </tbody>\n",
       "</table>\n",
       "<p>1000 rows × 6 columns</p>\n",
       "</div>"
      ],
      "text/plain": [
       "                        timestamp       open       high        low      close  \\\n",
       "2023-02-15 07:45:00  1676414700.0  2959408.0  2961553.0  2955983.0  2957001.0   \n",
       "2023-02-15 08:00:00  1676415600.0  2956934.0  2956934.0  2950902.0  2955947.0   \n",
       "2023-02-15 08:15:00  1676416500.0  2956302.0  2963529.0  2953848.0  2960952.0   \n",
       "2023-02-15 08:30:00  1676417400.0  2961786.0  2963253.0  2958074.0  2958882.0   \n",
       "2023-02-15 08:45:00  1676418300.0  2959111.0  2959554.0  2956925.0  2956934.0   \n",
       "...                           ...        ...        ...        ...        ...   \n",
       "2023-02-25 16:30:00           NaN        NaN        NaN        NaN        NaN   \n",
       "2023-02-25 16:45:00           NaN        NaN        NaN        NaN        NaN   \n",
       "2023-02-25 17:00:00           NaN        NaN        NaN        NaN        NaN   \n",
       "2023-02-25 17:15:00  1677312900.0  3155965.0  3162377.0  3154537.0  3162083.0   \n",
       "2023-02-25 17:30:00  1677313800.0  3161025.0  3162414.0  3159366.0  3162152.0   \n",
       "\n",
       "                        volume  \n",
       "2023-02-15 07:45:00  10.566818  \n",
       "2023-02-15 08:00:00  14.757816  \n",
       "2023-02-15 08:15:00  13.971808  \n",
       "2023-02-15 08:30:00   8.201428  \n",
       "2023-02-15 08:45:00   3.424541  \n",
       "...                        ...  \n",
       "2023-02-25 16:30:00        NaN  \n",
       "2023-02-25 16:45:00        NaN  \n",
       "2023-02-25 17:00:00        NaN  \n",
       "2023-02-25 17:15:00    9.68823  \n",
       "2023-02-25 17:30:00   5.284233  \n",
       "\n",
       "[1000 rows x 6 columns]"
      ]
     },
     "execution_count": 19,
     "metadata": {},
     "output_type": "execute_result"
    }
   ],
   "source": [
    "brown._data"
   ]
  },
  {
   "cell_type": "code",
   "execution_count": 11,
   "id": "b89128d7-24db-43ea-87e7-26b06a45b4ed",
   "metadata": {},
   "outputs": [
    {
     "name": "stdout",
     "output_type": "stream",
     "text": [
      "2023-02-15 07:45:00\n"
     ]
    }
   ],
   "source": [
    "for t, tick in brown.iterate():\n",
    "    print(t)\n",
    "    break"
   ]
  },
  {
   "cell_type": "code",
   "execution_count": 12,
   "id": "f263ba00-0809-4f13-b1d5-c9feb8a8ae02",
   "metadata": {
    "tags": []
   },
   "outputs": [],
   "source": [
    "is_lake = True\n",
    "while is_lake:\n",
    "    x = brown.tick()\n",
    "    is_lake = x is not None"
   ]
  },
  {
   "cell_type": "code",
   "execution_count": 13,
   "id": "01a27552-7aad-4dce-9239-116a83226801",
   "metadata": {
    "tags": []
   },
   "outputs": [],
   "source": [
    "x"
   ]
  },
  {
   "cell_type": "code",
   "execution_count": 15,
   "id": "e43dcabe-cd16-42ab-a138-2af6e9156aa9",
   "metadata": {
    "tags": []
   },
   "outputs": [],
   "source": [
    "%autoreload\n",
    "from fxtrade.timeseries import get_first_timestamp"
   ]
  },
  {
   "cell_type": "code",
   "execution_count": 16,
   "id": "ee38c13a-5a85-4cf4-96b6-70f6f502119e",
   "metadata": {
    "tags": []
   },
   "outputs": [
    {
     "data": {
      "text/plain": [
       "Timestamp('2023-02-15 07:45:00')"
      ]
     },
     "execution_count": 16,
     "metadata": {},
     "output_type": "execute_result"
    }
   ],
   "source": [
    "df2.index[0]"
   ]
  },
  {
   "cell_type": "code",
   "execution_count": 17,
   "id": "1616cce4-b81a-41a9-9047-df81747d1b34",
   "metadata": {
    "tags": []
   },
   "outputs": [
    {
     "data": {
      "text/plain": [
       "Timestamp('2023-02-15 07:00:00')"
      ]
     },
     "execution_count": 17,
     "metadata": {},
     "output_type": "execute_result"
    }
   ],
   "source": [
    "get_first_timestamp(df2.index[0], '1h')"
   ]
  },
  {
   "cell_type": "code",
   "execution_count": 18,
   "id": "a01b1fab-8c11-4a0f-acd5-b26525871938",
   "metadata": {
    "tags": []
   },
   "outputs": [
    {
     "data": {
      "text/html": [
       "<div>\n",
       "<style scoped>\n",
       "    .dataframe tbody tr th:only-of-type {\n",
       "        vertical-align: middle;\n",
       "    }\n",
       "\n",
       "    .dataframe tbody tr th {\n",
       "        vertical-align: top;\n",
       "    }\n",
       "\n",
       "    .dataframe thead th {\n",
       "        text-align: right;\n",
       "    }\n",
       "</style>\n",
       "<table border=\"1\" class=\"dataframe\">\n",
       "  <thead>\n",
       "    <tr style=\"text-align: right;\">\n",
       "      <th></th>\n",
       "      <th>a</th>\n",
       "      <th>b</th>\n",
       "      <th>c</th>\n",
       "    </tr>\n",
       "  </thead>\n",
       "  <tbody>\n",
       "    <tr>\n",
       "      <th>0</th>\n",
       "      <td>1</td>\n",
       "      <td>2</td>\n",
       "      <td>NaN</td>\n",
       "    </tr>\n",
       "    <tr>\n",
       "      <th>1</th>\n",
       "      <td>3</td>\n",
       "      <td>4</td>\n",
       "      <td>5.0</td>\n",
       "    </tr>\n",
       "  </tbody>\n",
       "</table>\n",
       "</div>"
      ],
      "text/plain": [
       "   a  b    c\n",
       "0  1  2  NaN\n",
       "1  3  4  5.0"
      ]
     },
     "execution_count": 18,
     "metadata": {},
     "output_type": "execute_result"
    }
   ],
   "source": [
    "pd.DataFrame([\n",
    "    {'a': 1, 'b': 2},\n",
    "    {'a': 3, 'b': 4, 'c': 5}\n",
    "])"
   ]
  },
  {
   "cell_type": "code",
   "execution_count": null,
   "id": "4723c4ec-2a30-4801-9f05-db48e5c5de76",
   "metadata": {},
   "outputs": [],
   "source": []
  }
 ],
 "metadata": {
  "kernelspec": {
   "display_name": "Python 3 (ipykernel)",
   "language": "python",
   "name": "python3"
  },
  "language_info": {
   "codemirror_mode": {
    "name": "ipython",
    "version": 3
   },
   "file_extension": ".py",
   "mimetype": "text/x-python",
   "name": "python",
   "nbconvert_exporter": "python",
   "pygments_lexer": "ipython3",
   "version": "3.10.6"
  }
 },
 "nbformat": 4,
 "nbformat_minor": 5
}
