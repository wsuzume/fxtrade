{
 "cells": [
  {
   "cell_type": "code",
   "execution_count": 1,
   "id": "67919554-6831-4897-a286-2f4ce79b59ce",
   "metadata": {
    "tags": []
   },
   "outputs": [],
   "source": [
    "%load_ext autoreload"
   ]
  },
  {
   "cell_type": "code",
   "execution_count": 2,
   "id": "479a3f08-6499-4f39-b84f-bb454517f141",
   "metadata": {
    "tags": []
   },
   "outputs": [],
   "source": [
    "import sys\n",
    "\n",
    "if '../' not in sys.path:\n",
    "    sys.path.append('../')"
   ]
  },
  {
   "cell_type": "code",
   "execution_count": 3,
   "id": "6ad495d8-dd20-4209-8106-20d89f5166ac",
   "metadata": {
    "tags": []
   },
   "outputs": [
    {
     "data": {
      "text/plain": [
       "'/home/jovyan/.config/keyhold/keys.json'\n",
       "{\n",
       "  \"yahoo\": {\n",
       "    \"x-api-key\": \"mz4P************************************\"\n",
       "  },\n",
       "  \"cryptowatch\": {\n",
       "    \"x-cw-api-key\": \"WLWU****************\",\n",
       "    \"api_secret\": \"TOFt************************************\"\n",
       "  },\n",
       "  \"bitflyer\": {\n",
       "    \"api_key\": \"ULkE******************\",\n",
       "    \"api_secret\": \"IYGp****************************************\"\n",
       "  },\n",
       "  \"twitter\": {\n",
       "    \"consumer_key\": \"pt4B*********************\",\n",
       "    \"consumer_secret\": \"5ciB**********************************************\",\n",
       "    \"api_key\": \"1218**********************************************\",\n",
       "    \"api_secret\": \"MJJk*****************************************\",\n",
       "    \"bearer_token\": \"AAAA************************************************************************************************************\"\n",
       "  }\n",
       "}"
      ]
     },
     "execution_count": 3,
     "metadata": {},
     "output_type": "execute_result"
    }
   ],
   "source": [
    "%autoreload\n",
    "from fxtrade.keyhold import KeyHold\n",
    "\n",
    "key_config = KeyHold()\n",
    "key_config"
   ]
  },
  {
   "cell_type": "raw",
   "id": "0c9ba009-6ccc-47f5-80b7-06aa05fe56c8",
   "metadata": {
    "tags": []
   },
   "source": [
    "from fxtrade.keyhold import KeyHold\n",
    "from fxtrade.code import CodePair\n",
    "from fxtrade.interface.cryptowatch import CryptowatchAPI\n",
    "\n",
    "# API キーの読み込み\n",
    "key_config = KeyHold()\n",
    "\n",
    "# チャート取得のための API を指定\n",
    "chart_api = CryptowatchAPI(api_key=key_config['cryptowatch']['x-cw-api-key'])\n",
    "\n",
    "# 取得したい商品のペアを設定\n",
    "code_pair = CodePair(base='BTC', quote='JPY')\n",
    "\n",
    "# 口座にある通貨の残高を取得\n",
    "chart_api.download(code_pair)"
   ]
  },
  {
   "cell_type": "raw",
   "id": "fad68496-4767-4788-bfce-45fc98e042f1",
   "metadata": {
    "tags": []
   },
   "source": [
    "from fxtrade.keyhold import KeyHold\n",
    "from fxtrade.interface.bitflyer import BitflyerAPI\n",
    "\n",
    "# API キーの読み込み\n",
    "key_config = KeyHold()\n",
    "\n",
    "# 取引のための API を指定\n",
    "trader_api = BitflyerAPI(api_key=key_config['bitflyer']['api_key'],\n",
    "                        api_secret=key_config['bitflyer']['api_secret'])\n",
    "\n",
    "# 口座にある通貨の残高を取得\n",
    "wallet = trader_api.download_wallet()\n",
    "\n",
    "print(wallet)"
   ]
  },
  {
   "cell_type": "raw",
   "id": "eb94d418-e1bc-40fa-b2a2-a6d703e2f336",
   "metadata": {
    "tags": []
   },
   "source": [
    "wallet = trader_api.download_wallet()\n",
    "\n",
    "print(wallet['JPY'])\n",
    "print(wallet[['JPY', 'BTC']])"
   ]
  },
  {
   "cell_type": "code",
   "execution_count": 4,
   "id": "fe85da03-20c3-4e68-a0f4-89660edc406f",
   "metadata": {
    "tags": []
   },
   "outputs": [
    {
     "name": "stdout",
     "output_type": "stream",
     "text": [
      "FX(name='trader1',\n",
      "    origin='JPY',\n",
      "    data_dir='../data/trader1',\n",
      "    markets={\n",
      "        'BTC': Trader(api=BitflyerAPI(api_key='ULkE...', api_secret='IYGp...'),\n",
      "            code_pair=CodePair(base='BTC', quote='JPY'),\n",
      "            data_dir='../data/trader1/trader',\n",
      "            wallet=Wallet({\n",
      "                'BTC': Stock(BTC, 0.0),\n",
      "                'JPY': Stock(JPY, 0.0),\n",
      "            }),\n",
      "            history=History(n_trades=0),\n",
      "            chart=Chart(api=CryptowatchAPI(api_key='WLWU...'),\n",
      "                code_pair=CodePair(base='BTC', quote='JPY'),\n",
      "                data_dir='../data/trader1/chart',\n",
      "                crange_period=[CRangePeriod(crange='max', period='15m')],\n",
      "                board={\n",
      "                    CRangePeriod(crange='max', period='15m'): Board(name=CRangePeriod(crange='max', period='15m'),\n",
      "                        api=CryptowatchAPI(api_key='WLWU...'),\n",
      "                        code_pair=CodePair(base='BTC', quote='JPY'),\n",
      "                        crange_period=CRangePeriod(crange='max', period='15m'),\n",
      "                        data_dir='../data/trader1/chart/BTC-JPY/max-15m',\n",
      "                        interval=None,\n",
      "                        first_updated=None,\n",
      "                        last_updated=None,\n",
      "                    ),\n",
      "                }\n",
      "            )\n",
      "        ),\n",
      "    }\n",
      ")\n"
     ]
    }
   ],
   "source": [
    "%autoreload\n",
    "from datetime import timedelta\n",
    "\n",
    "from fxtrade.keyhold import KeyHold\n",
    "\n",
    "from fxtrade.interface.cryptowatch import CryptowatchAPI\n",
    "from fxtrade.interface.bitflyer import BitflyerAPI\n",
    "\n",
    "from fxtrade.period import CRangePeriod\n",
    "from fxtrade.fx import FX\n",
    "\n",
    "# API キーの読み込み\n",
    "key_config = KeyHold()\n",
    "\n",
    "# チャート取得のための API を指定\n",
    "chart_api = CryptowatchAPI(api_key=key_config['cryptowatch']['x-cw-api-key'])\n",
    "\n",
    "# 取引のための API を指定\n",
    "trader_api = BitflyerAPI(api_key=key_config['bitflyer']['api_key'],\n",
    "                        api_secret=key_config['bitflyer']['api_secret'])\n",
    "\n",
    "# 取引を統括する FX クラスを定義\n",
    "fx = FX(name='trader1', origin='JPY', chart_api=chart_api, trader_api=trader_api, data_dir='../data')\n",
    "\n",
    "# 15分足のチャートを用いて Bitcoin の取引を行うクライアントを定義\n",
    "fx.generate_client('BTC', crange_period=[CRangePeriod('max', '15m')])\n",
    "\n",
    "print(fx)"
   ]
  },
  {
   "cell_type": "code",
   "execution_count": 5,
   "id": "e26b3372-1b7a-4974-9f7c-34407221b6ac",
   "metadata": {
    "tags": []
   },
   "outputs": [
    {
     "data": {
      "text/plain": [
       "Board(name=CRangePeriod(crange='max', period='15m'),\n",
       "    api=CryptowatchAPI(api_key='WLWU...'),\n",
       "    code_pair=CodePair(base='BTC', quote='JPY'),\n",
       "    crange_period=CRangePeriod(crange='max', period='15m'),\n",
       "    data_dir='../data/trader1/chart/BTC-JPY/max-15m',\n",
       "    interval=0:15:00,\n",
       "    first_updated=None,\n",
       "    last_updated=None,\n",
       ")"
      ]
     },
     "execution_count": 5,
     "metadata": {},
     "output_type": "execute_result"
    }
   ],
   "source": [
    "fx['BTC'].chart['max-15m'].set_interval(timedelta(minutes=15))"
   ]
  },
  {
   "cell_type": "code",
   "execution_count": 6,
   "id": "2c90ea7d-58a8-4bad-8c93-24e2130be873",
   "metadata": {
    "tags": []
   },
   "outputs": [
    {
     "data": {
      "text/plain": [
       "FX(name='trader1',\n",
       "    origin='JPY',\n",
       "    data_dir='../data/trader1',\n",
       "    markets={\n",
       "        'BTC': Trader(api=BitflyerAPI(api_key='ULkE...', api_secret='IYGp...'),\n",
       "            code_pair=CodePair(base='BTC', quote='JPY'),\n",
       "            data_dir='../data/trader1/trader',\n",
       "            wallet=Wallet({\n",
       "                'BTC': Stock(BTC, 0.0),\n",
       "                'JPY': Stock(JPY, 0.0),\n",
       "            }),\n",
       "            history=History(n_trades=0),\n",
       "            chart=Chart(api=CryptowatchAPI(api_key='WLWU...'),\n",
       "                code_pair=CodePair(base='BTC', quote='JPY'),\n",
       "                data_dir='../data/trader1/chart',\n",
       "                crange_period=[CRangePeriod(crange='max', period='15m')],\n",
       "                board={\n",
       "                    CRangePeriod(crange='max', period='15m'): Board(name=CRangePeriod(crange='max', period='15m'),\n",
       "                        api=CryptowatchAPI(api_key='WLWU...'),\n",
       "                        code_pair=CodePair(base='BTC', quote='JPY'),\n",
       "                        crange_period=CRangePeriod(crange='max', period='15m'),\n",
       "                        data_dir='../data/trader1/chart/BTC-JPY/max-15m',\n",
       "                        interval=0:15:00,\n",
       "                        first_updated=None,\n",
       "                        last_updated=None,\n",
       "                    ),\n",
       "                }\n",
       "            )\n",
       "        ),\n",
       "    }\n",
       ")"
      ]
     },
     "execution_count": 6,
     "metadata": {},
     "output_type": "execute_result"
    }
   ],
   "source": [
    "fx"
   ]
  },
  {
   "cell_type": "code",
   "execution_count": 7,
   "id": "8b705926-21f7-4656-b893-6077c63f3b3e",
   "metadata": {
    "tags": []
   },
   "outputs": [
    {
     "name": "stderr",
     "output_type": "stream",
     "text": [
      "| trader1 | 2023-07-30 12:46:36 +0900 | INFO : FX['BTC'] sync_wallet() <- BitflyerAPI(api_key='ULkE...', api_secret='IYGp...') -> ../data/trader1/trader/wallet/wallet.csv. |\n"
     ]
    },
    {
     "data": {
      "text/plain": [
       "{'BTC': Wallet({'JPY': Stock(JPY, 134738.0), 'BTC': Stock(BTC, 5.1e-07)})}"
      ]
     },
     "execution_count": 7,
     "metadata": {},
     "output_type": "execute_result"
    }
   ],
   "source": [
    "fx.sync_wallet()"
   ]
  },
  {
   "cell_type": "code",
   "execution_count": 8,
   "id": "68e35a27-940c-46f1-a1c8-a32e2726c46f",
   "metadata": {
    "tags": []
   },
   "outputs": [
    {
     "data": {
      "text/plain": [
       "FX(name='trader1',\n",
       "    origin='JPY',\n",
       "    data_dir='../data/trader1',\n",
       "    markets={\n",
       "        'BTC': Trader(api=BitflyerAPI(api_key='ULkE...', api_secret='IYGp...'),\n",
       "            code_pair=CodePair(base='BTC', quote='JPY'),\n",
       "            data_dir='../data/trader1/trader',\n",
       "            wallet=Wallet({\n",
       "                'JPY': Stock(JPY, 134738.0),\n",
       "                'BTC': Stock(BTC, 5.1e-07),\n",
       "            }),\n",
       "            history=History(n_trades=0),\n",
       "            chart=Chart(api=CryptowatchAPI(api_key='WLWU...'),\n",
       "                code_pair=CodePair(base='BTC', quote='JPY'),\n",
       "                data_dir='../data/trader1/chart',\n",
       "                crange_period=[CRangePeriod(crange='max', period='15m')],\n",
       "                board={\n",
       "                    CRangePeriod(crange='max', period='15m'): Board(name=CRangePeriod(crange='max', period='15m'),\n",
       "                        api=CryptowatchAPI(api_key='WLWU...'),\n",
       "                        code_pair=CodePair(base='BTC', quote='JPY'),\n",
       "                        crange_period=CRangePeriod(crange='max', period='15m'),\n",
       "                        data_dir='../data/trader1/chart/BTC-JPY/max-15m',\n",
       "                        interval=0:15:00,\n",
       "                        first_updated=None,\n",
       "                        last_updated=None,\n",
       "                    ),\n",
       "                }\n",
       "            )\n",
       "        ),\n",
       "    }\n",
       ")"
      ]
     },
     "execution_count": 8,
     "metadata": {},
     "output_type": "execute_result"
    }
   ],
   "source": [
    "fx"
   ]
  },
  {
   "cell_type": "code",
   "execution_count": 9,
   "id": "cf5868ae-329e-4d00-896f-df650631e50e",
   "metadata": {
    "tags": []
   },
   "outputs": [
    {
     "data": {
      "text/plain": [
       "Chart(api=CryptowatchAPI(api_key='WLWU...'),\n",
       "    code_pair=CodePair(base='BTC', quote='JPY'),\n",
       "    data_dir='../data/trader1/chart',\n",
       "    crange_period=[CRangePeriod(crange='max', period='15m')],\n",
       "    board={\n",
       "        CRangePeriod(crange='max', period='15m'): Board(name=CRangePeriod(crange='max', period='15m'),\n",
       "            api=CryptowatchAPI(api_key='WLWU...'),\n",
       "            code_pair=CodePair(base='BTC', quote='JPY'),\n",
       "            crange_period=CRangePeriod(crange='max', period='15m'),\n",
       "            data_dir='../data/trader1/chart/BTC-JPY/max-15m',\n",
       "            interval=0:15:00,\n",
       "            first_updated=None,\n",
       "            last_updated=None,\n",
       "        ),\n",
       "    }\n",
       ")"
      ]
     },
     "execution_count": 9,
     "metadata": {},
     "output_type": "execute_result"
    }
   ],
   "source": [
    "fx['BTC'].chart"
   ]
  },
  {
   "cell_type": "code",
   "execution_count": 10,
   "id": "e8caa733-d297-462f-86d4-6493825e2c2f",
   "metadata": {
    "tags": []
   },
   "outputs": [
    {
     "data": {
      "text/plain": [
       "{CRangePeriod(crange='max', period='15m'):                       timestamp     open     high      low    close     volume\n",
       " Date                                                                          \n",
       " 2023-04-26 04:45:00  1682451900  3676494  3683107  3674850  3677205  10.207207\n",
       " 2023-04-26 05:00:00  1682452800  3676652  3692837  3676652  3688180  14.796090\n",
       " 2023-04-26 05:15:00  1682453700  3688180  3739800  3687834  3721433  80.947231\n",
       " 2023-04-26 05:30:00  1682454600  3722513  3739502  3719625  3732395  27.208322\n",
       " 2023-04-26 05:45:00  1682455500  3732396  3747076  3724924  3738806  41.775585\n",
       " ...                         ...      ...      ...      ...      ...        ...\n",
       " 2023-07-30 12:00:00  1690686000  4144549  4145135  4143188  4144210   1.425319\n",
       " 2023-07-30 12:15:00  1690686900  4144210  4144733  4143175  4143232   1.398379\n",
       " 2023-07-30 12:30:00  1690687800  4143233  4144724  4143187  4144694   1.285094\n",
       " 2023-07-30 12:45:00  1690688700  4144692  4144692  4143696  4144675   3.672477\n",
       " 2023-07-30 13:00:00  1690689600  4144673  4144673  4144649  4144649   0.171184\n",
       " \n",
       " [9154 rows x 6 columns]}"
      ]
     },
     "execution_count": 10,
     "metadata": {},
     "output_type": "execute_result"
    }
   ],
   "source": [
    "fx['BTC'].chart.sync()"
   ]
  },
  {
   "cell_type": "code",
   "execution_count": 11,
   "id": "f5a35e88-ce5c-45d7-855f-deb54a16b4f0",
   "metadata": {
    "tags": []
   },
   "outputs": [
    {
     "data": {
      "text/plain": [
       "Fraction(3, 2000)"
      ]
     },
     "execution_count": 11,
     "metadata": {},
     "output_type": "execute_result"
    }
   ],
   "source": [
    "fx['BTC'].get_commission()"
   ]
  },
  {
   "cell_type": "code",
   "execution_count": 12,
   "id": "fded81d8-1ae4-40fd-86d1-e245f4661aa2",
   "metadata": {
    "tags": []
   },
   "outputs": [
    {
     "data": {
      "text/plain": [
       "Stock(BTC, 0.001)"
      ]
     },
     "execution_count": 12,
     "metadata": {},
     "output_type": "execute_result"
    }
   ],
   "source": [
    "fx['BTC'].minimum_order_quantity()"
   ]
  },
  {
   "cell_type": "code",
   "execution_count": 13,
   "id": "8af2fe69-ba60-40a9-be31-de683777c34a",
   "metadata": {},
   "outputs": [
    {
     "data": {
      "text/plain": [
       "FX(name='trader1',\n",
       "    origin='JPY',\n",
       "    data_dir='../data/trader1',\n",
       "    markets={\n",
       "        'BTC': Trader(api=BitflyerAPI(api_key='ULkE...', api_secret='IYGp...'),\n",
       "            code_pair=CodePair(base='BTC', quote='JPY'),\n",
       "            data_dir='../data/trader1/trader',\n",
       "            wallet=Wallet({\n",
       "                'JPY': Stock(JPY, 134738.0),\n",
       "                'BTC': Stock(BTC, 5.1e-07),\n",
       "            }),\n",
       "            history=History(n_trades=0),\n",
       "            chart=Chart(api=CryptowatchAPI(api_key='WLWU...'),\n",
       "                code_pair=CodePair(base='BTC', quote='JPY'),\n",
       "                data_dir='../data/trader1/chart',\n",
       "                crange_period=[CRangePeriod(crange='max', period='15m')],\n",
       "                board={\n",
       "                    CRangePeriod(crange='max', period='15m'): Board(name=CRangePeriod(crange='max', period='15m'),\n",
       "                        api=CryptowatchAPI(api_key='WLWU...'),\n",
       "                        code_pair=CodePair(base='BTC', quote='JPY'),\n",
       "                        crange_period=CRangePeriod(crange='max', period='15m'),\n",
       "                        data_dir='../data/trader1/chart/BTC-JPY/max-15m',\n",
       "                        interval=0:15:00,\n",
       "                        first_updated=2023-04-26 04:45:00,\n",
       "                        last_updated=2023-07-30 13:00:00,\n",
       "                    ),\n",
       "                }\n",
       "            )\n",
       "        ),\n",
       "    }\n",
       ")"
      ]
     },
     "execution_count": 13,
     "metadata": {},
     "output_type": "execute_result"
    }
   ],
   "source": [
    "fx"
   ]
  },
  {
   "cell_type": "code",
   "execution_count": 14,
   "id": "826de05b-b9dc-41dc-b33a-24cc2905e13a",
   "metadata": {
    "tags": []
   },
   "outputs": [
    {
     "data": {
      "text/plain": [
       "FX(name='trader1',\n",
       "    origin='JPY',\n",
       "    data_dir='../data/trader1',\n",
       "    markets={\n",
       "        'BTC': Trader(api=BitflyerAPI(api_key='ULkE...', api_secret='IYGp...'),\n",
       "            code_pair=CodePair(base='BTC', quote='JPY'),\n",
       "            data_dir='../data/trader1/trader',\n",
       "            wallet=Wallet({\n",
       "                'JPY': Stock(JPY, 0.0),\n",
       "                'BTC': Stock(BTC, 0.0),\n",
       "            }),\n",
       "            history=History(n_trades=0),\n",
       "            chart=Chart(api=CryptowatchAPI(api_key='WLWU...'),\n",
       "                code_pair=CodePair(base='BTC', quote='JPY'),\n",
       "                data_dir='../data/trader1/chart',\n",
       "                crange_period=[CRangePeriod(crange='max', period='15m')],\n",
       "                board={\n",
       "                    CRangePeriod(crange='max', period='15m'): Board(name=CRangePeriod(crange='max', period='15m'),\n",
       "                        api=CryptowatchAPI(api_key='WLWU...'),\n",
       "                        code_pair=CodePair(base='BTC', quote='JPY'),\n",
       "                        crange_period=CRangePeriod(crange='max', period='15m'),\n",
       "                        data_dir='../data/trader1/chart/BTC-JPY/max-15m',\n",
       "                        interval=0:15:00,\n",
       "                        first_updated=None,\n",
       "                        last_updated=None,\n",
       "                    ),\n",
       "                }\n",
       "            )\n",
       "        ),\n",
       "    }\n",
       ")"
      ]
     },
     "execution_count": 14,
     "metadata": {},
     "output_type": "execute_result"
    }
   ],
   "source": [
    "fx.clear()"
   ]
  },
  {
   "cell_type": "code",
   "execution_count": 15,
   "id": "7ebfced8-9b0c-4c0e-92ce-4f5d55cf386d",
   "metadata": {
    "tags": []
   },
   "outputs": [
    {
     "data": {
      "text/html": [
       "<div>\n",
       "<style scoped>\n",
       "    .dataframe tbody tr th:only-of-type {\n",
       "        vertical-align: middle;\n",
       "    }\n",
       "\n",
       "    .dataframe tbody tr th {\n",
       "        vertical-align: top;\n",
       "    }\n",
       "\n",
       "    .dataframe thead th {\n",
       "        text-align: right;\n",
       "    }\n",
       "</style>\n",
       "<table border=\"1\" class=\"dataframe\">\n",
       "  <thead>\n",
       "    <tr style=\"text-align: right;\">\n",
       "      <th></th>\n",
       "      <th>t</th>\n",
       "      <th>id</th>\n",
       "      <th>from</th>\n",
       "      <th>X(t)</th>\n",
       "      <th>to</th>\n",
       "      <th>Y(t+dt)</th>\n",
       "      <th>R(yt/xt)</th>\n",
       "    </tr>\n",
       "  </thead>\n",
       "  <tbody>\n",
       "    <tr>\n",
       "      <th>0</th>\n",
       "      <td>2022-03-21 09:38:53.920</td>\n",
       "      <td>205779356</td>\n",
       "      <td>JPY</td>\n",
       "      <td>12304</td>\n",
       "      <td>BTC</td>\n",
       "      <td>9987/4000000</td>\n",
       "      <td>9987/49216000000</td>\n",
       "    </tr>\n",
       "    <tr>\n",
       "      <th>1</th>\n",
       "      <td>2022-03-21 16:16:35.650</td>\n",
       "      <td>205826804</td>\n",
       "      <td>BTC</td>\n",
       "      <td>130169/20000000</td>\n",
       "      <td>JPY</td>\n",
       "      <td>31782</td>\n",
       "      <td>635640000000/130169</td>\n",
       "    </tr>\n",
       "    <tr>\n",
       "      <th>2</th>\n",
       "      <td>2022-03-21 23:13:13.283</td>\n",
       "      <td>205852026</td>\n",
       "      <td>JPY</td>\n",
       "      <td>19532</td>\n",
       "      <td>BTC</td>\n",
       "      <td>9987/2500000</td>\n",
       "      <td>9987/48830000000</td>\n",
       "    </tr>\n",
       "    <tr>\n",
       "      <th>3</th>\n",
       "      <td>2022-03-21 23:30:08.560</td>\n",
       "      <td>205853392</td>\n",
       "      <td>BTC</td>\n",
       "      <td>10013/2500000</td>\n",
       "      <td>JPY</td>\n",
       "      <td>19475</td>\n",
       "      <td>2562500000/527</td>\n",
       "    </tr>\n",
       "    <tr>\n",
       "      <th>4</th>\n",
       "      <td>2022-03-21 23:34:08.553</td>\n",
       "      <td>205853689</td>\n",
       "      <td>JPY</td>\n",
       "      <td>14635</td>\n",
       "      <td>BTC</td>\n",
       "      <td>29961/10000000</td>\n",
       "      <td>29961/146350000000</td>\n",
       "    </tr>\n",
       "    <tr>\n",
       "      <th>...</th>\n",
       "      <td>...</td>\n",
       "      <td>...</td>\n",
       "      <td>...</td>\n",
       "      <td>...</td>\n",
       "      <td>...</td>\n",
       "      <td>...</td>\n",
       "      <td>...</td>\n",
       "    </tr>\n",
       "    <tr>\n",
       "      <th>95</th>\n",
       "      <td>2023-05-21 13:40:23.573</td>\n",
       "      <td>268960640</td>\n",
       "      <td>JPY</td>\n",
       "      <td>30000</td>\n",
       "      <td>JPY</td>\n",
       "      <td>0</td>\n",
       "      <td>0</td>\n",
       "    </tr>\n",
       "    <tr>\n",
       "      <th>96</th>\n",
       "      <td>2023-05-21 13:40:23.573</td>\n",
       "      <td>268960641</td>\n",
       "      <td>JPY</td>\n",
       "      <td>770</td>\n",
       "      <td>JPY</td>\n",
       "      <td>0</td>\n",
       "      <td>0</td>\n",
       "    </tr>\n",
       "    <tr>\n",
       "      <th>97</th>\n",
       "      <td>2023-05-21 13:49:33.530</td>\n",
       "      <td>268961801</td>\n",
       "      <td>JPY</td>\n",
       "      <td>0</td>\n",
       "      <td>JPY</td>\n",
       "      <td>50000</td>\n",
       "      <td>0</td>\n",
       "    </tr>\n",
       "    <tr>\n",
       "      <th>98</th>\n",
       "      <td>2023-05-27 02:04:29.260</td>\n",
       "      <td>269707003</td>\n",
       "      <td>JPY</td>\n",
       "      <td>6735</td>\n",
       "      <td>BTC</td>\n",
       "      <td>44663/25000000</td>\n",
       "      <td>44663/168375000000</td>\n",
       "    </tr>\n",
       "    <tr>\n",
       "      <th>99</th>\n",
       "      <td>2023-05-29 00:59:55.967</td>\n",
       "      <td>269947222</td>\n",
       "      <td>BTC</td>\n",
       "      <td>178667/100000000</td>\n",
       "      <td>JPY</td>\n",
       "      <td>6832</td>\n",
       "      <td>683200000000/178667</td>\n",
       "    </tr>\n",
       "  </tbody>\n",
       "</table>\n",
       "<p>100 rows × 7 columns</p>\n",
       "</div>"
      ],
      "text/plain": [
       "                         t         id from              X(t)   to   \n",
       "0  2022-03-21 09:38:53.920  205779356  JPY             12304  BTC  \\\n",
       "1  2022-03-21 16:16:35.650  205826804  BTC   130169/20000000  JPY   \n",
       "2  2022-03-21 23:13:13.283  205852026  JPY             19532  BTC   \n",
       "3  2022-03-21 23:30:08.560  205853392  BTC     10013/2500000  JPY   \n",
       "4  2022-03-21 23:34:08.553  205853689  JPY             14635  BTC   \n",
       "..                     ...        ...  ...               ...  ...   \n",
       "95 2023-05-21 13:40:23.573  268960640  JPY             30000  JPY   \n",
       "96 2023-05-21 13:40:23.573  268960641  JPY               770  JPY   \n",
       "97 2023-05-21 13:49:33.530  268961801  JPY                 0  JPY   \n",
       "98 2023-05-27 02:04:29.260  269707003  JPY              6735  BTC   \n",
       "99 2023-05-29 00:59:55.967  269947222  BTC  178667/100000000  JPY   \n",
       "\n",
       "           Y(t+dt)             R(yt/xt)  \n",
       "0     9987/4000000     9987/49216000000  \n",
       "1            31782  635640000000/130169  \n",
       "2     9987/2500000     9987/48830000000  \n",
       "3            19475       2562500000/527  \n",
       "4   29961/10000000   29961/146350000000  \n",
       "..             ...                  ...  \n",
       "95               0                    0  \n",
       "96               0                    0  \n",
       "97           50000                    0  \n",
       "98  44663/25000000   44663/168375000000  \n",
       "99            6832  683200000000/178667  \n",
       "\n",
       "[100 rows x 7 columns]"
      ]
     },
     "execution_count": 15,
     "metadata": {},
     "output_type": "execute_result"
    }
   ],
   "source": [
    "fx['BTC'].read_history()"
   ]
  },
  {
   "cell_type": "code",
   "execution_count": 16,
   "id": "dcdbc11e-0bff-4203-81e5-5280420b2039",
   "metadata": {},
   "outputs": [
    {
     "data": {
      "text/plain": [
       "{CRangePeriod(crange='max', period='15m'):                       timestamp     open     high      low    close     volume\n",
       " Date                                                                          \n",
       " 2023-04-26 04:45:00  1682451900  3676494  3683107  3674850  3677205  10.207207\n",
       " 2023-04-26 05:00:00  1682452800  3676652  3692837  3676652  3688180  14.796090\n",
       " 2023-04-26 05:15:00  1682453700  3688180  3739800  3687834  3721433  80.947231\n",
       " 2023-04-26 05:30:00  1682454600  3722513  3739502  3719625  3732395  27.208322\n",
       " 2023-04-26 05:45:00  1682455500  3732396  3747076  3724924  3738806  41.775585\n",
       " ...                         ...      ...      ...      ...      ...        ...\n",
       " 2023-07-30 12:00:00  1690686000  4144549  4145135  4143188  4144210   1.425319\n",
       " 2023-07-30 12:15:00  1690686900  4144210  4144733  4143175  4143232   1.398379\n",
       " 2023-07-30 12:30:00  1690687800  4143233  4144724  4143187  4144694   1.285094\n",
       " 2023-07-30 12:45:00  1690688700  4144692  4144692  4143696  4144675   3.672477\n",
       " 2023-07-30 13:00:00  1690689600  4144673  4144673  4144649  4144649   0.171184\n",
       " \n",
       " [9154 rows x 6 columns]}"
      ]
     },
     "execution_count": 16,
     "metadata": {},
     "output_type": "execute_result"
    }
   ],
   "source": [
    "emu = fx.create_emulator(name='emulator1', data_dir='../emulator')\n",
    "emu['BTC'].update_chart()"
   ]
  },
  {
   "cell_type": "code",
   "execution_count": 17,
   "id": "da5b8df2-4fc8-4570-ae7a-a38d35ec3aca",
   "metadata": {
    "tags": []
   },
   "outputs": [
    {
     "data": {
      "text/plain": [
       "Chart(api=ChartEmulatorAPI(api=CryptowatchAPI, source_dir='../data/trader1/chart'),\n",
       "    code_pair=CodePair(base='BTC', quote='JPY'),\n",
       "    data_dir='../emulator/emulator1/chart',\n",
       "    crange_period=[CRangePeriod(crange='max', period='15m')],\n",
       "    board={\n",
       "        CRangePeriod(crange='max', period='15m'): Board(name=CRangePeriod(crange='max', period='15m'),\n",
       "            api=ChartEmulatorAPI(api=CryptowatchAPI, source_dir='../data/trader1/chart'),\n",
       "            code_pair=CodePair(base='BTC', quote='JPY'),\n",
       "            crange_period=CRangePeriod(crange='max', period='15m'),\n",
       "            data_dir='../emulator/emulator1/chart/BTC-JPY/max-15m',\n",
       "            interval=None,\n",
       "            first_updated=2023-04-26 04:45:00,\n",
       "            last_updated=2023-07-30 13:00:00,\n",
       "        ),\n",
       "    }\n",
       ")"
      ]
     },
     "execution_count": 17,
     "metadata": {},
     "output_type": "execute_result"
    }
   ],
   "source": [
    "emu['BTC'].chart.save()"
   ]
  },
  {
   "cell_type": "markdown",
   "id": "ffa311d9-9945-4f25-97ed-8aecb53a6354",
   "metadata": {
    "tags": []
   },
   "source": [
    "# emulator"
   ]
  },
  {
   "cell_type": "code",
   "execution_count": 18,
   "id": "451e1e85-1ef9-446b-936b-ad782e7b5bbb",
   "metadata": {},
   "outputs": [
    {
     "name": "stdout",
     "output_type": "stream",
     "text": [
      "FX(name='trader1',\n",
      "    origin='JPY',\n",
      "    data_dir='../data/trader1',\n",
      "    markets={\n",
      "        'BTC': Trader(api=BitflyerAPI(api_key='ULkE...', api_secret='IYGp...'),\n",
      "            code_pair=CodePair(base='BTC', quote='JPY'),\n",
      "            data_dir='../data/trader1/trader',\n",
      "            wallet=Wallet({\n",
      "                'BTC': Stock(BTC, 0.0),\n",
      "                'JPY': Stock(JPY, 0.0),\n",
      "            }),\n",
      "            history=History(n_trades=0),\n",
      "            chart=Chart(api=CryptowatchAPI(api_key='WLWU...'),\n",
      "                code_pair=CodePair(base='BTC', quote='JPY'),\n",
      "                data_dir='../data/trader1/chart',\n",
      "                crange_period=[CRangePeriod(crange='max', period='15m')],\n",
      "                board={\n",
      "                    CRangePeriod(crange='max', period='15m'): Board(name=CRangePeriod(crange='max', period='15m'),\n",
      "                        api=CryptowatchAPI(api_key='WLWU...'),\n",
      "                        code_pair=CodePair(base='BTC', quote='JPY'),\n",
      "                        crange_period=CRangePeriod(crange='max', period='15m'),\n",
      "                        data_dir='../data/trader1/chart/BTC-JPY/max-15m',\n",
      "                        interval=None,\n",
      "                        first_updated=None,\n",
      "                        last_updated=None,\n",
      "                    ),\n",
      "                }\n",
      "            )\n",
      "        ),\n",
      "    }\n",
      ")\n"
     ]
    }
   ],
   "source": [
    "%autoreload\n",
    "from fxtrade.keyhold import KeyHold\n",
    "\n",
    "from fxtrade.interface.cryptowatch import CryptowatchAPI\n",
    "from fxtrade.interface.bitflyer import BitflyerAPI\n",
    "\n",
    "from fxtrade.period import CRangePeriod\n",
    "from fxtrade.fx import FX\n",
    "\n",
    "# API キーの読み込み\n",
    "key_config = KeyHold()\n",
    "\n",
    "# チャート取得のための API を指定\n",
    "chart_api = CryptowatchAPI(api_key=key_config['cryptowatch']['x-cw-api-key'])\n",
    "\n",
    "# 取引のための API を指定\n",
    "trader_api = BitflyerAPI(api_key=key_config['bitflyer']['api_key'],\n",
    "                        api_secret=key_config['bitflyer']['api_secret'])\n",
    "\n",
    "# 取引を統括する FX クラスを定義\n",
    "fx = FX(name='trader1', origin='JPY', chart_api=chart_api, trader_api=trader_api, data_dir='../data')\n",
    "\n",
    "# 15分足のチャートを用いて Bitcoin の取引を行うクライアントを定義\n",
    "fx.generate_client('BTC', crange_period=[CRangePeriod('max', '15m')])\n",
    "\n",
    "print(fx)"
   ]
  },
  {
   "cell_type": "code",
   "execution_count": 19,
   "id": "d699154e-0173-4a46-9714-bfa4438b08e7",
   "metadata": {
    "tags": []
   },
   "outputs": [],
   "source": [
    "emu = fx.create_emulator(name='emulator1', data_dir='../emulator')"
   ]
  },
  {
   "cell_type": "code",
   "execution_count": 20,
   "id": "9152c359-d9ba-4baf-a8a1-32038225a223",
   "metadata": {
    "tags": []
   },
   "outputs": [
    {
     "data": {
      "text/plain": [
       "FX(name='emulator1',\n",
       "    origin='JPY',\n",
       "    data_dir='../emulator/emulator1',\n",
       "    markets={\n",
       "        'BTC': Trader(api=TraderEmulatorAPI(api=BitflyerAPI, source_dir='../data/trader1/trader'),\n",
       "            code_pair=CodePair(base='BTC', quote='JPY'),\n",
       "            data_dir='../emulator/emulator1/trader',\n",
       "            wallet=Wallet({\n",
       "                'BTC': Stock(BTC, 0.0),\n",
       "                'JPY': Stock(JPY, 0.0),\n",
       "            }),\n",
       "            history=History(n_trades=0),\n",
       "            chart=Chart(api=ChartEmulatorAPI(api=CryptowatchAPI, source_dir='../data/trader1/chart'),\n",
       "                code_pair=CodePair(base='BTC', quote='JPY'),\n",
       "                data_dir='../emulator/emulator1/chart',\n",
       "                crange_period=[CRangePeriod(crange='max', period='15m')],\n",
       "                board={\n",
       "                    CRangePeriod(crange='max', period='15m'): Board(name=CRangePeriod(crange='max', period='15m'),\n",
       "                        api=ChartEmulatorAPI(api=CryptowatchAPI, source_dir='../data/trader1/chart'),\n",
       "                        code_pair=CodePair(base='BTC', quote='JPY'),\n",
       "                        crange_period=CRangePeriod(crange='max', period='15m'),\n",
       "                        data_dir='../emulator/emulator1/chart/BTC-JPY/max-15m',\n",
       "                        interval=None,\n",
       "                        first_updated=None,\n",
       "                        last_updated=None,\n",
       "                    ),\n",
       "                }\n",
       "            )\n",
       "        ),\n",
       "    }\n",
       ")"
      ]
     },
     "execution_count": 20,
     "metadata": {},
     "output_type": "execute_result"
    }
   ],
   "source": [
    "emu"
   ]
  },
  {
   "cell_type": "code",
   "execution_count": 21,
   "id": "03c98c2a-31e8-42aa-a44f-a88a0a31b68d",
   "metadata": {
    "tags": []
   },
   "outputs": [
    {
     "name": "stderr",
     "output_type": "stream",
     "text": [
      "| emulator1 | 2023-07-30 12:46:38 +0900 | INFO : FX['BTC'] download_wallet() <- TraderEmulatorAPI(api=BitflyerAPI, source_dir='../data/trader1/trader'). |\n"
     ]
    },
    {
     "data": {
      "text/plain": [
       "{'BTC': Wallet({'JPY': Stock(JPY, 134738.0), 'BTC': Stock(BTC, 5.1e-07)})}"
      ]
     },
     "execution_count": 21,
     "metadata": {},
     "output_type": "execute_result"
    }
   ],
   "source": [
    "emu.download_wallet()"
   ]
  },
  {
   "cell_type": "code",
   "execution_count": 22,
   "id": "50f22c04-debd-4357-98f6-c004ca7603e1",
   "metadata": {
    "tags": []
   },
   "outputs": [
    {
     "name": "stderr",
     "output_type": "stream",
     "text": [
      "| emulator1 | 2023-07-30 12:46:38 +0900 | INFO : FX['BTC'] save_wallet() -> '../emulator/emulator1/trader/wallet/wallet.csv'. |\n"
     ]
    },
    {
     "data": {
      "text/plain": [
       "{'BTC': PosixPath('../emulator/emulator1/trader/wallet/wallet.csv')}"
      ]
     },
     "execution_count": 22,
     "metadata": {},
     "output_type": "execute_result"
    }
   ],
   "source": [
    "emu.save_wallet()"
   ]
  },
  {
   "cell_type": "code",
   "execution_count": 23,
   "id": "d9a468b7-bc28-425a-8b4d-5c524c0d8c0c",
   "metadata": {
    "tags": []
   },
   "outputs": [
    {
     "name": "stderr",
     "output_type": "stream",
     "text": [
      "| emulator1 | 2023-07-30 12:46:38 +0900 | INFO : FX['BTC'] load_wallet() <- '../emulator/emulator1/trader/wallet/wallet.csv'. |\n"
     ]
    },
    {
     "data": {
      "text/plain": [
       "{'BTC': Wallet({'BTC': Stock(BTC, 0.0), 'JPY': Stock(JPY, 0.0)})}"
      ]
     },
     "execution_count": 23,
     "metadata": {},
     "output_type": "execute_result"
    }
   ],
   "source": [
    "emu.load_wallet()"
   ]
  },
  {
   "cell_type": "code",
   "execution_count": 24,
   "id": "8d8af468-4d03-4f83-a650-3128608ddb12",
   "metadata": {
    "tags": []
   },
   "outputs": [
    {
     "name": "stderr",
     "output_type": "stream",
     "text": [
      "| emulator1 | 2023-07-30 12:46:38 +0900 | INFO : FX['BTC'] update_wallet() <- TraderEmulatorAPI(api=BitflyerAPI, source_dir='../data/trader1/trader'). |\n"
     ]
    },
    {
     "data": {
      "text/plain": [
       "{'BTC': Wallet({'JPY': Stock(JPY, 134738.0), 'BTC': Stock(BTC, 5.1e-07)})}"
      ]
     },
     "execution_count": 24,
     "metadata": {},
     "output_type": "execute_result"
    }
   ],
   "source": [
    "emu.update_wallet()"
   ]
  },
  {
   "cell_type": "code",
   "execution_count": 25,
   "id": "1d4050f9-fd99-42af-a906-f7300ac8e064",
   "metadata": {
    "tags": []
   },
   "outputs": [
    {
     "name": "stderr",
     "output_type": "stream",
     "text": [
      "| emulator1 | 2023-07-30 12:46:38 +0900 | INFO : FX['BTC'] sync_wallet() <- TraderEmulatorAPI(api=BitflyerAPI, source_dir='../data/trader1/trader') -> ../emulator/emulator1/trader/wallet/wallet.csv. |\n"
     ]
    },
    {
     "data": {
      "text/plain": [
       "{'BTC': Wallet({'JPY': Stock(JPY, 134738.0), 'BTC': Stock(BTC, 5.1e-07)})}"
      ]
     },
     "execution_count": 25,
     "metadata": {},
     "output_type": "execute_result"
    }
   ],
   "source": [
    "emu.sync_wallet()"
   ]
  },
  {
   "cell_type": "code",
   "execution_count": 26,
   "id": "21764335-d6d0-433d-bbd5-afd9bd2eb87f",
   "metadata": {
    "tags": []
   },
   "outputs": [
    {
     "ename": "NameError",
     "evalue": "name 'datetime' is not defined",
     "output_type": "error",
     "traceback": [
      "\u001b[0;31m---------------------------------------------------------------------------\u001b[0m",
      "\u001b[0;31mNameError\u001b[0m                                 Traceback (most recent call last)",
      "Cell \u001b[0;32mIn[26], line 1\u001b[0m\n\u001b[0;32m----> 1\u001b[0m emu[\u001b[38;5;124m'\u001b[39m\u001b[38;5;124mBTC\u001b[39m\u001b[38;5;124m'\u001b[39m]\u001b[38;5;241m.\u001b[39mupdate_chart(\u001b[43mdatetime\u001b[49m(\u001b[38;5;241m2023\u001b[39m, \u001b[38;5;241m5\u001b[39m, \u001b[38;5;241m8\u001b[39m))\n",
      "\u001b[0;31mNameError\u001b[0m: name 'datetime' is not defined"
     ]
    }
   ],
   "source": [
    "emu['BTC'].update_chart(datetime(2023, 5, 8))"
   ]
  },
  {
   "cell_type": "code",
   "execution_count": null,
   "id": "feeb83de-bef2-4944-945d-fca7efb8f17f",
   "metadata": {
    "tags": []
   },
   "outputs": [],
   "source": [
    "emu['BTC'].save_chart()"
   ]
  },
  {
   "cell_type": "code",
   "execution_count": null,
   "id": "ccab653a-9ab2-414e-a0ee-bb036006015b",
   "metadata": {
    "tags": []
   },
   "outputs": [],
   "source": [
    "from datetime import datetime\n",
    "\n",
    "emu['BTC'].chart.download(t=datetime(2023, 5, 5))"
   ]
  },
  {
   "cell_type": "code",
   "execution_count": null,
   "id": "a3f4461f-15b3-47ec-9db9-e74b081f4ef0",
   "metadata": {
    "tags": []
   },
   "outputs": [],
   "source": [
    "emu['BTC'].chart.update(t=datetime(2023, 5, 5))"
   ]
  },
  {
   "cell_type": "code",
   "execution_count": null,
   "id": "4cafea07-ec7a-400f-b452-235385ada060",
   "metadata": {
    "tags": []
   },
   "outputs": [],
   "source": [
    "emu['BTC'].update_chart(t=datetime(2023, 5, 6))"
   ]
  },
  {
   "cell_type": "code",
   "execution_count": null,
   "id": "f7121f39-3e3e-4039-a6cb-3a3949b01f86",
   "metadata": {
    "tags": []
   },
   "outputs": [],
   "source": [
    "emu['BTC']"
   ]
  },
  {
   "cell_type": "code",
   "execution_count": null,
   "id": "852324ca-9451-4a8d-9fb6-c87d44322f78",
   "metadata": {
    "tags": []
   },
   "outputs": [],
   "source": [
    "emu.update_chart(t=datetime(2023, 5, 8))"
   ]
  },
  {
   "cell_type": "code",
   "execution_count": null,
   "id": "ceae8998-81d9-47c3-bcc9-080b6603ec24",
   "metadata": {
    "tags": []
   },
   "outputs": [],
   "source": [
    "from fxtrade.stock import Stock\n",
    "\n",
    "emu['BTC'].buy(Stock('BTC', 2), t=datetime(2023, 4, 29), permit=True)"
   ]
  },
  {
   "cell_type": "code",
   "execution_count": null,
   "id": "6894ef72-74ab-4f94-b229-db0851741743",
   "metadata": {
    "tags": []
   },
   "outputs": [],
   "source": [
    "emu['BTC'].api"
   ]
  },
  {
   "cell_type": "code",
   "execution_count": null,
   "id": "b43e512f-0aee-4b92-b93e-9ef4cc404249",
   "metadata": {},
   "outputs": [],
   "source": []
  }
 ],
 "metadata": {
  "kernelspec": {
   "display_name": "Python 3 (ipykernel)",
   "language": "python",
   "name": "python3"
  },
  "language_info": {
   "codemirror_mode": {
    "name": "ipython",
    "version": 3
   },
   "file_extension": ".py",
   "mimetype": "text/x-python",
   "name": "python",
   "nbconvert_exporter": "python",
   "pygments_lexer": "ipython3",
   "version": "3.10.6"
  }
 },
 "nbformat": 4,
 "nbformat_minor": 5
}
