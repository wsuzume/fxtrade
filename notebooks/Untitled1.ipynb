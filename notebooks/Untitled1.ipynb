{
 "cells": [
  {
   "cell_type": "code",
   "execution_count": 1,
   "id": "b37a654e-6ad5-4c60-ad2f-77207b2b7a43",
   "metadata": {},
   "outputs": [],
   "source": [
    "%load_ext autoreload"
   ]
  },
  {
   "cell_type": "code",
   "execution_count": 2,
   "id": "fc634799-51da-4d68-9e27-c71eb31e60c9",
   "metadata": {},
   "outputs": [],
   "source": [
    "import pandas as pd"
   ]
  },
  {
   "cell_type": "code",
   "execution_count": 3,
   "id": "159524b1-06b4-4566-b70d-9e45cd360e91",
   "metadata": {},
   "outputs": [],
   "source": [
    "import sys\n",
    "\n",
    "if '../' not in sys.path:\n",
    "    sys.path.append('../')\n",
    "\n",
    "if '../../keyhold' not in sys.path:\n",
    "    sys.path.append('../../keyhold')\n",
    "    \n",
    "if '../../framehaze' not in sys.path:\n",
    "    sys.path.append('../../framehaze')"
   ]
  },
  {
   "cell_type": "code",
   "execution_count": 4,
   "id": "f5a9afc0-1cdf-484a-bf7a-2122f53ce963",
   "metadata": {},
   "outputs": [],
   "source": [
    "%autoreload\n",
    "from framehaze.haze import Haze, Directory, with_timestamp"
   ]
  },
  {
   "cell_type": "code",
   "execution_count": 5,
   "id": "5ff30703-2d30-4afa-b679-dcd62e2e4559",
   "metadata": {},
   "outputs": [],
   "source": [
    "haze = Haze(name='test', root_dir='../data', default_query='*')"
   ]
  },
  {
   "cell_type": "code",
   "execution_count": 6,
   "id": "3cd04b52-969e-46a9-9beb-35ccbc0aa5e4",
   "metadata": {},
   "outputs": [],
   "source": [
    "haze.add_branch(['dir1', 'dir2', 'dir3'])"
   ]
  },
  {
   "cell_type": "code",
   "execution_count": 7,
   "id": "ad502137-21ef-4a6d-add4-7ead3be652c8",
   "metadata": {},
   "outputs": [
    {
     "data": {
      "text/plain": [
       "Haze({'dir1': 'dir1', 'dir2': 'dir2', 'dir3': 'dir3'})"
      ]
     },
     "execution_count": 7,
     "metadata": {},
     "output_type": "execute_result"
    }
   ],
   "source": [
    "haze"
   ]
  },
  {
   "cell_type": "code",
   "execution_count": 8,
   "id": "2cb5a263-cf93-4c07-a6d3-e38798a4b7f4",
   "metadata": {},
   "outputs": [
    {
     "data": {
      "text/plain": [
       "Directory('../data/test')"
      ]
     },
     "execution_count": 8,
     "metadata": {},
     "output_type": "execute_result"
    }
   ],
   "source": [
    "haze.data_dir"
   ]
  },
  {
   "cell_type": "code",
   "execution_count": 9,
   "id": "82c6e59b-3ad4-4c90-9b96-910e284f887b",
   "metadata": {},
   "outputs": [
    {
     "data": {
      "text/plain": [
       "['../data/test/dir2', '../data/test/dir3']"
      ]
     },
     "execution_count": 9,
     "metadata": {},
     "output_type": "execute_result"
    }
   ],
   "source": [
    "haze.glob()"
   ]
  },
  {
   "cell_type": "code",
   "execution_count": 10,
   "id": "4e18d5a2-00c7-4dfb-8443-693d71a949a9",
   "metadata": {},
   "outputs": [
    {
     "name": "stdout",
     "output_type": "stream",
     "text": [
      "[Branch]\n",
      "  ../data/test/dir1   ... Created\n",
      "  ../data/test/dir2   ... OK\n",
      "  ../data/test/dir3   ... OK\n"
     ]
    }
   ],
   "source": [
    "haze.ensure()"
   ]
  },
  {
   "cell_type": "code",
   "execution_count": 11,
   "id": "1cc13da7-d25c-4cbd-ad35-2efe81078b99",
   "metadata": {},
   "outputs": [
    {
     "data": {
      "text/plain": [
       "Directory('../data/test/dir1')"
      ]
     },
     "execution_count": 11,
     "metadata": {},
     "output_type": "execute_result"
    }
   ],
   "source": [
    "haze.data_dir['dir1']"
   ]
  },
  {
   "cell_type": "code",
   "execution_count": 12,
   "id": "c5710c7b-82a0-486f-b1ce-4eea62eaa961",
   "metadata": {},
   "outputs": [],
   "source": [
    "haze.data_dir['dir1'].rmtree()"
   ]
  },
  {
   "cell_type": "code",
   "execution_count": 13,
   "id": "c3921292-a348-4e8a-972a-1f96f6eb270f",
   "metadata": {},
   "outputs": [
    {
     "data": {
      "text/plain": [
       "Directory('../data/test/dir2')"
      ]
     },
     "execution_count": 13,
     "metadata": {},
     "output_type": "execute_result"
    }
   ],
   "source": [
    "haze['dir2']"
   ]
  },
  {
   "cell_type": "code",
   "execution_count": 14,
   "id": "661c4c96-9e8e-4072-9bee-1fd3b69e6661",
   "metadata": {},
   "outputs": [
    {
     "data": {
      "text/plain": [
       "'20220513T14-59-44-627221_hoge'"
      ]
     },
     "execution_count": 14,
     "metadata": {},
     "output_type": "execute_result"
    }
   ],
   "source": [
    "with_timestamp('hoge', scope='millisecond')"
   ]
  },
  {
   "cell_type": "code",
   "execution_count": 15,
   "id": "b7c369e0-4ed9-4bfb-ae44-bae086a84aa8",
   "metadata": {},
   "outputs": [
    {
     "data": {
      "text/plain": [
       "PosixPath('../data/test/dir2/20220513_hoge.csv')"
      ]
     },
     "execution_count": 15,
     "metadata": {},
     "output_type": "execute_result"
    }
   ],
   "source": [
    "haze['dir2'].now('hoge.csv')"
   ]
  },
  {
   "cell_type": "code",
   "execution_count": 16,
   "id": "632a3c27-c06e-4fd3-9e50-547805ffa064",
   "metadata": {},
   "outputs": [
    {
     "data": {
      "text/plain": [
       "2"
      ]
     },
     "execution_count": 16,
     "metadata": {},
     "output_type": "execute_result"
    }
   ],
   "source": [
    "len(haze.data_dir)"
   ]
  },
  {
   "cell_type": "code",
   "execution_count": 17,
   "id": "d9eca43b-5cfc-4eca-b513-75234209536f",
   "metadata": {},
   "outputs": [
    {
     "name": "stdout",
     "output_type": "stream",
     "text": [
      "../data/test/dir2\n",
      "../data/test/dir3\n"
     ]
    }
   ],
   "source": [
    "for path in haze.data_dir:\n",
    "    print(path)"
   ]
  },
  {
   "cell_type": "code",
   "execution_count": 18,
   "id": "268bd119-2bbf-4bb3-a8d3-f2d89af5aa81",
   "metadata": {},
   "outputs": [
    {
     "name": "stdout",
     "output_type": "stream",
     "text": [
      "../data/test/dir2\n",
      "../data/test/dir3\n"
     ]
    }
   ],
   "source": [
    "for path in haze.data_dir.glob():\n",
    "    print(path)"
   ]
  },
  {
   "cell_type": "code",
   "execution_count": 19,
   "id": "3e83ea2b-f051-4c1b-9fdc-609310921ee7",
   "metadata": {},
   "outputs": [
    {
     "data": {
      "text/plain": [
       "['../data/test/dir2', '../data/test/dir3']"
      ]
     },
     "execution_count": 19,
     "metadata": {},
     "output_type": "execute_result"
    }
   ],
   "source": [
    "haze.data_dir.glob()"
   ]
  },
  {
   "cell_type": "code",
   "execution_count": 20,
   "id": "9f5ae0c8-8566-4a86-8d95-2c78721bb335",
   "metadata": {},
   "outputs": [
    {
     "data": {
      "text/plain": [
       "Directory('../data/test/dir2')"
      ]
     },
     "execution_count": 20,
     "metadata": {},
     "output_type": "execute_result"
    }
   ],
   "source": [
    "haze.data_dir.first()"
   ]
  },
  {
   "cell_type": "code",
   "execution_count": 21,
   "id": "a211e60d-550b-474f-9d79-45e3bc379982",
   "metadata": {},
   "outputs": [
    {
     "data": {
      "text/plain": [
       "Directory('../data/test/dir3')"
      ]
     },
     "execution_count": 21,
     "metadata": {},
     "output_type": "execute_result"
    }
   ],
   "source": [
    "haze.data_dir.last()"
   ]
  },
  {
   "cell_type": "code",
   "execution_count": null,
   "id": "ee9d0866-093c-4511-a4be-61d703bbd2ee",
   "metadata": {},
   "outputs": [],
   "source": []
  }
 ],
 "metadata": {
  "kernelspec": {
   "display_name": "Python 3 (ipykernel)",
   "language": "python",
   "name": "python3"
  },
  "language_info": {
   "codemirror_mode": {
    "name": "ipython",
    "version": 3
   },
   "file_extension": ".py",
   "mimetype": "text/x-python",
   "name": "python",
   "nbconvert_exporter": "python",
   "pygments_lexer": "ipython3",
   "version": "3.9.10"
  }
 },
 "nbformat": 4,
 "nbformat_minor": 5
}
