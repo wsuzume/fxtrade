{
 "cells": [
  {
   "cell_type": "code",
   "execution_count": 1,
   "id": "f3aadaaf-6cfc-4d1c-8067-fc7d24ece94d",
   "metadata": {},
   "outputs": [],
   "source": [
    "%load_ext autoreload"
   ]
  },
  {
   "cell_type": "code",
   "execution_count": 2,
   "id": "55bb68ea-4ded-4b9f-ae18-ff344ec55157",
   "metadata": {},
   "outputs": [],
   "source": [
    "import pandas as pd"
   ]
  },
  {
   "cell_type": "code",
   "execution_count": 3,
   "id": "715a9fd4-e618-48f9-890a-6d42821ecfac",
   "metadata": {},
   "outputs": [],
   "source": [
    "import sys\n",
    "\n",
    "if '../' not in sys.path:\n",
    "    sys.path.append('../')\n",
    "\n",
    "if '../../keyhold' not in sys.path:\n",
    "    sys.path.append('../../keyhold')"
   ]
  },
  {
   "cell_type": "code",
   "execution_count": 4,
   "id": "b6997829-9a21-4921-b4d7-1884cc158122",
   "metadata": {},
   "outputs": [],
   "source": [
    "%autoreload\n",
    "\n",
    "from fxtrade.stock import Stock, Rate\n",
    "from fxtrade.trade import Trade, TradePair, History, Report\n",
    "from fxtrade.stocks import JPY, BTC\n",
    "\n",
    "from fxtrade.dirmap import Directory, DirMap\n",
    "\n",
    "from fxtrade.api import ChartAPI\n",
    "from fxtrade.yfinance import YahooFinanceAPI\n",
    "from fxtrade.chart import Chart\n",
    "from fxtrade.fx import FX"
   ]
  },
  {
   "cell_type": "code",
   "execution_count": 13,
   "id": "2d299b34-121c-4c61-8ded-05cd61400f37",
   "metadata": {},
   "outputs": [
    {
     "name": "stdout",
     "output_type": "stream",
     "text": [
      "Directory: None  ... Skipped\n"
     ]
    },
    {
     "data": {
      "text/plain": [
       "InvalidDirectory"
      ]
     },
     "execution_count": 13,
     "metadata": {},
     "output_type": "execute_result"
    }
   ],
   "source": [
    "Directory(None).ensure(verbose=True)"
   ]
  },
  {
   "cell_type": "code",
   "execution_count": 6,
   "id": "3e403c33-9780-49c1-b9dc-79fcdedc3ad2",
   "metadata": {},
   "outputs": [
    {
     "data": {
      "text/plain": [
       "DirMap('hoge', {})"
      ]
     },
     "execution_count": 6,
     "metadata": {},
     "output_type": "execute_result"
    }
   ],
   "source": [
    "dm = DirMap('hoge')\n",
    "dm"
   ]
  },
  {
   "cell_type": "code",
   "execution_count": 7,
   "id": "34b426f9-5b58-4250-8f7e-8cc1c3ac1ba3",
   "metadata": {},
   "outputs": [],
   "source": [
    "dm.add_branch('fuga')"
   ]
  },
  {
   "cell_type": "code",
   "execution_count": 8,
   "id": "a0eb3fa9-3b6c-4a70-9309-1c3571e137ab",
   "metadata": {},
   "outputs": [
    {
     "data": {
      "text/plain": [
       "DirMap('hoge', {\n",
       "  'fuga': 'fuga',\n",
       "})"
      ]
     },
     "execution_count": 8,
     "metadata": {},
     "output_type": "execute_result"
    }
   ],
   "source": [
    "dm"
   ]
  },
  {
   "cell_type": "code",
   "execution_count": 9,
   "id": "058446b9-dd0a-4ee5-8f15-1d1f960e4d4d",
   "metadata": {},
   "outputs": [
    {
     "data": {
      "text/plain": [
       "{'fuga': 'fuga'}"
      ]
     },
     "execution_count": 9,
     "metadata": {},
     "output_type": "execute_result"
    }
   ],
   "source": [
    "dm._branch"
   ]
  },
  {
   "cell_type": "code",
   "execution_count": 10,
   "id": "a0c0e369-4863-43c4-ab8a-fd95018331fc",
   "metadata": {},
   "outputs": [],
   "source": [
    "dm.add_branch('piyo', reserve=True)"
   ]
  },
  {
   "cell_type": "code",
   "execution_count": 11,
   "id": "6a178ebe-e549-47bb-bc76-0b51af00434e",
   "metadata": {},
   "outputs": [
    {
     "data": {
      "text/plain": [
       "DirMap('hoge', {\n",
       "  'fuga': 'fuga',\n",
       "  'piyo': None,\n",
       "})"
      ]
     },
     "execution_count": 11,
     "metadata": {},
     "output_type": "execute_result"
    }
   ],
   "source": [
    "dm"
   ]
  },
  {
   "cell_type": "code",
   "execution_count": 12,
   "id": "e47189cf-0c78-4426-a893-dfa042062a92",
   "metadata": {},
   "outputs": [
    {
     "data": {
      "text/plain": [
       "\"DirMap('hoge', {'fuga': 'fuga', 'piyo': None})\""
      ]
     },
     "execution_count": 12,
     "metadata": {},
     "output_type": "execute_result"
    }
   ],
   "source": [
    "str(dm)"
   ]
  }
 ],
 "metadata": {
  "kernelspec": {
   "display_name": "Python 3 (ipykernel)",
   "language": "python",
   "name": "python3"
  },
  "language_info": {
   "codemirror_mode": {
    "name": "ipython",
    "version": 3
   },
   "file_extension": ".py",
   "mimetype": "text/x-python",
   "name": "python",
   "nbconvert_exporter": "python",
   "pygments_lexer": "ipython3",
   "version": "3.9.10"
  }
 },
 "nbformat": 4,
 "nbformat_minor": 5
}
