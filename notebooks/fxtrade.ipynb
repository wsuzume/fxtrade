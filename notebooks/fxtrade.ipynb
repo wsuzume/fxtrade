{
 "cells": [
  {
   "cell_type": "code",
   "execution_count": 1,
   "id": "12b4b73d-df44-40b0-9725-35c80aa4e5d0",
   "metadata": {},
   "outputs": [],
   "source": [
    "%load_ext autoreload"
   ]
  },
  {
   "cell_type": "code",
   "execution_count": 2,
   "id": "48c59973-5353-4a40-999d-571abed73671",
   "metadata": {},
   "outputs": [],
   "source": [
    "import sys\n",
    "\n",
    "if '../' not in sys.path:\n",
    "    sys.path.append('../')\n",
    "\n",
    "if '../../keyhold' not in sys.path:\n",
    "    sys.path.append('../../keyhold')"
   ]
  },
  {
   "cell_type": "code",
   "execution_count": 8,
   "id": "6ad495d8-dd20-4209-8106-20d89f5166ac",
   "metadata": {},
   "outputs": [],
   "source": [
    "from keyhold import KeyHold\n",
    "\n",
    "key_config = KeyHold()"
   ]
  },
  {
   "cell_type": "code",
   "execution_count": 4,
   "id": "8680a5b0-70fa-4dae-b14b-1a596cfa197c",
   "metadata": {},
   "outputs": [],
   "source": [
    "%autoreload\n",
    "from fxtrade.interface.yfinance import YahooFinanceAPI\n",
    "from fxtrade.interface.cryptowatch import CryptowatchAPI\n",
    "from fxtrade.interface.bitflyer import BitflyerAPI\n",
    "\n",
    "from fxtrade.stock import CurrencyPair\n",
    "from fxtrade.wallet import Wallet\n",
    "from fxtrade.chart import Chart, Board\n",
    "from fxtrade.trader import Trader\n",
    "from fxtrade.fx import FX"
   ]
  },
  {
   "cell_type": "raw",
   "id": "4389e10b-aa82-4931-951b-da945665950e",
   "metadata": {},
   "source": [
    "# チャート取得のための API を指定\n",
    "chart_api = YahooFinanceAPI(api_key=key_config['yahoo']['x-api-key'])\n",
    "\n",
    "# チャートを管理するクラスの生成\n",
    "chart = Chart(chart_api,\n",
    "              currency_pair=CurrencyPair('JPY', 'BTC'),\n",
    "              data_dir='../data/chart',\n",
    "              crange_interval=['1mo-15m'], #crange_interval=['10y-1d', '1mo-15m', '5d-1m']\n",
    "             )"
   ]
  },
  {
   "cell_type": "code",
   "execution_count": 11,
   "id": "1b17e20e-9912-45f6-8f08-24b65f284438",
   "metadata": {},
   "outputs": [],
   "source": [
    "# チャート取得のための API を指定\n",
    "chart_api = CryptowatchAPI(api_key=key_config['cryptowatch']['x-cw-api-key'])\n",
    "\n",
    "# チャートを管理するクラスの生成\n",
    "chart = Chart(chart_api,\n",
    "              currency_pair=CurrencyPair('JPY', 'BTC'),\n",
    "              data_dir='../data/chart',\n",
    "              crange_interval=['max-15m'], #crange_interval=['10y-1d', '1mo-15m', '5d-1m']\n",
    "             )"
   ]
  },
  {
   "cell_type": "code",
   "execution_count": 12,
   "id": "f7ef40ee-0c44-4eff-a350-452aa62cb679",
   "metadata": {},
   "outputs": [],
   "source": [
    "# 取引のための API を指定\n",
    "trader_api = BitflyerAPI(api_key=key_config['bitflyer']['api_key'],\n",
    "                        api_secret=key_config['bitflyer']['api_secret'])\n",
    "\n",
    "#hist = trade_api.get_history(start_date=pd.Timestamp(2021, 12, 1))\n",
    "\n",
    "# 取引を管理するクラスの生成\n",
    "trader = Trader(\n",
    "            currency_pair=CurrencyPair('JPY', 'USD'),\n",
    "            api=trader_api,\n",
    "            chart=chart,\n",
    "            history=None,\n",
    "            data_dir='../data/trader',\n",
    "         )"
   ]
  },
  {
   "cell_type": "code",
   "execution_count": 13,
   "id": "022f9662-aa44-4e8c-8379-aac308b8d6d8",
   "metadata": {},
   "outputs": [],
   "source": [
    "fx = FX('JPY', trader_api=trader_api, chart_api=chart_api, data_dir='../data')"
   ]
  },
  {
   "cell_type": "code",
   "execution_count": 14,
   "id": "2424144d-b313-4510-a6e3-def957cb59bf",
   "metadata": {},
   "outputs": [
    {
     "data": {
      "text/plain": [
       "'JPY'"
      ]
     },
     "execution_count": 14,
     "metadata": {},
     "output_type": "execute_result"
    }
   ],
   "source": [
    "fx.origin"
   ]
  },
  {
   "cell_type": "code",
   "execution_count": 15,
   "id": "76f94f0a-ccf3-48eb-b98c-ef3baf03d761",
   "metadata": {},
   "outputs": [
    {
     "data": {
      "text/plain": [
       "Stock(JPY, 100)"
      ]
     },
     "execution_count": 15,
     "metadata": {},
     "output_type": "execute_result"
    }
   ],
   "source": [
    "fx.initial(100)"
   ]
  },
  {
   "cell_type": "code",
   "execution_count": 16,
   "id": "951b9529-3029-4bca-a413-6694c4d4c3ea",
   "metadata": {},
   "outputs": [
    {
     "data": {
      "text/plain": [
       "Stock(BTC, 1000)"
      ]
     },
     "execution_count": 16,
     "metadata": {},
     "output_type": "execute_result"
    }
   ],
   "source": [
    "fx.terminal('BTC', 1000)"
   ]
  },
  {
   "cell_type": "code",
   "execution_count": 20,
   "id": "11e81ffc-fa7a-4d10-ab30-65923a1c73b3",
   "metadata": {},
   "outputs": [],
   "source": [
    "fx.generate_terminal('BTC', crange_interval=['max-15m'])"
   ]
  },
  {
   "cell_type": "code",
   "execution_count": 21,
   "id": "7504c970-9e50-4b39-bb29-4b44b6200e7c",
   "metadata": {},
   "outputs": [
    {
     "data": {
      "text/plain": [
       "Wallet({'JPY': Stock(JPY, 115411), 'BTC': Stock(BTC, 33/50000000)})"
      ]
     },
     "execution_count": 21,
     "metadata": {},
     "output_type": "execute_result"
    }
   ],
   "source": [
    "fx.sync_wallet()"
   ]
  },
  {
   "cell_type": "code",
   "execution_count": 22,
   "id": "90806db7-55e3-4cf3-9a0c-bbdd640303b1",
   "metadata": {},
   "outputs": [
    {
     "ename": "FileNotFoundError",
     "evalue": "Directory not found '../data/chart/btcjpy/max-15m'",
     "output_type": "error",
     "traceback": [
      "\u001b[0;31m---------------------------------------------------------------------------\u001b[0m",
      "\u001b[0;31mFileNotFoundError\u001b[0m                         Traceback (most recent call last)",
      "Input \u001b[0;32mIn [22]\u001b[0m, in \u001b[0;36m<cell line: 1>\u001b[0;34m()\u001b[0m\n\u001b[0;32m----> 1\u001b[0m \u001b[43mfx\u001b[49m\u001b[38;5;241;43m.\u001b[39;49m\u001b[43mload_chart\u001b[49m\u001b[43m(\u001b[49m\u001b[43m)\u001b[49m\n",
      "File \u001b[0;32m/work/fxtrade/notebooks/../fxtrade/fx.py:158\u001b[0m, in \u001b[0;36mFX.load_chart\u001b[0;34m(self, start_date)\u001b[0m\n\u001b[1;32m    156\u001b[0m \u001b[38;5;28;01mdef\u001b[39;00m \u001b[38;5;21mload_chart\u001b[39m(\u001b[38;5;28mself\u001b[39m, start_date\u001b[38;5;241m=\u001b[39m\u001b[38;5;28;01mNone\u001b[39;00m):\n\u001b[1;32m    157\u001b[0m     \u001b[38;5;28;01mfor\u001b[39;00m trader \u001b[38;5;129;01min\u001b[39;00m \u001b[38;5;28mself\u001b[39m\u001b[38;5;241m.\u001b[39m_market\u001b[38;5;241m.\u001b[39mvalues():\n\u001b[0;32m--> 158\u001b[0m         \u001b[43mtrader\u001b[49m\u001b[38;5;241;43m.\u001b[39;49m\u001b[43mload_chart\u001b[49m\u001b[43m(\u001b[49m\u001b[43m)\u001b[49m\n\u001b[1;32m    159\u001b[0m     \u001b[38;5;28;01mreturn\u001b[39;00m \u001b[38;5;28mself\u001b[39m\n",
      "File \u001b[0;32m/work/fxtrade/notebooks/../fxtrade/trader.py:68\u001b[0m, in \u001b[0;36mTrader.load_chart\u001b[0;34m(self, t)\u001b[0m\n\u001b[1;32m     67\u001b[0m \u001b[38;5;28;01mdef\u001b[39;00m \u001b[38;5;21mload_chart\u001b[39m(\u001b[38;5;28mself\u001b[39m, t\u001b[38;5;241m=\u001b[39m\u001b[38;5;28;01mNone\u001b[39;00m):\n\u001b[0;32m---> 68\u001b[0m     \u001b[38;5;28;01mreturn\u001b[39;00m \u001b[38;5;28;43mself\u001b[39;49m\u001b[38;5;241;43m.\u001b[39;49m\u001b[43mchart\u001b[49m\u001b[38;5;241;43m.\u001b[39;49m\u001b[43mload\u001b[49m\u001b[43m(\u001b[49m\u001b[43mt\u001b[49m\u001b[38;5;241;43m=\u001b[39;49m\u001b[43mt\u001b[49m\u001b[43m)\u001b[49m\n",
      "File \u001b[0;32m/work/fxtrade/notebooks/../fxtrade/chart.py:427\u001b[0m, in \u001b[0;36mChart.load\u001b[0;34m(self, crange_interval, t, data_dir)\u001b[0m\n\u001b[1;32m    425\u001b[0m     board \u001b[38;5;241m=\u001b[39m \u001b[38;5;28mself\u001b[39m\u001b[38;5;241m.\u001b[39mboard[key]\n\u001b[1;32m    426\u001b[0m     dir_path \u001b[38;5;241m=\u001b[39m data_dir \u001b[38;5;241m/\u001b[39m board\u001b[38;5;241m.\u001b[39mticker \u001b[38;5;241m/\u001b[39m board\u001b[38;5;241m.\u001b[39mcrange_interval\n\u001b[0;32m--> 427\u001b[0m     \u001b[38;5;28mself\u001b[39m\u001b[38;5;241m.\u001b[39mboard[key] \u001b[38;5;241m=\u001b[39m \u001b[43mboard\u001b[49m\u001b[38;5;241;43m.\u001b[39;49m\u001b[43mload\u001b[49m\u001b[43m(\u001b[49m\u001b[43mdir_path\u001b[49m\u001b[43m,\u001b[49m\u001b[43m \u001b[49m\u001b[43mt\u001b[49m\u001b[43m)\u001b[49m\n\u001b[1;32m    429\u001b[0m \u001b[38;5;28;01mreturn\u001b[39;00m \u001b[38;5;28mself\u001b[39m\n",
      "File \u001b[0;32m/work/fxtrade/notebooks/../fxtrade/chart.py:276\u001b[0m, in \u001b[0;36mBoard.load\u001b[0;34m(self, dir_path, t, glob_function, restore_function)\u001b[0m\n\u001b[1;32m    275\u001b[0m \u001b[38;5;28;01mdef\u001b[39;00m \u001b[38;5;21mload\u001b[39m(\u001b[38;5;28mself\u001b[39m, dir_path, t\u001b[38;5;241m=\u001b[39m\u001b[38;5;28;01mNone\u001b[39;00m, glob_function\u001b[38;5;241m=\u001b[39m\u001b[38;5;28;01mNone\u001b[39;00m, restore_function\u001b[38;5;241m=\u001b[39m\u001b[38;5;28;01mNone\u001b[39;00m):\n\u001b[0;32m--> 276\u001b[0m     \u001b[38;5;28mself\u001b[39m\u001b[38;5;241m.\u001b[39mdf \u001b[38;5;241m=\u001b[39m \u001b[38;5;28;43mself\u001b[39;49m\u001b[38;5;241;43m.\u001b[39;49m\u001b[43mread\u001b[49m\u001b[43m(\u001b[49m\u001b[43mdir_path\u001b[49m\u001b[43m,\u001b[49m\u001b[43m \u001b[49m\u001b[43mt\u001b[49m\u001b[43m,\u001b[49m\u001b[43m \u001b[49m\u001b[43mglob_function\u001b[49m\u001b[43m,\u001b[49m\u001b[43m \u001b[49m\u001b[43mrestore_function\u001b[49m\u001b[43m)\u001b[49m\n\u001b[1;32m    277\u001b[0m     \u001b[38;5;28;01mreturn\u001b[39;00m \u001b[38;5;28mself\u001b[39m\n",
      "File \u001b[0;32m/work/fxtrade/notebooks/../fxtrade/chart.py:251\u001b[0m, in \u001b[0;36mBoard.read\u001b[0;34m(self, dir_path, t, glob_function, restore_function)\u001b[0m\n\u001b[1;32m    249\u001b[0m load_dir \u001b[38;5;241m=\u001b[39m Path(dir_path)\n\u001b[1;32m    250\u001b[0m \u001b[38;5;28;01mif\u001b[39;00m \u001b[38;5;129;01mnot\u001b[39;00m load_dir\u001b[38;5;241m.\u001b[39mexists():\n\u001b[0;32m--> 251\u001b[0m     \u001b[38;5;28;01mraise\u001b[39;00m \u001b[38;5;167;01mFileNotFoundError\u001b[39;00m(\u001b[38;5;124mf\u001b[39m\u001b[38;5;124m\"\u001b[39m\u001b[38;5;124mDirectory not found \u001b[39m\u001b[38;5;124m'\u001b[39m\u001b[38;5;132;01m{\u001b[39;00mload_dir\u001b[38;5;132;01m}\u001b[39;00m\u001b[38;5;124m'\u001b[39m\u001b[38;5;124m\"\u001b[39m)\n\u001b[1;32m    253\u001b[0m paths \u001b[38;5;241m=\u001b[39m glob_function(load_dir)\n\u001b[1;32m    254\u001b[0m \u001b[38;5;28;01mif\u001b[39;00m \u001b[38;5;28mlen\u001b[39m(paths) \u001b[38;5;241m==\u001b[39m \u001b[38;5;241m0\u001b[39m:\n",
      "\u001b[0;31mFileNotFoundError\u001b[0m: Directory not found '../data/chart/btcjpy/max-15m'"
     ]
    }
   ],
   "source": [
    "fx.load_chart()"
   ]
  },
  {
   "cell_type": "code",
   "execution_count": 23,
   "id": "f656e883-7858-4387-be7d-6c83a8faab8e",
   "metadata": {},
   "outputs": [
    {
     "ename": "TypeError",
     "evalue": "CryptowatchAPI.download() got an unexpected keyword argument 'ticker'",
     "output_type": "error",
     "traceback": [
      "\u001b[0;31m---------------------------------------------------------------------------\u001b[0m",
      "\u001b[0;31mTypeError\u001b[0m                                 Traceback (most recent call last)",
      "Input \u001b[0;32mIn [23]\u001b[0m, in \u001b[0;36m<cell line: 1>\u001b[0;34m()\u001b[0m\n\u001b[0;32m----> 1\u001b[0m \u001b[43mfx\u001b[49m\u001b[38;5;241;43m.\u001b[39;49m\u001b[43msync_chart\u001b[49m\u001b[43m(\u001b[49m\u001b[43m)\u001b[49m\n",
      "File \u001b[0;32m/work/fxtrade/notebooks/../fxtrade/fx.py:147\u001b[0m, in \u001b[0;36mFX.sync_chart\u001b[0;34m(self)\u001b[0m\n\u001b[1;32m    145\u001b[0m \u001b[38;5;28;01mdef\u001b[39;00m \u001b[38;5;21msync_chart\u001b[39m(\u001b[38;5;28mself\u001b[39m):\n\u001b[1;32m    146\u001b[0m     \u001b[38;5;28;01mfor\u001b[39;00m trader \u001b[38;5;129;01min\u001b[39;00m \u001b[38;5;28mself\u001b[39m\u001b[38;5;241m.\u001b[39m_market\u001b[38;5;241m.\u001b[39mvalues():\n\u001b[0;32m--> 147\u001b[0m         \u001b[43mtrader\u001b[49m\u001b[38;5;241;43m.\u001b[39;49m\u001b[43msync_chart\u001b[49m\u001b[43m(\u001b[49m\u001b[43m)\u001b[49m\n\u001b[1;32m    148\u001b[0m     \u001b[38;5;28;01mreturn\u001b[39;00m \u001b[38;5;28mself\u001b[39m\n",
      "File \u001b[0;32m/work/fxtrade/notebooks/../fxtrade/trader.py:71\u001b[0m, in \u001b[0;36mTrader.sync_chart\u001b[0;34m(self, crange_interval, t, data_dir, update, save)\u001b[0m\n\u001b[1;32m     70\u001b[0m \u001b[38;5;28;01mdef\u001b[39;00m \u001b[38;5;21msync_chart\u001b[39m(\u001b[38;5;28mself\u001b[39m, crange_interval: Union[\u001b[38;5;28mstr\u001b[39m, Iterable[\u001b[38;5;28mstr\u001b[39m]]\u001b[38;5;241m=\u001b[39m\u001b[38;5;28;01mNone\u001b[39;00m, t\u001b[38;5;241m=\u001b[39m\u001b[38;5;28;01mNone\u001b[39;00m, data_dir\u001b[38;5;241m=\u001b[39m\u001b[38;5;28;01mNone\u001b[39;00m, update: \u001b[38;5;28mbool\u001b[39m\u001b[38;5;241m=\u001b[39m\u001b[38;5;28;01mTrue\u001b[39;00m, save: \u001b[38;5;28mbool\u001b[39m\u001b[38;5;241m=\u001b[39m\u001b[38;5;28;01mTrue\u001b[39;00m):\n\u001b[0;32m---> 71\u001b[0m     \u001b[38;5;28;01mreturn\u001b[39;00m \u001b[38;5;28;43mself\u001b[39;49m\u001b[38;5;241;43m.\u001b[39;49m\u001b[43mchart\u001b[49m\u001b[38;5;241;43m.\u001b[39;49m\u001b[43msync\u001b[49m\u001b[43m(\u001b[49m\u001b[43mcrange_interval\u001b[49m\u001b[43m,\u001b[49m\u001b[43m \u001b[49m\u001b[43mt\u001b[49m\u001b[43m,\u001b[49m\u001b[43m \u001b[49m\u001b[43mdata_dir\u001b[49m\u001b[43m,\u001b[49m\u001b[43m \u001b[49m\u001b[43mupdate\u001b[49m\u001b[43m,\u001b[49m\u001b[43m \u001b[49m\u001b[43msave\u001b[49m\u001b[43m)\u001b[49m\n",
      "File \u001b[0;32m/work/fxtrade/notebooks/../fxtrade/chart.py:446\u001b[0m, in \u001b[0;36mChart.sync\u001b[0;34m(self, crange_interval, t, data_dir, update, save)\u001b[0m\n\u001b[1;32m    444\u001b[0m     dir_path \u001b[38;5;241m=\u001b[39m data_dir \u001b[38;5;241m/\u001b[39m board\u001b[38;5;241m.\u001b[39mticker \u001b[38;5;241m/\u001b[39m board\u001b[38;5;241m.\u001b[39mcrange_interval\n\u001b[1;32m    445\u001b[0m     dirmap\u001b[38;5;241m.\u001b[39mensure(dir_path)\n\u001b[0;32m--> 446\u001b[0m     \u001b[43mboard\u001b[49m\u001b[38;5;241;43m.\u001b[39;49m\u001b[43msync\u001b[49m\u001b[43m(\u001b[49m\u001b[43mdir_path\u001b[49m\u001b[43m,\u001b[49m\u001b[43m \u001b[49m\u001b[43mt\u001b[49m\u001b[38;5;241;43m=\u001b[39;49m\u001b[43mt\u001b[49m\u001b[43m,\u001b[49m\u001b[43m \u001b[49m\u001b[43mupdate\u001b[49m\u001b[38;5;241;43m=\u001b[39;49m\u001b[43mupdate\u001b[49m\u001b[43m)\u001b[49m\n\u001b[1;32m    448\u001b[0m \u001b[38;5;28;01mreturn\u001b[39;00m \u001b[38;5;28mself\u001b[39m\n",
      "File \u001b[0;32m/work/fxtrade/notebooks/../fxtrade/chart.py:220\u001b[0m, in \u001b[0;36mBoard.sync\u001b[0;34m(self, dir_path, t, update, refresh_limit, glob_function, restore_function, merge_function)\u001b[0m\n\u001b[1;32m    217\u001b[0m     \u001b[38;5;28;01mreturn\u001b[39;00m \u001b[38;5;28mself\u001b[39m\n\u001b[1;32m    219\u001b[0m \u001b[38;5;28;01mif\u001b[39;00m update:\n\u001b[0;32m--> 220\u001b[0m     \u001b[38;5;28;43mself\u001b[39;49m\u001b[38;5;241;43m.\u001b[39;49m\u001b[43mupdate\u001b[49m\u001b[43m(\u001b[49m\u001b[43mt\u001b[49m\u001b[38;5;241;43m=\u001b[39;49m\u001b[43mt\u001b[49m\u001b[43m,\u001b[49m\u001b[43m \u001b[49m\u001b[43mmerge_function\u001b[49m\u001b[38;5;241;43m=\u001b[39;49m\u001b[43mmerge_function\u001b[49m\u001b[43m)\u001b[49m\n\u001b[1;32m    221\u001b[0m     \u001b[38;5;28mself\u001b[39m\u001b[38;5;241m.\u001b[39msave(dir_path)\n\u001b[1;32m    223\u001b[0m \u001b[38;5;28;01mreturn\u001b[39;00m \u001b[38;5;28mself\u001b[39m\n",
      "File \u001b[0;32m/work/fxtrade/notebooks/../fxtrade/chart.py:197\u001b[0m, in \u001b[0;36mBoard.update\u001b[0;34m(self, t, df, merge_function)\u001b[0m\n\u001b[1;32m    194\u001b[0m     merge_function \u001b[38;5;241m=\u001b[39m default_merge_function\n\u001b[1;32m    196\u001b[0m \u001b[38;5;28;01mif\u001b[39;00m df \u001b[38;5;129;01mis\u001b[39;00m \u001b[38;5;28;01mNone\u001b[39;00m:\n\u001b[0;32m--> 197\u001b[0m     df \u001b[38;5;241m=\u001b[39m \u001b[38;5;28;43mself\u001b[39;49m\u001b[38;5;241;43m.\u001b[39;49m\u001b[43mdownload\u001b[49m\u001b[43m(\u001b[49m\u001b[43mt\u001b[49m\u001b[38;5;241;43m=\u001b[39;49m\u001b[43mt\u001b[49m\u001b[43m)\u001b[49m\n\u001b[1;32m    198\u001b[0m \u001b[38;5;28mself\u001b[39m\u001b[38;5;241m.\u001b[39mdf \u001b[38;5;241m=\u001b[39m merge_function(\u001b[38;5;28mself\u001b[39m\u001b[38;5;241m.\u001b[39mdf, df)\n\u001b[1;32m    199\u001b[0m \u001b[38;5;28;01mreturn\u001b[39;00m \u001b[38;5;28mself\u001b[39m\n",
      "File \u001b[0;32m/work/fxtrade/notebooks/../fxtrade/chart.py:182\u001b[0m, in \u001b[0;36mBoard.download\u001b[0;34m(self, t)\u001b[0m\n\u001b[1;32m    180\u001b[0m \u001b[38;5;28;01mdef\u001b[39;00m \u001b[38;5;21mdownload\u001b[39m(\u001b[38;5;28mself\u001b[39m, t\u001b[38;5;241m=\u001b[39m\u001b[38;5;28;01mNone\u001b[39;00m):\n\u001b[1;32m    181\u001b[0m     crange, interval \u001b[38;5;241m=\u001b[39m \u001b[38;5;28mself\u001b[39m\u001b[38;5;241m.\u001b[39mcrange_interval\u001b[38;5;241m.\u001b[39msplit(\u001b[38;5;124m'\u001b[39m\u001b[38;5;124m-\u001b[39m\u001b[38;5;124m'\u001b[39m)\n\u001b[0;32m--> 182\u001b[0m     df \u001b[38;5;241m=\u001b[39m \u001b[38;5;28;43mself\u001b[39;49m\u001b[38;5;241;43m.\u001b[39;49m\u001b[43mapi\u001b[49m\u001b[38;5;241;43m.\u001b[39;49m\u001b[43mdownload\u001b[49m\u001b[43m(\u001b[49m\u001b[43mticker\u001b[49m\u001b[38;5;241;43m=\u001b[39;49m\u001b[38;5;28;43mself\u001b[39;49m\u001b[38;5;241;43m.\u001b[39;49m\u001b[43mticker\u001b[49m\u001b[43m,\u001b[49m\n\u001b[1;32m    183\u001b[0m \u001b[43m                           \u001b[49m\u001b[43mcrange\u001b[49m\u001b[38;5;241;43m=\u001b[39;49m\u001b[43mcrange\u001b[49m\u001b[43m,\u001b[49m\n\u001b[1;32m    184\u001b[0m \u001b[43m                           \u001b[49m\u001b[43minterval\u001b[49m\u001b[38;5;241;43m=\u001b[39;49m\u001b[43minterval\u001b[49m\u001b[43m,\u001b[49m\n\u001b[1;32m    185\u001b[0m \u001b[43m                           \u001b[49m\u001b[43mt\u001b[49m\u001b[38;5;241;43m=\u001b[39;49m\u001b[43mt\u001b[49m\u001b[43m)\u001b[49m\n\u001b[1;32m    187\u001b[0m     \u001b[38;5;28;01mif\u001b[39;00m t \u001b[38;5;129;01mis\u001b[39;00m \u001b[38;5;129;01mnot\u001b[39;00m \u001b[38;5;28;01mNone\u001b[39;00m:\n\u001b[1;32m    188\u001b[0m         \u001b[38;5;28mself\u001b[39m\u001b[38;5;241m.\u001b[39mdf \u001b[38;5;241m=\u001b[39m \u001b[38;5;28mself\u001b[39m\u001b[38;5;241m.\u001b[39mdf[\u001b[38;5;28mself\u001b[39m\u001b[38;5;241m.\u001b[39mdf\u001b[38;5;241m.\u001b[39mindex \u001b[38;5;241m<\u001b[39m\u001b[38;5;241m=\u001b[39m t]\u001b[38;5;241m.\u001b[39mcopy()\n",
      "\u001b[0;31mTypeError\u001b[0m: CryptowatchAPI.download() got an unexpected keyword argument 'ticker'"
     ]
    }
   ],
   "source": [
    "fx.sync_chart()"
   ]
  },
  {
   "cell_type": "code",
   "execution_count": null,
   "id": "4891167d-a11b-4218-b2f0-3a0937b7f732",
   "metadata": {},
   "outputs": [],
   "source": [
    "df = fx['BTC'].chart['1mo-15m'].df"
   ]
  },
  {
   "cell_type": "code",
   "execution_count": null,
   "id": "66b2ee6b-2b67-46d7-a9c5-92552f7ce8a9",
   "metadata": {},
   "outputs": [],
   "source": [
    "fx['BTC'].chart['1mo-15m'].update()"
   ]
  },
  {
   "cell_type": "code",
   "execution_count": null,
   "id": "99976d94-8e64-42cb-87b8-0993d6c57796",
   "metadata": {},
   "outputs": [],
   "source": [
    "n=-18\n",
    "fx['BTC'].chart['1mo-15m'].df.iloc[n*100:(n+1) * 100]"
   ]
  },
  {
   "cell_type": "code",
   "execution_count": null,
   "id": "5c0ae680-e321-43f1-a48c-f8684332c9d0",
   "metadata": {},
   "outputs": [],
   "source": []
  },
  {
   "cell_type": "code",
   "execution_count": null,
   "id": "56590f41-a1de-40a6-ae2c-897b1c8307bf",
   "metadata": {},
   "outputs": [],
   "source": [
    "raise"
   ]
  },
  {
   "cell_type": "code",
   "execution_count": null,
   "id": "25034cee-66cc-4c79-9a60-f343ae622b59",
   "metadata": {},
   "outputs": [],
   "source": [
    "fx['BTC'].chart.dfs['1mo-15m']"
   ]
  },
  {
   "cell_type": "code",
   "execution_count": null,
   "id": "5eca8369-07d2-4df8-918a-871ab81b5d2e",
   "metadata": {},
   "outputs": [],
   "source": [
    "fx.market"
   ]
  },
  {
   "cell_type": "code",
   "execution_count": null,
   "id": "9abb70ab-98d9-47bb-922b-29af1aa1e617",
   "metadata": {},
   "outputs": [],
   "source": [
    "fx['BTC'].chart.dfs['1mo-15m']"
   ]
  },
  {
   "cell_type": "code",
   "execution_count": null,
   "id": "c76c18d5-afa6-4c22-b5d8-94882496168f",
   "metadata": {},
   "outputs": [],
   "source": [
    "fxemu = fx.create_emulator('../emu', '../emulator')"
   ]
  },
  {
   "cell_type": "code",
   "execution_count": null,
   "id": "778ff92a-e74a-4c25-896d-2aac21d657a9",
   "metadata": {},
   "outputs": [],
   "source": [
    "fxemu['BTC'].api.chart"
   ]
  },
  {
   "cell_type": "code",
   "execution_count": null,
   "id": "6ab053a4-a187-4458-a372-7e9c621b33ac",
   "metadata": {},
   "outputs": [],
   "source": [
    "trade = fx.get_max_available('BTC')"
   ]
  },
  {
   "cell_type": "code",
   "execution_count": null,
   "id": "641c5276-bbd0-4fec-b4b5-4cf1f587ec43",
   "metadata": {},
   "outputs": [],
   "source": [
    "trade.t"
   ]
  },
  {
   "cell_type": "code",
   "execution_count": null,
   "id": "c6e77453-d313-4e27-8d76-466d0e888b67",
   "metadata": {},
   "outputs": [],
   "source": [
    "fxemu['BTC'].buy(trade)"
   ]
  },
  {
   "cell_type": "code",
   "execution_count": null,
   "id": "848c0e88-ed73-4bfb-aea4-69c256930afe",
   "metadata": {},
   "outputs": [],
   "source": [
    "fxemu.wallet"
   ]
  },
  {
   "cell_type": "code",
   "execution_count": null,
   "id": "072ab503-0e40-4cb4-84ae-1ca09133c68b",
   "metadata": {},
   "outputs": [],
   "source": [
    "fxemu.history"
   ]
  },
  {
   "cell_type": "code",
   "execution_count": null,
   "id": "1c729a07-b16f-43b3-9f3b-efe4ec71b446",
   "metadata": {},
   "outputs": [],
   "source": [
    "fxemu['BTC'].chart.api.board['1mo-15m'].df"
   ]
  },
  {
   "cell_type": "code",
   "execution_count": null,
   "id": "70436648-fe98-448d-8ce1-990ea5770d08",
   "metadata": {},
   "outputs": [],
   "source": [
    "from datetime import datetime\n",
    "\n",
    "fxemu['BTC'].chart.download(t=datetime(2022, 9, 1))"
   ]
  },
  {
   "cell_type": "code",
   "execution_count": null,
   "id": "f357deb0-689e-45f2-b2c8-283083aefd43",
   "metadata": {},
   "outputs": [],
   "source": []
  },
  {
   "cell_type": "code",
   "execution_count": null,
   "id": "42feae97-0807-4cd6-8686-3bab27cceda1",
   "metadata": {},
   "outputs": [],
   "source": []
  }
 ],
 "metadata": {
  "kernelspec": {
   "display_name": "Python 3 (ipykernel)",
   "language": "python",
   "name": "python3"
  },
  "language_info": {
   "codemirror_mode": {
    "name": "ipython",
    "version": 3
   },
   "file_extension": ".py",
   "mimetype": "text/x-python",
   "name": "python",
   "nbconvert_exporter": "python",
   "pygments_lexer": "ipython3",
   "version": "3.10.6"
  }
 },
 "nbformat": 4,
 "nbformat_minor": 5
}
