{
 "cells": [
  {
   "cell_type": "code",
   "execution_count": 1,
   "id": "4fcb855a-aa6c-4788-8455-f5828e8c6647",
   "metadata": {},
   "outputs": [],
   "source": [
    "%load_ext autoreload"
   ]
  },
  {
   "cell_type": "code",
   "execution_count": 2,
   "id": "cc20875f-086f-4e1e-a80a-af1d372c6bf6",
   "metadata": {},
   "outputs": [],
   "source": [
    "import pandas as pd"
   ]
  },
  {
   "cell_type": "code",
   "execution_count": 3,
   "id": "70ba25c8-c214-41f3-9cf7-d4cb86bd87e0",
   "metadata": {},
   "outputs": [],
   "source": [
    "import sys\n",
    "\n",
    "if '../' not in sys.path:\n",
    "    sys.path.append('../')\n",
    "\n",
    "if '../../keyhold' not in sys.path:\n",
    "    sys.path.append('../../keyhold')"
   ]
  },
  {
   "cell_type": "code",
   "execution_count": 4,
   "id": "acd111c7-49a4-4770-a861-f6a4cd0c61c9",
   "metadata": {},
   "outputs": [
    {
     "ename": "ModuleNotFoundError",
     "evalue": "No module named 'framehaze'",
     "output_type": "error",
     "traceback": [
      "\u001b[0;31m---------------------------------------------------------------------------\u001b[0m",
      "\u001b[0;31mModuleNotFoundError\u001b[0m                       Traceback (most recent call last)",
      "Input \u001b[0;32mIn [4]\u001b[0m, in \u001b[0;36m<cell line: 1>\u001b[0;34m()\u001b[0m\n\u001b[0;32m----> 1\u001b[0m \u001b[38;5;28;01mimport\u001b[39;00m \u001b[38;5;21;01mframehaze\u001b[39;00m\n",
      "\u001b[0;31mModuleNotFoundError\u001b[0m: No module named 'framehaze'"
     ]
    }
   ],
   "source": [
    "import framehaze"
   ]
  },
  {
   "cell_type": "code",
   "execution_count": null,
   "id": "a55bae9c-a0cb-473c-9672-2768748de8ee",
   "metadata": {},
   "outputs": [],
   "source": [
    "%autoreload\n",
    "\n",
    "from fxtrade.stock import Stock, Rate\n",
    "from fxtrade.trade import Trade, TradePair, History, Report\n",
    "from fxtrade.stocks import JPY, BTC\n",
    "\n",
    "from fxtrade.api import ChartAPI\n",
    "from fxtrade.yfinance import YahooFinanceAPI\n",
    "from fxtrade.chart import Chart"
   ]
  },
  {
   "cell_type": "code",
   "execution_count": null,
   "id": "ffac890f-4c55-459e-bc31-2414132b6182",
   "metadata": {},
   "outputs": [],
   "source": [
    "from keyhold import KeyHold"
   ]
  },
  {
   "cell_type": "code",
   "execution_count": null,
   "id": "425542de-7fb8-4ed2-a490-64dada30f413",
   "metadata": {},
   "outputs": [],
   "source": [
    "key_config = KeyHold()"
   ]
  },
  {
   "cell_type": "code",
   "execution_count": null,
   "id": "03c80ad4-3c7f-4f83-955f-84c3509ccdbb",
   "metadata": {},
   "outputs": [],
   "source": [
    "yfi = YahooFinanceAPI(api_key=key_config['yahoo']['x-api-key'])"
   ]
  },
  {
   "cell_type": "code",
   "execution_count": null,
   "id": "f554c706-8e43-451e-b93a-26664f16de65",
   "metadata": {},
   "outputs": [],
   "source": [
    "chart = Chart(\n",
    "            ticker='BTC-JPY',\n",
    "            api=YahooFinanceAPI(api_key=key_config['yahoo']['x-api-key']),\n",
    "            data_dir='../data/chart'\n",
    "        )"
   ]
  },
  {
   "cell_type": "code",
   "execution_count": null,
   "id": "aab2df7c-7aa1-41d0-a1e1-b13351cf3887",
   "metadata": {},
   "outputs": [],
   "source": [
    "yfi.download_now('BTC-JPY')"
   ]
  },
  {
   "cell_type": "code",
   "execution_count": null,
   "id": "fcb0d5bb-7183-4fa8-a43a-a1ca73ce91e8",
   "metadata": {},
   "outputs": [],
   "source": []
  }
 ],
 "metadata": {
  "kernelspec": {
   "display_name": "Python 3 (ipykernel)",
   "language": "python",
   "name": "python3"
  },
  "language_info": {
   "codemirror_mode": {
    "name": "ipython",
    "version": 3
   },
   "file_extension": ".py",
   "mimetype": "text/x-python",
   "name": "python",
   "nbconvert_exporter": "python",
   "pygments_lexer": "ipython3",
   "version": "3.9.10"
  }
 },
 "nbformat": 4,
 "nbformat_minor": 5
}
