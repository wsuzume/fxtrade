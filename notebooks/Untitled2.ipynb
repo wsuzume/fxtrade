{
 "cells": [
  {
   "cell_type": "code",
   "execution_count": 1,
   "id": "76978a06-28e9-4694-8259-8f257ce0c042",
   "metadata": {},
   "outputs": [],
   "source": [
    "%load_ext autoreload"
   ]
  },
  {
   "cell_type": "code",
   "execution_count": 2,
   "id": "1e25a81f-6aff-4a2a-b67c-76604ad2b28b",
   "metadata": {},
   "outputs": [],
   "source": [
    "import pandas as pd"
   ]
  },
  {
   "cell_type": "code",
   "execution_count": 3,
   "id": "5814089c-da94-4bc7-8bcc-e010dfbd84c8",
   "metadata": {},
   "outputs": [],
   "source": [
    "import sys\n",
    "\n",
    "if '../' not in sys.path:\n",
    "    sys.path.append('../')\n",
    "\n",
    "if '../../keyhold' not in sys.path:\n",
    "    sys.path.append('../../keyhold')"
   ]
  },
  {
   "cell_type": "code",
   "execution_count": 4,
   "id": "38ab68d1-7f6b-4b4e-9f11-91fb8853fc80",
   "metadata": {},
   "outputs": [],
   "source": [
    "%autoreload\n",
    "\n",
    "from fxtrade.stock import Stock, Rate\n",
    "from fxtrade.trade import Trade, TradePair, History, Report\n",
    "from fxtrade.stocks import JPY, BTC\n",
    "\n",
    "from fxtrade.api import ChartAPI\n",
    "from fxtrade.yfinance import YahooFinanceAPI\n",
    "from fxtrade.chart import Chart"
   ]
  },
  {
   "cell_type": "code",
   "execution_count": 5,
   "id": "6182bc60-7eb7-492d-9025-61c721ae94b8",
   "metadata": {},
   "outputs": [],
   "source": [
    "from keyhold import KeyHold"
   ]
  },
  {
   "cell_type": "code",
   "execution_count": 6,
   "id": "6195b309-596d-4add-a9b0-bab0cc92614f",
   "metadata": {},
   "outputs": [],
   "source": [
    "key_config = KeyHold()"
   ]
  },
  {
   "cell_type": "code",
   "execution_count": 7,
   "id": "0b67f7b3-4cd6-44ed-82de-5ac6c25fcbe4",
   "metadata": {},
   "outputs": [],
   "source": [
    "yfi = YahooFinanceAPI(api_key=key_config['yahoo']['x-api-key'])"
   ]
  },
  {
   "cell_type": "code",
   "execution_count": 8,
   "id": "095e4dad-00a8-41bb-99bb-0f7765f09c0d",
   "metadata": {},
   "outputs": [],
   "source": [
    "chart = Chart(\n",
    "            ticker='BTC-JPY',\n",
    "            api=YahooFinanceAPI(api_key=key_config['yahoo']['x-api-key']),\n",
    "            data_dir='../data/chart'\n",
    "        )"
   ]
  },
  {
   "cell_type": "code",
   "execution_count": 9,
   "id": "b705cfc5-1e8f-4e76-9d18-74e7892cbdc5",
   "metadata": {},
   "outputs": [
    {
     "data": {
      "text/plain": [
       "Haze(BTC-JPY, {'10y-1d': '10y-1d', '1mo-15m': '1mo-15m', '5d-1m': '5d-1m'})"
      ]
     },
     "execution_count": 9,
     "metadata": {},
     "output_type": "execute_result"
    }
   ],
   "source": [
    "chart.dirmap"
   ]
  },
  {
   "cell_type": "code",
   "execution_count": 10,
   "id": "830b8795-c9e6-4678-9e8a-b1a5a19f8455",
   "metadata": {},
   "outputs": [
    {
     "name": "stdout",
     "output_type": "stream",
     "text": [
      "[Branch]\n",
      "  ../data/chart/BTC-JPY   ... OK\n",
      "  ../data/chart/BTC-JPY/10y-1d   ... OK\n",
      "  ../data/chart/BTC-JPY/1mo-15m   ... OK\n",
      "  ../data/chart/BTC-JPY/5d-1m   ... OK\n"
     ]
    }
   ],
   "source": [
    "chart.dirmap.ensure()"
   ]
  },
  {
   "cell_type": "code",
   "execution_count": 11,
   "id": "8fb1dedd-bae9-4183-a924-f1f9d442653f",
   "metadata": {},
   "outputs": [
    {
     "data": {
      "text/plain": [
       "Haze(BTC-JPY, {'10y-1d': '10y-1d', '1mo-15m': '1mo-15m', '5d-1m': '5d-1m'})"
      ]
     },
     "execution_count": 11,
     "metadata": {},
     "output_type": "execute_result"
    }
   ],
   "source": [
    "chart.dirmap"
   ]
  },
  {
   "cell_type": "code",
   "execution_count": 12,
   "id": "4db81675-4290-4111-8574-d140c79cb928",
   "metadata": {},
   "outputs": [
    {
     "data": {
      "text/html": [
       "<div>\n",
       "<style scoped>\n",
       "    .dataframe tbody tr th:only-of-type {\n",
       "        vertical-align: middle;\n",
       "    }\n",
       "\n",
       "    .dataframe tbody tr th {\n",
       "        vertical-align: top;\n",
       "    }\n",
       "\n",
       "    .dataframe thead th {\n",
       "        text-align: right;\n",
       "    }\n",
       "</style>\n",
       "<table border=\"1\" class=\"dataframe\">\n",
       "  <thead>\n",
       "    <tr style=\"text-align: right;\">\n",
       "      <th></th>\n",
       "      <th>timestamp</th>\n",
       "      <th>open</th>\n",
       "      <th>close</th>\n",
       "      <th>high</th>\n",
       "      <th>low</th>\n",
       "      <th>volume</th>\n",
       "    </tr>\n",
       "  </thead>\n",
       "  <tbody>\n",
       "  </tbody>\n",
       "</table>\n",
       "</div>"
      ],
      "text/plain": [
       "Empty DataFrame\n",
       "Columns: [timestamp, open, close, high, low, volume]\n",
       "Index: []"
      ]
     },
     "execution_count": 12,
     "metadata": {},
     "output_type": "execute_result"
    }
   ],
   "source": [
    "chart.api.empty"
   ]
  },
  {
   "cell_type": "code",
   "execution_count": 13,
   "id": "dd2674c0-4038-4896-84ab-4e0ddc238bb1",
   "metadata": {},
   "outputs": [
    {
     "data": {
      "text/plain": [
       "PosixPath('../data/chart/BTC-JPY/10y-1d/20220521_chart.csv')"
      ]
     },
     "execution_count": 13,
     "metadata": {},
     "output_type": "execute_result"
    }
   ],
   "source": [
    "chart.dirmap['10y-1d'].last()"
   ]
  },
  {
   "cell_type": "code",
   "execution_count": 14,
   "id": "4353eb2c-c44a-4750-adea-af6333d80105",
   "metadata": {},
   "outputs": [
    {
     "data": {
      "text/plain": [
       "{'10y-1d': Empty DataFrame\n",
       " Columns: [timestamp, open, close, high, low, volume]\n",
       " Index: [],\n",
       " '1mo-15m': Empty DataFrame\n",
       " Columns: [timestamp, open, close, high, low, volume]\n",
       " Index: [],\n",
       " '5d-1m': Empty DataFrame\n",
       " Columns: [timestamp, open, close, high, low, volume]\n",
       " Index: []}"
      ]
     },
     "execution_count": 14,
     "metadata": {},
     "output_type": "execute_result"
    }
   ],
   "source": [
    "chart.dfs"
   ]
  },
  {
   "cell_type": "code",
   "execution_count": 15,
   "id": "e14888f2-529c-45cf-a4da-83b56102ad5e",
   "metadata": {},
   "outputs": [
    {
     "data": {
      "text/html": [
       "<div>\n",
       "<style scoped>\n",
       "    .dataframe tbody tr th:only-of-type {\n",
       "        vertical-align: middle;\n",
       "    }\n",
       "\n",
       "    .dataframe tbody tr th {\n",
       "        vertical-align: top;\n",
       "    }\n",
       "\n",
       "    .dataframe thead th {\n",
       "        text-align: right;\n",
       "    }\n",
       "</style>\n",
       "<table border=\"1\" class=\"dataframe\">\n",
       "  <thead>\n",
       "    <tr style=\"text-align: right;\">\n",
       "      <th></th>\n",
       "      <th>timestamp</th>\n",
       "      <th>open</th>\n",
       "      <th>close</th>\n",
       "      <th>high</th>\n",
       "      <th>low</th>\n",
       "      <th>volume</th>\n",
       "    </tr>\n",
       "  </thead>\n",
       "  <tbody>\n",
       "  </tbody>\n",
       "</table>\n",
       "</div>"
      ],
      "text/plain": [
       "Empty DataFrame\n",
       "Columns: [timestamp, open, close, high, low, volume]\n",
       "Index: []"
      ]
     },
     "execution_count": 15,
     "metadata": {},
     "output_type": "execute_result"
    }
   ],
   "source": [
    "chart.dfs['10y-1d']"
   ]
  },
  {
   "cell_type": "code",
   "execution_count": 16,
   "id": "f6a28bc8-9b29-4ce3-b83a-85eed5b8d0aa",
   "metadata": {},
   "outputs": [
    {
     "data": {
      "text/html": [
       "<div>\n",
       "<style scoped>\n",
       "    .dataframe tbody tr th:only-of-type {\n",
       "        vertical-align: middle;\n",
       "    }\n",
       "\n",
       "    .dataframe tbody tr th {\n",
       "        vertical-align: top;\n",
       "    }\n",
       "\n",
       "    .dataframe thead th {\n",
       "        text-align: right;\n",
       "    }\n",
       "</style>\n",
       "<table border=\"1\" class=\"dataframe\">\n",
       "  <thead>\n",
       "    <tr style=\"text-align: right;\">\n",
       "      <th></th>\n",
       "      <th>timestamp</th>\n",
       "      <th>open</th>\n",
       "      <th>close</th>\n",
       "      <th>high</th>\n",
       "      <th>low</th>\n",
       "      <th>volume</th>\n",
       "    </tr>\n",
       "  </thead>\n",
       "  <tbody>\n",
       "  </tbody>\n",
       "</table>\n",
       "</div>"
      ],
      "text/plain": [
       "Empty DataFrame\n",
       "Columns: [timestamp, open, close, high, low, volume]\n",
       "Index: []"
      ]
     },
     "execution_count": 16,
     "metadata": {},
     "output_type": "execute_result"
    }
   ],
   "source": [
    "chart['10y-1d']"
   ]
  },
  {
   "cell_type": "code",
   "execution_count": 17,
   "id": "33564205-6777-4b6b-b554-e772e4a817ec",
   "metadata": {},
   "outputs": [],
   "source": [
    "#chart.download('10y-1d')"
   ]
  },
  {
   "cell_type": "code",
   "execution_count": 18,
   "id": "884692b3-5dbf-4696-b426-43e1f5261feb",
   "metadata": {},
   "outputs": [],
   "source": [
    "#chart.update('10y-1d')"
   ]
  },
  {
   "cell_type": "code",
   "execution_count": 19,
   "id": "b27337d8-88b7-462d-a8c6-bc041bb85a9e",
   "metadata": {},
   "outputs": [
    {
     "data": {
      "text/html": [
       "<div>\n",
       "<style scoped>\n",
       "    .dataframe tbody tr th:only-of-type {\n",
       "        vertical-align: middle;\n",
       "    }\n",
       "\n",
       "    .dataframe tbody tr th {\n",
       "        vertical-align: top;\n",
       "    }\n",
       "\n",
       "    .dataframe thead th {\n",
       "        text-align: right;\n",
       "    }\n",
       "</style>\n",
       "<table border=\"1\" class=\"dataframe\">\n",
       "  <thead>\n",
       "    <tr style=\"text-align: right;\">\n",
       "      <th></th>\n",
       "      <th>timestamp</th>\n",
       "      <th>open</th>\n",
       "      <th>close</th>\n",
       "      <th>high</th>\n",
       "      <th>low</th>\n",
       "      <th>volume</th>\n",
       "    </tr>\n",
       "  </thead>\n",
       "  <tbody>\n",
       "  </tbody>\n",
       "</table>\n",
       "</div>"
      ],
      "text/plain": [
       "Empty DataFrame\n",
       "Columns: [timestamp, open, close, high, low, volume]\n",
       "Index: []"
      ]
     },
     "execution_count": 19,
     "metadata": {},
     "output_type": "execute_result"
    }
   ],
   "source": [
    "chart['10y-1d']"
   ]
  },
  {
   "cell_type": "code",
   "execution_count": 20,
   "id": "11981111-2404-49c2-81ad-5973d6e85167",
   "metadata": {},
   "outputs": [],
   "source": [
    "#chart.save('10y-1d')"
   ]
  },
  {
   "cell_type": "code",
   "execution_count": 21,
   "id": "4ccb39d7-9c73-4832-a8fe-8d883e0cc584",
   "metadata": {},
   "outputs": [
    {
     "data": {
      "text/html": [
       "<div>\n",
       "<style scoped>\n",
       "    .dataframe tbody tr th:only-of-type {\n",
       "        vertical-align: middle;\n",
       "    }\n",
       "\n",
       "    .dataframe tbody tr th {\n",
       "        vertical-align: top;\n",
       "    }\n",
       "\n",
       "    .dataframe thead th {\n",
       "        text-align: right;\n",
       "    }\n",
       "</style>\n",
       "<table border=\"1\" class=\"dataframe\">\n",
       "  <thead>\n",
       "    <tr style=\"text-align: right;\">\n",
       "      <th></th>\n",
       "      <th>timestamp</th>\n",
       "      <th>open</th>\n",
       "      <th>close</th>\n",
       "      <th>high</th>\n",
       "      <th>low</th>\n",
       "      <th>volume</th>\n",
       "    </tr>\n",
       "  </thead>\n",
       "  <tbody>\n",
       "    <tr>\n",
       "      <th>0</th>\n",
       "      <td>1410912000</td>\n",
       "      <td>4.991267e+04</td>\n",
       "      <td>4.963904e+04</td>\n",
       "      <td>5.019294e+04</td>\n",
       "      <td>4.899278e+04</td>\n",
       "      <td>2285505072</td>\n",
       "    </tr>\n",
       "    <tr>\n",
       "      <th>1</th>\n",
       "      <td>1410998400</td>\n",
       "      <td>4.958758e+04</td>\n",
       "      <td>4.617907e+04</td>\n",
       "      <td>4.956474e+04</td>\n",
       "      <td>4.492919e+04</td>\n",
       "      <td>3751772160</td>\n",
       "    </tr>\n",
       "    <tr>\n",
       "      <th>2</th>\n",
       "      <td>1411084800</td>\n",
       "      <td>4.614241e+04</td>\n",
       "      <td>4.303671e+04</td>\n",
       "      <td>4.671102e+04</td>\n",
       "      <td>4.182939e+04</td>\n",
       "      <td>4133626497</td>\n",
       "    </tr>\n",
       "    <tr>\n",
       "      <th>3</th>\n",
       "      <td>1411171200</td>\n",
       "      <td>4.302330e+04</td>\n",
       "      <td>4.457462e+04</td>\n",
       "      <td>4.614350e+04</td>\n",
       "      <td>4.250114e+04</td>\n",
       "      <td>4018501036</td>\n",
       "    </tr>\n",
       "    <tr>\n",
       "      <th>4</th>\n",
       "      <td>1411257600</td>\n",
       "      <td>4.448534e+04</td>\n",
       "      <td>4.345155e+04</td>\n",
       "      <td>4.495856e+04</td>\n",
       "      <td>4.286066e+04</td>\n",
       "      <td>2895901895</td>\n",
       "    </tr>\n",
       "    <tr>\n",
       "      <th>...</th>\n",
       "      <td>...</td>\n",
       "      <td>...</td>\n",
       "      <td>...</td>\n",
       "      <td>...</td>\n",
       "      <td>...</td>\n",
       "      <td>...</td>\n",
       "    </tr>\n",
       "    <tr>\n",
       "      <th>2799</th>\n",
       "      <td>1652745600</td>\n",
       "      <td>3.850602e+06</td>\n",
       "      <td>3.937877e+06</td>\n",
       "      <td>3.979802e+06</td>\n",
       "      <td>3.825929e+06</td>\n",
       "      <td>3766467904953</td>\n",
       "    </tr>\n",
       "    <tr>\n",
       "      <th>2800</th>\n",
       "      <td>1652832000</td>\n",
       "      <td>3.937698e+06</td>\n",
       "      <td>3.674285e+06</td>\n",
       "      <td>3.962024e+06</td>\n",
       "      <td>3.674285e+06</td>\n",
       "      <td>4002433874429</td>\n",
       "    </tr>\n",
       "    <tr>\n",
       "      <th>2801</th>\n",
       "      <td>1652918400</td>\n",
       "      <td>3.674296e+06</td>\n",
       "      <td>3.875879e+06</td>\n",
       "      <td>3.885577e+06</td>\n",
       "      <td>3.690852e+06</td>\n",
       "      <td>4318148062018</td>\n",
       "    </tr>\n",
       "    <tr>\n",
       "      <th>2802</th>\n",
       "      <td>1653004800</td>\n",
       "      <td>3.875468e+06</td>\n",
       "      <td>3.733752e+06</td>\n",
       "      <td>3.929158e+06</td>\n",
       "      <td>3.675465e+06</td>\n",
       "      <td>3931769079845</td>\n",
       "    </tr>\n",
       "    <tr>\n",
       "      <th>2803</th>\n",
       "      <td>1653145696</td>\n",
       "      <td>3.729626e+06</td>\n",
       "      <td>3.763780e+06</td>\n",
       "      <td>3.770505e+06</td>\n",
       "      <td>3.716114e+06</td>\n",
       "      <td>2966449553408</td>\n",
       "    </tr>\n",
       "  </tbody>\n",
       "</table>\n",
       "<p>2804 rows × 6 columns</p>\n",
       "</div>"
      ],
      "text/plain": [
       "       timestamp          open         close          high           low  \\\n",
       "0     1410912000  4.991267e+04  4.963904e+04  5.019294e+04  4.899278e+04   \n",
       "1     1410998400  4.958758e+04  4.617907e+04  4.956474e+04  4.492919e+04   \n",
       "2     1411084800  4.614241e+04  4.303671e+04  4.671102e+04  4.182939e+04   \n",
       "3     1411171200  4.302330e+04  4.457462e+04  4.614350e+04  4.250114e+04   \n",
       "4     1411257600  4.448534e+04  4.345155e+04  4.495856e+04  4.286066e+04   \n",
       "...          ...           ...           ...           ...           ...   \n",
       "2799  1652745600  3.850602e+06  3.937877e+06  3.979802e+06  3.825929e+06   \n",
       "2800  1652832000  3.937698e+06  3.674285e+06  3.962024e+06  3.674285e+06   \n",
       "2801  1652918400  3.674296e+06  3.875879e+06  3.885577e+06  3.690852e+06   \n",
       "2802  1653004800  3.875468e+06  3.733752e+06  3.929158e+06  3.675465e+06   \n",
       "2803  1653145696  3.729626e+06  3.763780e+06  3.770505e+06  3.716114e+06   \n",
       "\n",
       "             volume  \n",
       "0        2285505072  \n",
       "1        3751772160  \n",
       "2        4133626497  \n",
       "3        4018501036  \n",
       "4        2895901895  \n",
       "...             ...  \n",
       "2799  3766467904953  \n",
       "2800  4002433874429  \n",
       "2801  4318148062018  \n",
       "2802  3931769079845  \n",
       "2803  2966449553408  \n",
       "\n",
       "[2804 rows x 6 columns]"
      ]
     },
     "execution_count": 21,
     "metadata": {},
     "output_type": "execute_result"
    }
   ],
   "source": [
    "chart.load('10y-1d')"
   ]
  },
  {
   "cell_type": "code",
   "execution_count": null,
   "id": "6cdf7afa-96f2-44de-a6bd-d97cccc3a309",
   "metadata": {},
   "outputs": [],
   "source": []
  }
 ],
 "metadata": {
  "kernelspec": {
   "display_name": "Python 3 (ipykernel)",
   "language": "python",
   "name": "python3"
  },
  "language_info": {
   "codemirror_mode": {
    "name": "ipython",
    "version": 3
   },
   "file_extension": ".py",
   "mimetype": "text/x-python",
   "name": "python",
   "nbconvert_exporter": "python",
   "pygments_lexer": "ipython3",
   "version": "3.9.10"
  }
 },
 "nbformat": 4,
 "nbformat_minor": 5
}
